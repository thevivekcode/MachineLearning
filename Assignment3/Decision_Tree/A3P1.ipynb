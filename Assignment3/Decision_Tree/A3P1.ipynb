{
 "cells": [
  {
   "cell_type": "code",
   "execution_count": 1,
   "metadata": {},
   "outputs": [],
   "source": [
    "from xclib.data import data_utils\n",
    "import numpy as np\n",
    "import pandas as pd\n",
    "from math import log2\n",
    "import time\n",
    "import matplotlib.pyplot as plt"
   ]
  },
  {
   "cell_type": "markdown",
   "metadata": {},
   "source": [
    "# Reading the data-set"
   ]
  },
  {
   "cell_type": "code",
   "execution_count": 2,
   "metadata": {},
   "outputs": [
    {
     "name": "stderr",
     "output_type": "stream",
     "text": [
      "/home/vivek/.local/lib/python3.6/site-packages/xclib-0.96-py3.6-linux-x86_64.egg/xclib/data/data_utils.py:173: UserWarning: Header mis-match from inferred shape!\n",
      "  warnings.warn(\"Header mis-match from inferred shape!\")\n"
     ]
    }
   ],
   "source": [
    "# Read sparse file\n",
    "train_x = data_utils.read_sparse_file('ass3_parta_data/train_x.txt', force_header=True)\n",
    "train_x = np.array(train_x.toarray(),dtype =int)\n",
    "train_y = pd.read_csv('ass3_parta_data/train_y.txt', sep=\"\\n\", header=None).to_numpy()\n",
    "\n",
    "test_x = data_utils.read_sparse_file('ass3_parta_data/test_x.txt', force_header=True)\n",
    "test_x = np.array(test_x.toarray(),dtype =int)\n",
    "test_y = pd.read_csv('ass3_parta_data/test_y.txt', sep=\"\\n\", header=None).to_numpy()\n",
    "\n",
    "val_x = data_utils.read_sparse_file('ass3_parta_data/valid_x.txt', force_header=True)\n",
    "val_x = np.array(val_x.toarray(),dtype =int)\n",
    "val_y = pd.read_csv('ass3_parta_data/valid_y.txt', sep=\"\\n\", header=None).to_numpy()"
   ]
  },
  {
   "cell_type": "markdown",
   "metadata": {},
   "source": [
    "# Calculating Entropy"
   ]
  },
  {
   "cell_type": "code",
   "execution_count": 3,
   "metadata": {},
   "outputs": [],
   "source": [
    "def entropy(data):\n",
    "    \"\"\"\n",
    "    Calculates the uncertanity of data :\n",
    "    sparse distibuted data low entropy\n",
    "    mixed distibuted data high entropy\n",
    "    \"\"\"\n",
    "    totaldata = data.shape[0]\n",
    "    Y = data[:,-1]\n",
    "    Totalpositive = Y[Y==1].size\n",
    "    Totalnegative = Y[Y==0].size\n",
    "    H = 0 \n",
    "    \n",
    "    # When only one class of data -> Pure\n",
    "    if Totalpositive ==0 or Totalnegative ==0:\n",
    "        return 0\n",
    "    \n",
    "    else:\n",
    "        positive_ratio = Totalpositive/totaldata\n",
    "        negative_ratio = Totalnegative/totaldata\n",
    "        H = -positive_ratio * log2(positive_ratio) + (-negative_ratio * log2(negative_ratio))\n",
    "        return H"
   ]
  },
  {
   "cell_type": "markdown",
   "metadata": {},
   "source": [
    "# Finding Info-gain "
   ]
  },
  {
   "cell_type": "code",
   "execution_count": 4,
   "metadata": {},
   "outputs": [],
   "source": [
    "def info_gain(data,true_data_index,false_data_index,H):\n",
    "    \"\"\"\n",
    "    Takes data, entropy of that data (H)\n",
    "    as well as a col number to find info_gain \n",
    "    if we split on that col median\n",
    "    \"\"\"\n",
    "\n",
    "    totalDataSize =data.shape[0]\n",
    "    true_data = data[true_data_index]\n",
    "    false_data = data[false_data_index]\n",
    "    \n",
    "    true_branch_ratio = true_data.shape[0]/totalDataSize\n",
    "    false_branch_ratio = false_data.shape[0]/totalDataSize  \n",
    "\n",
    "    if true_branch_ratio == 0 or false_branch_ratio ==0:\n",
    "        return 0\n",
    "    \n",
    "    trueEntropy  = entropy(true_data)\n",
    "    falseEntropy = entropy(false_data)\n",
    "    \n",
    "    I = H - ((true_branch_ratio * trueEntropy) + (false_branch_ratio * falseEntropy))\n",
    "    return I"
   ]
  },
  {
   "cell_type": "code",
   "execution_count": 5,
   "metadata": {},
   "outputs": [],
   "source": [
    "def best_split(data,H):\n",
    "    \n",
    "    best_info_gain = -1\n",
    "    best_attr = -1\n",
    "    split_median = -1\n",
    "    trueIndex = None\n",
    "    falseIndex = None\n",
    "    \n",
    "    # consider all attributes except the last one i.e label *y*\n",
    "    medianList  = np.median(data[:,:-1],axis =0)\n",
    "    col_max = np.max(data[:,:-1], axis=0)\n",
    "    true_data_index = data[:,:-1] <= medianList\n",
    "    false_data_index = data[:,:-1] > medianList\n",
    "\n",
    "    totalcol= data[:,:-1].shape[1]\n",
    "    for colIndex in range(totalcol):\n",
    "        if col_max[colIndex] == 0:\n",
    "            continue\n",
    "        IG = info_gain(data,true_data_index[:,colIndex],false_data_index[:,colIndex],H)\n",
    "\n",
    "        if IG > best_info_gain:\n",
    "            best_info_gain = IG\n",
    "            best_attr = colIndex\n",
    "            split_median = medianList[colIndex]\n",
    "            trueIndex = true_data_index[:,colIndex]\n",
    "            falseIndex = false_data_index[:,colIndex]\n",
    "\n",
    "    return best_attr, split_median, trueIndex,falseIndex, best_info_gain"
   ]
  },
  {
   "cell_type": "markdown",
   "metadata": {},
   "source": [
    "# Decision Node Class\n",
    "\n",
    "Stores necessary info at each node of the decison tree model."
   ]
  },
  {
   "cell_type": "code",
   "execution_count": 6,
   "metadata": {},
   "outputs": [],
   "source": [
    "class Decision_nodes:\n",
    "\n",
    "    total_decision_nodes = 0\n",
    "    depth = 0\n",
    "    \n",
    "    def __init__(self,depth):\n",
    "        self.depth = depth\n",
    "        self.left_child =None\n",
    "        self.right_chid = None\n",
    "        self.column = None\n",
    "        self.split_median = None\n",
    "        self.label = None\n",
    "        self.parent = None\n",
    "        \n",
    "\n",
    "        self.val_x_index  = None\n",
    "        \n",
    "        \n",
    "        self.train_acc = 0\n",
    "        self.test_acc = 0\n",
    "        self.val_acc = 0\n",
    "        \n",
    "        #----------Class Variable ---------------\n",
    "        #counts number of nodes created each time a new node is created\n",
    "        Decision_nodes.total_decision_nodes+=1\n",
    "        \n",
    "        if depth > Decision_nodes.depth:\n",
    "            Decision_nodes.depth = depth\n",
    "        #----------------------------------------\n",
    "\n",
    "    def assignLabel(self,data):\n",
    "        if sum(data[:,-1]==0) >= sum(data[:,-1]==1):\n",
    "            self.label = 0\n",
    "        else:\n",
    "            self.label = 1\n",
    "            \n",
    "            \n",
    "    @classmethod        \n",
    "    def get_node_count(cls):\n",
    "        return cls.total_decision_nodes\n",
    "    @classmethod\n",
    "    def reset_node_count(cls):\n",
    "        cls.total_decision_nodes = 0\n",
    "\n"
   ]
  },
  {
   "cell_type": "markdown",
   "metadata": {},
   "source": [
    "# Decision Tree Class\n",
    "\n",
    "Contains Following Methods: <br>\n",
    "calculate_acc : Calculate accuracy at each node while tree grows <br>\n",
    "Build_tree : Creating tree recursively <br>\n",
    "Predict : Finds Accuracy for a given data <br>\n",
    "node_count : Total nodes in Tree *present* <br>\n",
    "get_all_decesion_nodes : Returns List of all nodes preset in tree *Level Wise* <br>\n",
    "pruning : Method to prune fully grown tree with Validation data"
   ]
  },
  {
   "cell_type": "code",
   "execution_count": 23,
   "metadata": {},
   "outputs": [],
   "source": [
    "class Decision_tree:\n",
    "    \n",
    "\n",
    "    \n",
    "    \n",
    "    def __init__(self,node,train_y,test_y,val_y):\n",
    "        \n",
    "        self.root = node\n",
    "        \n",
    "        self.train_y_pred = [-1]*train_y.shape[0]\n",
    "        self.test_y_pred  = [-1]*test_y.shape[0]\n",
    "        self.val_y_pred = [-1]*val_y.shape[0]\n",
    "        \n",
    "        self.train_y = train_y\n",
    "        self.test_y = test_y\n",
    "        self.val_y = val_y\n",
    "        \n",
    "        self.match_train = 0\n",
    "        self.match_test = 0\n",
    "        self.match_val = 0\n",
    "        \n",
    "        self.train_accuracy = []\n",
    "        self.test_accuracy = []\n",
    "        self.val_accuracy = []\n",
    "        \n",
    "       \n",
    "\n",
    "    def calculate_acc(self,label, Train_data, Test_data, Val_data):\n",
    "#         label =  node.label\n",
    "        \n",
    "        new_match_train = 0\n",
    "        for row in Train_data:\n",
    "            index = row[-1]\n",
    "            if label == self.train_y_pred[index] :\n",
    "                continue\n",
    "            elif label != self.train_y_pred[index]  and label == self.train_y[index]:\n",
    "                self.train_y_pred[index] = label\n",
    "                new_match_train+=1\n",
    "            elif label != self.train_y_pred[index]  and label != self.train_y[index]:\n",
    "                if self.train_y_pred[index] == -1:\n",
    "                    self.train_y_pred[index] = label\n",
    "                    continue\n",
    "                else:\n",
    "                    self.train_y_pred[index] = label\n",
    "                    new_match_train-=1\n",
    "                    \n",
    "        final_match_train = self.match_train + new_match_train\n",
    "        \n",
    "        new_match_test = 0\n",
    "        for row in Test_data:\n",
    "            index = row[-1]\n",
    "            if label == self.test_y_pred[index] :\n",
    "                continue\n",
    "            elif label != self.test_y_pred[index]  and label == self.test_y[index]:\n",
    "                self.test_y_pred[index] = label\n",
    "                new_match_test+=1\n",
    "            elif label != self.test_y_pred[index]  and label != self.test_y[index]:\n",
    "                if self.test_y_pred[index] == -1:\n",
    "                    self.test_y_pred[index] = label\n",
    "                    continue\n",
    "                else:\n",
    "                    self.test_y_pred[index] = label\n",
    "                    new_match_test-=1\n",
    "        final_match_test = self.match_test + new_match_test\n",
    "        \n",
    "        new_match_val = 0\n",
    "        for row in Val_data:\n",
    "            index = row[-1]\n",
    "            if label == self.val_y_pred[index] :\n",
    "                continue\n",
    "            elif label != self.val_y_pred[index]  and label == self.val_y[index]:\n",
    "                self.val_y_pred[index] = label\n",
    "                new_match_val+=1\n",
    "            elif label != self.val_y_pred[index]  and label != self.val_y[index]:\n",
    "                if self.val_y_pred[index] == -1:\n",
    "                    self.val_y_pred[index] = label\n",
    "                    continue\n",
    "                else:\n",
    "                    self.val_y_pred[index] = label\n",
    "                    new_match_val-=1\n",
    "        final_match_val = self.match_val + new_match_val\n",
    "        \n",
    "        acc_train = final_match_train/train_y.shape[0]\n",
    "        acc_test = final_match_test/test_y.shape[0]\n",
    "        acc_val = final_match_val/val_y.shape[0]\n",
    "        return final_match_train,final_match_test, final_match_val,acc_train, acc_test, acc_val\n",
    "        \n",
    "        \n",
    "        \n",
    "                \n",
    "\n",
    "    def Build_tree(self,node, data, Train_data, Test_data, Val_data):\n",
    "\n",
    "\n",
    "        H = entropy(data)\n",
    "        node.assignLabel(data)\n",
    "\n",
    "        node.val_x_index = Val_data[:,-1]\n",
    "        best_attr, split_median, trueIndex, falseIndex, best_info_gain =  best_split(data,H)\n",
    "        \n",
    "        #---------------------------------------------------\n",
    "        final_match_train,final_match_test, final_match_val,acc_train, acc_test, acc_val = self.calculate_acc(node.label,\n",
    "                                                                                                              Train_data, \n",
    "                                                                                                              Test_data, \n",
    "                                                                                                              Val_data)\n",
    "\n",
    "        self.match_train = final_match_train\n",
    "        self.match_test = final_match_test\n",
    "        self.match_val = final_match_val\n",
    "        \n",
    "        node.train_acc = final_match_train\n",
    "        node.test_acc = final_match_test\n",
    "        node.val_acc = final_match_val\n",
    "        #---------------------------------------------------\n",
    "        \n",
    "        nc = Decision_nodes.get_node_count()\n",
    "\n",
    "#         if nc==1 or nc%88 == 1:\n",
    "#             print(\"node count \",nc)\n",
    "#             print(\"train_acc \",acc_train,\"test_acc \",acc_test,\"val_acc \",acc_val)\n",
    "        self.train_accuracy.append((nc,acc_train))\n",
    "        self.test_accuracy.append((nc,acc_test))\n",
    "        self.val_accuracy.append((nc,acc_val))\n",
    "\n",
    "        if H ==0 or best_attr == -1 or best_info_gain <= 0:\n",
    "            return #LEAF\n",
    "\n",
    "        true_branch = data[trueIndex]\n",
    "        false_branch = data[falseIndex]\n",
    "\n",
    "        if true_branch.shape[0] ==0 or false_branch.shape[0]==0:\n",
    "            return #LEAF\n",
    "        \n",
    "\n",
    "        \n",
    "        node.column  = best_attr\n",
    "        node.split_median = split_median\n",
    "\n",
    "\n",
    "        Train_data_left = Train_data[Train_data[:,best_attr] <= split_median]\n",
    "        Train_data_right = Train_data[Train_data[:,best_attr] > split_median]\n",
    "\n",
    "        Test_data_left = Test_data[Test_data[:,best_attr] <= split_median]\n",
    "        Test_data_right = Test_data[Test_data[:,best_attr] > split_median]\n",
    "\n",
    "        Val_data_left = Val_data[Val_data[:,best_attr] <= split_median]\n",
    "        Val_data_right = Val_data[Val_data[:,best_attr] > split_median]\n",
    "\n",
    "        left_node =  Decision_nodes(node.depth+1)\n",
    "        right_node = Decision_nodes(node.depth+1)\n",
    "        \n",
    "        left_node.parent = node\n",
    "        right_node.parent = node\n",
    "\n",
    "        node.left_child = left_node\n",
    "        self.Build_tree(left_node, true_branch, Train_data_left, Test_data_left, Val_data_left)\n",
    "        node.right_chid = right_node\n",
    "        self. Build_tree(right_node, false_branch, Train_data_right, Test_data_right, Val_data_right)\n",
    "\n",
    "        return \n",
    "         \n",
    "        \n",
    "\n",
    "\n",
    "    def classify(self,x,node,mode):\n",
    "     \n",
    "            \n",
    "        if node.left_child ==None and node.right_chid ==None:\n",
    "            for row in x:\n",
    "                index=row[-1]\n",
    "                if mode =='val':\n",
    "                    self.val_y_pred[index]  = node.label\n",
    "                elif mode == 'train':\n",
    "                    self.train_y_pred[index]  = node.label\n",
    "                elif mode == 'test':\n",
    "                    self.test_y_pred[index] = node.label\n",
    "            return \n",
    "\n",
    "        col = node.column\n",
    "        median = node.split_median\n",
    "\n",
    "        left_x = x[x[:,col] <= median]\n",
    "        right_x = x[x[:,col] > median]\n",
    "\n",
    "        self.classify(left_x,node.left_child,mode)    \n",
    "        self.classify(right_x,node.right_chid,mode)\n",
    "        return \n",
    "    \n",
    "        \n",
    "\n",
    "        \n",
    "    def predict(self,x,y):\n",
    "        mode =''\n",
    "        if y.shape[0] == len(self.val_y_pred):\n",
    "            mode ='val'\n",
    "            y_pred = self.val_y_pred\n",
    "        elif y.shape[0] == len(self.train_y_pred):\n",
    "            mode = 'train'\n",
    "            y_pred = self.train_y_pred\n",
    "        elif y.shape[0] == len(self.test_y_pred):\n",
    "            mode = 'test'\n",
    "            y_pred = self.test_y_pred\n",
    "            \n",
    "        match = 0\n",
    "        x = np.append(x,np.arange(y.shape[0]).reshape((-1,1)),axis =1)\n",
    "        self.classify(x, self.root, mode)\n",
    "        for i in range(len(y_pred)):\n",
    "            if y_pred[i] == y[i]:\n",
    "                match += 1\n",
    "        return match/y.shape[0]\n",
    "    \n",
    "    def node_count(self):\n",
    "        count = 0\n",
    "        queue = []\n",
    "        queue.append(self.root)\n",
    "        while(len(queue)!=0):\n",
    "            count+=1\n",
    "            node = queue.pop(0)\n",
    "            if node.left_child:\n",
    "                queue.append(node.left_child)\n",
    "            if node.right_chid:\n",
    "                queue.append(node.right_chid)\n",
    "        return count\n",
    "    \n",
    "    def get_all_decesion_nodes(self):\n",
    "        nodes_list = []\n",
    "        \n",
    "        q = []\n",
    "        q.append(self.root)\n",
    "        \n",
    "        while(len(q)!=0):\n",
    "            node = q.pop(0)\n",
    "            if node.left_child:\n",
    "                q.append(node.left_child)\n",
    "            if node.right_chid:\n",
    "                q.append(node.right_chid)\n",
    "            if node.left_child!=None or node.right_chid!=None :# Decsion node\n",
    "                nodes_list.append(node)\n",
    "        return nodes_list\n",
    "    \n",
    "    def pruning(self):\n",
    "        \"\"\"\n",
    "        pruning the decesion tree to remove\n",
    "        overfitting.\n",
    "        Pruning is done on validation data\n",
    "        \"\"\"\n",
    "\n",
    "        \n",
    "        train_acc_prune = []\n",
    "        test_acc_prune = []\n",
    "        val_acc_prune = []\n",
    "        node_count_list = []\n",
    "        \n",
    "        node_count_list.append(self.node_count())\n",
    "        train_acc_prune.append(self.predict(train_x,train_y))\n",
    "        test_acc_prune.append(self.predict(test_x,test_y))\n",
    "        val_acc_prune.append(self.predict(val_x,val_y))\n",
    "\n",
    "        count  = 0\n",
    "        print(\"entering wihile loop\")\n",
    "\n",
    "        while(True):\n",
    "            count+=1\n",
    "            #--------------------------------------------\n",
    "            best_acc_gain = -1\n",
    "            best_node_to_prune = None\n",
    "            \n",
    "            nodes_list = self.get_all_decesion_nodes()\n",
    "            \n",
    "            for node in nodes_list:\n",
    "               \n",
    "                y_pred = self.val_y_pred.copy()\n",
    "                before_match = self.match_val\n",
    "                before_acc = before_match/len(y_pred)\n",
    "                after_match = before_match\n",
    "                \n",
    "                for index in node.val_x_index:\n",
    "                    if node.label == y_pred[index]:\n",
    "                        continue\n",
    "                    elif node.label != y_pred[index] and node.label == self.val_y[index]:\n",
    "                        y_pred[index]  = node.label\n",
    "                        after_match+=1\n",
    "                    elif node.label != y_pred[index] and node.label != self.val_y[index]:\n",
    "                        y_pred[index]  = node.label\n",
    "                        after_match-=1\n",
    "                    \n",
    "\n",
    "                after_acc = after_match/len(y_pred) \n",
    "\n",
    "                gain  = after_acc - before_acc\n",
    "                if gain > best_acc_gain:\n",
    "#                     print(\"before \",before_acc, self.predict(val_x,val_y) )\n",
    "                    best_node_to_prune = node\n",
    "                    best_acc_gain = gain\n",
    "                    new_val_y_pred = y_pred\n",
    "                    new_match_val = after_match\n",
    "            \n",
    "                    \n",
    "            #---------------------------------------------    \n",
    "            \n",
    "        \n",
    "            if best_acc_gain < 1e-20 or best_node_to_prune ==None:\n",
    "                print(\"stopping here with gain \",best_acc_gain)\n",
    "                break\n",
    "            \n",
    "            self.val_y_pred = new_val_y_pred\n",
    "            self.match_val = new_match_val\n",
    "            \n",
    "            if best_node_to_prune.left_child:\n",
    "                best_node_to_prune.left_child = None\n",
    "            if best_node_to_prune.right_chid:\n",
    "                best_node_to_prune.right_chid = None\n",
    "            \n",
    "            if count%300==1:\n",
    "                node_count_list.append(self.node_count())\n",
    "                train_acc_prune.append(self.predict(train_x,train_y))\n",
    "                test_acc_prune.append(self.predict(test_x,test_y))\n",
    "                val_acc_prune.append(self.predict(val_x,val_y))\n",
    "            \n",
    "        node_count_list.append(self.node_count())\n",
    "        train_acc_prune.append(self.predict(train_x,train_y))\n",
    "        test_acc_prune.append(self.predict(test_x,test_y))\n",
    "        val_acc_prune.append(self.predict(val_x,val_y))\n",
    "        \n",
    "\n",
    "        print(\"train acc {} test acc {} val acc {}\".format(self.predict(train_x,train_y),self.predict(test_x,test_y),self.predict(val_x,val_y)))\n",
    "        tr, = plt.plot(node_count_list,train_acc_prune, label=\"Train Accuracy\")\n",
    "        te, = plt.plot(node_count_list,test_acc_prune, label =\"Test Accuracy\")\n",
    "        vl, = plt.plot(node_count_list,val_acc_prune, label = \"Validation Accuracy\")\n",
    "        plt.xlabel(\"Node Count\")\n",
    "        plt.ylabel(\"Accuracy\")\n",
    "        plt.title(\"Accuracy as we prune the nodes\")\n",
    "        plt.legend()\n",
    "        # grab a reference to the current axes\n",
    "        ax = plt.gca()\n",
    "        # set the xlimits to be the reverse of the current xlimits\n",
    "        ax.set_xlim(ax.get_xlim()[::-1])\n",
    "        # call `draw` to re-render the graph\n",
    "        plt.draw()\n",
    "        plt.show()\n",
    "        return tr,te,vl"
   ]
  },
  {
   "cell_type": "markdown",
   "metadata": {},
   "source": [
    "# Creating indexed data for speeding the process"
   ]
  },
  {
   "cell_type": "code",
   "execution_count": 24,
   "metadata": {},
   "outputs": [],
   "source": [
    "def get_indexed_data(train_x,train_y,test_x,test_y,val_x,val_y):\n",
    "    Train_data = np.append(train_x,train_y.reshape((-1,1)),axis = 1)\n",
    "    Test_data = np.append(test_x,test_y.reshape((-1,1)),axis = 1)\n",
    "    Val_data = np.append(val_x,val_y.reshape((-1,1)),axis = 1)\n",
    "    data = Train_data.copy()\n",
    "    #index col\n",
    "    Train_data = np.append(Train_data,np.arange(Train_data.shape[0]).reshape((-1,1)),axis =1)\n",
    "    Test_data = np.append(Test_data,np.arange(Test_data.shape[0]).reshape((-1,1)),axis =1)\n",
    "    Val_data = np.append(Val_data,np.arange(Val_data.shape[0]).reshape((-1,1)),axis =1)\n",
    "    return Train_data, Test_data, Val_data,data\n",
    "\n",
    "Train_data, Test_data, Val_data, data = get_indexed_data(train_x,train_y,test_x ,test_y ,val_x ,val_y )"
   ]
  },
  {
   "cell_type": "markdown",
   "metadata": {},
   "source": [
    "# Part A\n",
    "Growing the tree recusively. <br>\n",
    "Calculating the accuracy at each node as the tree keeps growing. <br>\n",
    "Plotting the graph of Nodes vs Accuracy"
   ]
  },
  {
   "cell_type": "code",
   "execution_count": 14,
   "metadata": {},
   "outputs": [
    {
     "name": "stdout",
     "output_type": "stream",
     "text": [
      "PART A:\n",
      "206.02070903778076\n"
     ]
    }
   ],
   "source": [
    "print(\"PART A:\")\n",
    "s= time.time()\n",
    "\n",
    "root = Decision_nodes(0)\n",
    "\n",
    "tree = Decision_tree(root,train_y,test_y ,val_y )\n",
    "\n",
    "tree.Build_tree(root, data, Train_data, Test_data, Val_data)\n",
    "\n",
    "print(time.time()-s)"
   ]
  },
  {
   "cell_type": "code",
   "execution_count": 15,
   "metadata": {},
   "outputs": [
    {
     "name": "stdout",
     "output_type": "stream",
     "text": [
      "Train 0.9043932440158855 Test 0.779843308145195 Val 0.7761913591692935\n"
     ]
    }
   ],
   "source": [
    "print(\"Train {} Test {} Val {}\".format(tree.predict(train_x,train_y),tree.predict(test_x,test_y),tree.predict(val_x,val_y)))"
   ]
  },
  {
   "cell_type": "code",
   "execution_count": 29,
   "metadata": {},
   "outputs": [],
   "source": [
    "# import pickle \n",
    "# with open(\"tree\",'wb') as f:\n",
    "#     pickle.dump(tree,f)\n",
    "\n",
    "# import pickle\n",
    "# with open('tree','rb') as f:\n",
    "#     tree = pickle.load(f)"
   ]
  },
  {
   "cell_type": "code",
   "execution_count": 17,
   "metadata": {},
   "outputs": [],
   "source": [
    "# %matplotlib qt\n",
    "def plot_node_vs_acc(tree):\n",
    "    tr, = plt.plot([i[0] for i in tree.train_accuracy] ,[i[1] for i in tree.train_accuracy],label=\"train\")\n",
    "    te, = plt.plot([i[0] for i in tree.test_accuracy] ,[i[1] for i in tree.test_accuracy],label=\"test\")\n",
    "    vl, = plt.plot([i[0] for i in tree.val_accuracy] ,[i[1] for i in tree.val_accuracy],label=\"val\")\n",
    "    plt.xlabel(\"Number of nodes\")\n",
    "    plt.ylabel(\"Accuracies\")\n",
    "    plt.title(\"Train, Test and Val Accuracy while growing Decision Tree\")\n",
    "    plt.legend()\n",
    "    plt.show()\n",
    "    return tr,te,vl"
   ]
  },
  {
   "cell_type": "code",
   "execution_count": 18,
   "metadata": {},
   "outputs": [
    {
     "data": {
      "image/png": "[encoded data removed]",
      "text/plain": [
       "<Figure size 432x288 with 1 Axes>"
      ]
     },
     "metadata": {},
     "output_type": "display_data"
    },
    {
     "data": {
      "text/plain": [
       "(<matplotlib.lines.Line2D at 0x7fce9bd9e198>,\n",
       " <matplotlib.lines.Line2D at 0x7fce9bd9e2e8>,\n",
       " <matplotlib.lines.Line2D at 0x7fce9bd9e748>)"
      ]
     },
     "execution_count": 18,
     "metadata": {},
     "output_type": "execute_result"
    }
   ],
   "source": [
    "plot_node_vs_acc(tree)"
   ]
  },
  {
   "cell_type": "markdown",
   "metadata": {},
   "source": [
    "# Part B\n",
    "Plotting the graph for nodes vs Accuracy in pruning the tree"
   ]
  },
  {
   "cell_type": "code",
   "execution_count": 30,
   "metadata": {},
   "outputs": [
    {
     "name": "stdout",
     "output_type": "stream",
     "text": [
      "PART B:\n",
      "19977\n"
     ]
    }
   ],
   "source": [
    "print(\"PART B:\")\n",
    "print(tree.node_count())"
   ]
  },
  {
   "cell_type": "code",
   "execution_count": 27,
   "metadata": {},
   "outputs": [
    {
     "name": "stdout",
     "output_type": "stream",
     "text": [
      "entering wihile loop\n",
      "stopping here with gain  0.0\n",
      "train acc 0.8164510994699674 test acc 0.7939826619071902 val acc 0.8049786760615613\n"
     ]
    },
    {
     "data": {
      "image/png": "[encoded data removed]",
      "text/plain": [
       "<Figure size 432x288 with 1 Axes>"
      ]
     },
     "metadata": {},
     "output_type": "display_data"
    },
    {
     "data": {
      "text/plain": [
       "(<matplotlib.lines.Line2D at 0x7fcea4ad29b0>,\n",
       " <matplotlib.lines.Line2D at 0x7fcea4ad2da0>,\n",
       " <matplotlib.lines.Line2D at 0x7fcea4ae1128>)"
      ]
     },
     "execution_count": 27,
     "metadata": {},
     "output_type": "execute_result"
    }
   ],
   "source": [
    "Decision_tree.pruning(tree)"
   ]
  },
  {
   "cell_type": "code",
   "execution_count": 23,
   "metadata": {},
   "outputs": [],
   "source": [
    "post_order=[]\n",
    "def pot(node):\n",
    "    if node!=None:\n",
    "        if node.left_child ==  None and node.right_chid ==None:\n",
    "            return \n",
    "        pot(node.left_child)\n",
    "\n",
    "        pot(node.right_chid)\n",
    "\n",
    "        post_order.append(node)     "
   ]
  },
  {
   "cell_type": "code",
   "execution_count": 24,
   "metadata": {},
   "outputs": [],
   "source": [
    "from tqdm import tqdm\n",
    "def prun(tree):\n",
    "    train_acc_prune = []\n",
    "    test_acc_prune = []\n",
    "    val_acc_prune = []\n",
    "    node_count_list = []    \n",
    "    count = 0\n",
    "    print(len(post_order))\n",
    "    for node in tqdm(post_order):\n",
    "        count+=1\n",
    "        y_pred = tree.val_y_pred.copy()\n",
    "        before_match = tree.match_val\n",
    "        before_acc = before_match/len(y_pred)\n",
    "        after_match = before_match\n",
    "\n",
    "        for index in node.val_x_index:\n",
    "            if node.label == y_pred[index]:\n",
    "                continue\n",
    "            elif node.label != y_pred[index] and node.label == tree.val_y[index]:\n",
    "                y_pred[index]  = node.label\n",
    "                after_match+=1\n",
    "            elif node.label != y_pred[index] and node.label != tree.val_y[index]:\n",
    "                y_pred[index]  = node.label\n",
    "                after_match-=1\n",
    "                \n",
    "        after_acc = after_match/len(y_pred) \n",
    "        if after_acc >= before_acc:\n",
    "            tree.val_y_pred = y_pred\n",
    "            tree.match_val = after_match\n",
    "            node.left_child = None\n",
    "            node.right_chid = None\n",
    "        if count%1000==1:\n",
    "            node_count_list.append(tree.node_count())\n",
    "            train_acc_prune.append(tree.predict(train_x,train_y))\n",
    "            test_acc_prune.append(tree.predict(test_x,test_y))\n",
    "            val_acc_prune.append(tree.predict(val_x,val_y))\n",
    "            \n",
    "    node_count_list.append(tree.node_count())\n",
    "    train_acc_prune.append(tree.predict(train_x,train_y))\n",
    "    test_acc_prune.append(tree.predict(test_x,test_y))\n",
    "    val_acc_prune.append(tree.predict(val_x,val_y))   \n",
    "\n",
    "    print(\"train acc {} test acc {} val acc {}\".format(tree.predict(train_x,train_y),tree.predict(test_x,test_y),tree.predict(val_x,val_y)))\n",
    "    tr, = plt.plot(node_count_list,train_acc_prune, label=\"Train Accuracy\")\n",
    "    te, = plt.plot(node_count_list,test_acc_prune, label =\"Test Accuracy\")\n",
    "    vl, = plt.plot(node_count_list,val_acc_prune, label = \"Validation Accuracy\")\n",
    "    plt.xlabel(\"Node Count\")\n",
    "    plt.ylabel(\"Accuracy\")\n",
    "    plt.title(\"Accuracy as we prune the nodes\")\n",
    "    plt.legend()\n",
    "    # grab a reference to the current axes\n",
    "    ax = plt.gca()\n",
    "    # set the xlimits to be the reverse of the current xlimits\n",
    "    ax.set_xlim(ax.get_xlim()[::-1])\n",
    "    # call `draw` to re-render the graph\n",
    "    plt.draw()\n",
    "    plt.show()\n",
    "    return tr,te,vl"
   ]
  },
  {
   "cell_type": "code",
   "execution_count": 25,
   "metadata": {},
   "outputs": [],
   "source": [
    "# pot(tree.root)"
   ]
  },
  {
   "cell_type": "code",
   "execution_count": 26,
   "metadata": {},
   "outputs": [
    {
     "name": "stdout",
     "output_type": "stream",
     "text": [
      "total decision nodes 9988\n"
     ]
    }
   ],
   "source": [
    "# print(\"total decision nodes\",len(post_order))"
   ]
  },
  {
   "cell_type": "code",
   "execution_count": 27,
   "metadata": {},
   "outputs": [
    {
     "name": "stderr",
     "output_type": "stream",
     "text": [
      "\r",
      "  0%|          | 0/9988 [00:00<?, ?it/s]"
     ]
    },
    {
     "name": "stdout",
     "output_type": "stream",
     "text": [
      "9988\n"
     ]
    },
    {
     "name": "stderr",
     "output_type": "stream",
     "text": [
      "100%|██████████| 9988/9988 [00:18<00:00, 530.27it/s] \n"
     ]
    },
    {
     "name": "stdout",
     "output_type": "stream",
     "text": [
      "train acc 0.8321048321048321 test acc 0.7975522692503825 val acc 0.8245410717596885\n"
     ]
    },
    {
     "data": {
      "image/png": "[encoded data removed]",
      "text/plain": [
       "<Figure size 432x288 with 1 Axes>"
      ]
     },
     "metadata": {},
     "output_type": "display_data"
    },
    {
     "data": {
      "text/plain": [
       "(<matplotlib.lines.Line2D at 0x7f9928e1a588>,\n",
       " <matplotlib.lines.Line2D at 0x7f9928e0aef0>,\n",
       " <matplotlib.lines.Line2D at 0x7f9928e0a3c8>)"
      ]
     },
     "execution_count": 27,
     "metadata": {},
     "output_type": "execute_result"
    }
   ],
   "source": [
    "# prun(tree)"
   ]
  },
  {
   "cell_type": "code",
   "execution_count": null,
   "metadata": {},
   "outputs": [],
   "source": [
    "# def classify(row,node,depth):\n",
    "\n",
    "#     if node.depth == depth:\n",
    "#         return node.label\n",
    "#     if node.left_child ==None and node.right_chid ==None:\n",
    "#         return node.label\n",
    "\n",
    "#     col = node.column\n",
    "#     median = node.split_median\n",
    "#     if row[col] <= median:\n",
    "#         return classify(row, node.left_child,depth)\n",
    "#     elif node.right_chid ==None:\n",
    "#         return node.label\n",
    "#     else:\n",
    "#         return classify(row, node.right_chid,depth)\n",
    "\n",
    "# def depthWiseAcc(x,y):\n",
    "#     acc = []\n",
    "#     for i in range(55):\n",
    "#         r = tree.root\n",
    "#         prediction = []\n",
    "#         for row in x:\n",
    "#             prediction.append(classify(row,r,i))\n",
    "#         match=0\n",
    "#         for i in range(len(prediction)):\n",
    "#             if y[i]==prediction[i]:\n",
    "#                 match+=1\n",
    "#         acc.append(match/len(prediction))\n",
    "        \n",
    "#     return acc\n",
    "# tr=depthWiseAcc(train_x,train_y)\n",
    "# te=depthWiseAcc(test_x,test_y)\n",
    "# vl = depthWiseAcc(val_x,val_y)\n",
    "\n",
    "# %matplotlib qt\n",
    "# plt.plot(np.arange(55),tr,label=\"train\")\n",
    "# plt.plot(np.arange(55),te,label=\"test\")\n",
    "# plt.plot(np.arange(55),vl,label=\"val\")\n",
    "# plt.xlabel(\"Levels in Decision Tree\")\n",
    "# plt.ylabel(\"Accuracies\")\n",
    "# plt.title(\"Train, Test and Val Accuracy while growing Decision Tree Level Wise\")\n",
    "# plt.legend()\n",
    "# plt.show()"
   ]
  },
  {
   "cell_type": "markdown",
   "metadata": {},
   "source": [
    "# Part C"
   ]
  },
  {
   "cell_type": "code",
   "execution_count": null,
   "metadata": {},
   "outputs": [],
   "source": [
    "import numpy as np\n",
    "from sklearn.ensemble import RandomForestClassifier\n",
    "from sklearn.model_selection import GridSearchCV\n",
    "\n",
    "param_test = {'n_estimators':np.arange(50,550,100),\n",
    "              'max_features':np.arange(0.1,1.0,0.2),\n",
    "              'min_samples_split': np.arange(2,12,2)}"
   ]
  },
  {
   "cell_type": "code",
   "execution_count": null,
   "metadata": {},
   "outputs": [],
   "source": [
    "from sklearn.metrics import  make_scorer\n",
    "def oob_score(model,X,Y):\n",
    "    return model.oob_score_\n",
    "  \n",
    "# score = make_scorer(oob_score)\n",
    "forest =  RandomForestClassifier(n_jobs=-1,oob_score=True)\n",
    "\n",
    "search = GridSearchCV(estimator=forest, param_grid=param_test, cv=3,verbose=3,scoring=oob_score)"
   ]
  },
  {
   "cell_type": "code",
   "execution_count": null,
   "metadata": {},
   "outputs": [],
   "source": [
    "search.fit(train_x, train_y.ravel())"
   ]
  },
  {
   "cell_type": "code",
   "execution_count": null,
   "metadata": {},
   "outputs": [],
   "source": [
    "print(search.best_params_)"
   ]
  },
  {
   "cell_type": "markdown",
   "metadata": {},
   "source": [
    "__ n_estimators:  350 __ <br>\n",
    "__ max_features:  0.1 __ <br>\n",
    "__ min_samples_split:  10 __ <br>"
   ]
  },
  {
   "cell_type": "markdown",
   "metadata": {},
   "source": [
    "# Part D"
   ]
  },
  {
   "cell_type": "code",
   "execution_count": null,
   "metadata": {},
   "outputs": [],
   "source": [
    "n_estimators = np.arange(50,1000,100)\n",
    "a=np.linspace(0.01,0.1,10)\n",
    "b=np.linspace(0.2,0.9,10)\n",
    "max_features = np.append(a,b)\n",
    "min_samples_split =  np.arange(2,100,2)"
   ]
  },
  {
   "cell_type": "code",
   "execution_count": 2,
   "metadata": {},
   "outputs": [],
   "source": [
    "def n_estimators_plot():\n",
    "    n_estimators_test_acc = []\n",
    "    n_estimators_val_acc = []\n",
    "    for i in n_estimators:\n",
    "        model = RandomForestClassifier(n_jobs=-1,max_features = 0.1,min_samples_split = 10 ,n_estimators=i)\n",
    "        model.fit(train_x,train_y)\n",
    "        n_estimators_test_acc.append(model.score(test_x,test_y))\n",
    "        n_estimators_val_acc.append(model.score(val_x,val_y))\n",
    "\n",
    "    a, =plt.plot(n_estimators,n_estimators_test_acc,label=\"test\")\n",
    "    b, =plt.plot(n_estimators,n_estimators_val_acc,label=\"val\")\n",
    "    plt.xlabel('n_estimators',color='red')\n",
    "    plt.ylabel('Accuracies',color='red')\n",
    "    plt.title(\"Varying n_estimators\")\n",
    "    plt.legend()\n",
    "    plt.show()\n",
    "    return a,b"
   ]
  },
  {
   "cell_type": "code",
   "execution_count": null,
   "metadata": {},
   "outputs": [],
   "source": [
    "n_estimators_plot()"
   ]
  },
  {
   "cell_type": "code",
   "execution_count": null,
   "metadata": {},
   "outputs": [],
   "source": [
    "def max_features_plot():\n",
    "    max_features_test_acc = []\n",
    "    max_features_val_acc = []\n",
    "    for i in max_features:\n",
    "        model = RandomForestClassifier(n_jobs=-1,max_features = i,min_samples_split = 10 ,n_estimators=350)\n",
    "        model.fit(train_x,train_y)\n",
    "        max_features_test_acc.append(model.score(test_x,test_y))\n",
    "        max_features_val_acc.append(model.score(val_x,val_y))\n",
    "\n",
    "    a, = plt.plot(max_features,max_features_test_acc,label=\"test\")\n",
    "    b, = plt.plot(max_features,max_features_val_acc,label=\"val\")\n",
    "    plt.xlabel('max_features',color='red')\n",
    "    plt.ylabel('Accuracies',color='red')\n",
    "    plt.title(\"Varying max_features\")\n",
    "    plt.legend()\n",
    "    plt.show()\n",
    "    return a,b"
   ]
  },
  {
   "cell_type": "code",
   "execution_count": null,
   "metadata": {},
   "outputs": [],
   "source": [
    "max_features_plot()"
   ]
  },
  {
   "cell_type": "code",
   "execution_count": null,
   "metadata": {},
   "outputs": [],
   "source": [
    "def min_samples_split_plot():\n",
    "    min_samples_split_test_acc = []\n",
    "    min_samples_split_val_acc = []\n",
    "    for i in min_samples_split:\n",
    "        model = RandomForestClassifier(n_jobs=-1,max_features = 0.1,min_samples_split = i ,n_estimators=350)\n",
    "        model.fit(train_x,train_y)\n",
    "        min_samples_split_test_acc.append(model.score(test_x,test_y))\n",
    "        min_samples_split_val_acc.append(model.score(val_x,val_y))\n",
    "\n",
    "\n",
    "\n",
    "    a, = plt.plot(min_samples_split,min_samples_split_test_acc,label=\"test\")\n",
    "    b, = plt.plot(min_samples_split,min_samples_split_val_acc,label=\"val\")\n",
    "    plt.xlabel('min_samples_split',color='red')\n",
    "    plt.ylabel('Accuracies',color='red')\n",
    "    plt.title(\"Varying min_samples_split\")\n",
    "    plt.legend()\n",
    "    plt.show()\n",
    "    return a,b"
   ]
  },
  {
   "cell_type": "code",
   "execution_count": null,
   "metadata": {},
   "outputs": [],
   "source": [
    "min_samples_split_plot()"
   ]
  },
  {
   "cell_type": "code",
   "execution_count": null,
   "metadata": {},
   "outputs": [],
   "source": []
  },
  {
   "cell_type": "code",
   "execution_count": null,
   "metadata": {},
   "outputs": [],
   "source": []
  }
 ],
 "metadata": {
  "kernelspec": {
   "display_name": "Python 3",
   "language": "python",
   "name": "python3"
  },
  "language_info": {
   "codemirror_mode": {
    "name": "ipython",
    "version": 3
   },
   "file_extension": ".py",
   "mimetype": "text/x-python",
   "name": "python",
   "nbconvert_exporter": "python",
   "pygments_lexer": "ipython3",
   "version": "3.6.5"
  }
 },
 "nbformat": 4,
 "nbformat_minor": 2
}
