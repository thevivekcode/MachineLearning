{
 "cells": [
  {
   "cell_type": "code",
   "execution_count": 1,
   "metadata": {},
   "outputs": [],
   "source": [
    "import numpy as np\n",
    "import pandas as pd\n",
    "import time\n",
    "import matplotlib.pyplot as plt"
   ]
  },
  {
   "cell_type": "code",
   "execution_count": 2,
   "metadata": {},
   "outputs": [],
   "source": [
    "train_data  = pd.read_csv(\"./Alphabets/train.csv\",header=None).to_numpy()"
   ]
  },
  {
   "cell_type": "code",
   "execution_count": 3,
   "metadata": {},
   "outputs": [],
   "source": [
    "train_x = train_data[:,:-1].astype('float128')\n",
    "train_y = train_data[:,-1]"
   ]
  },
  {
   "cell_type": "code",
   "execution_count": 4,
   "metadata": {},
   "outputs": [
    {
     "data": {
      "text/plain": [
       "<matplotlib.image.AxesImage at 0x7f5e75aa10f0>"
      ]
     },
     "execution_count": 4,
     "metadata": {},
     "output_type": "execute_result"
    },
    {
     "data": {
      "image/png": "[encoded data removed]",
      "text/plain": [
       "<Figure size 432x288 with 1 Axes>"
      ]
     },
     "metadata": {},
     "output_type": "display_data"
    }
   ],
   "source": [
    "\"\"\"data consists of 26 english alphabets\"\"\"\n",
    "plt.imshow(train_x[28,:].astype('int').reshape((28,28)),cmap='gray')"
   ]
  },
  {
   "cell_type": "code",
   "execution_count": 5,
   "metadata": {},
   "outputs": [],
   "source": [
    "def sigmoid(x):\n",
    "    return 1/(1+np.exp(-x))"
   ]
  },
  {
   "cell_type": "code",
   "execution_count": 6,
   "metadata": {},
   "outputs": [],
   "source": [
    "def oneHotEncoding(y): #y is list of ouput label 0<=y<26\n",
    "    \"\"\" converts y label to vector representation called One Hot Encoding \"\"\"\n",
    "    a = np.array(y)\n",
    "    b = np.zeros((a.size, 26))\n",
    "    b[np.arange(a.size),a] = 1\n",
    "    return b"
   ]
  },
  {
   "cell_type": "code",
   "execution_count": 7,
   "metadata": {},
   "outputs": [],
   "source": [
    "class neuralNetwork:\n",
    "    \"\"\"Assuming fully connected network\"\"\"\n",
    "    \n",
    "    def __inti__(self, mini_batch_size, total_input_features, architecture, total_target_class):\n",
    "        self.mini_batch_size  = mini_batch_size\n",
    "        self.total_input_features = total_input_features\n",
    "        self.architecture = architecture # this is list of nodes in hidden layer\n",
    "        self.total_target_class = total_target_class\n",
    "        "
   ]
  },
  {
   "cell_type": "code",
   "execution_count": 8,
   "metadata": {},
   "outputs": [],
   "source": [
    "def initalize_parameters(total_input_features , architecture, total_target_class):\n",
    "    parameter = dict()\n",
    "    total_layers_architecture = architecture  + [total_target_class]\n",
    "    \n",
    "    for layer, total_neurons in enumerate(total_layers_architecture):\n",
    "        layerNumber = layer+1\n",
    "        layerInputSize = total_input_features + 1\n",
    "        layerOutputSize = total_neurons\n",
    "        \"\"\"random floats sampled from a univariate *normal* (Gaussian)\n",
    "            distribution of mean 0 and variance 1\"\"\"\n",
    "        layer_parameter = np.random.randn(layerOutputSize, layerInputSize)*0.1\n",
    "#         print(layerNumber)\n",
    "        parameter[layerNumber] = layer_parameter\n",
    "        total_input_features = layerOutputSize\n",
    "    \n",
    "    return parameter"
   ]
  },
  {
   "cell_type": "code",
   "execution_count": 9,
   "metadata": {},
   "outputs": [],
   "source": [
    "def layer_feedforward(current_input,parameters):\n",
    "    total_examples = current_input.shape[0]\n",
    "    X = np.append(np.ones((total_examples,1)),current_input,axis=1)\n",
    "    netJ = np.dot(X,parameters.T)\n",
    "    opJ  = sigmoid(netJ)\n",
    "    return opJ,X"
   ]
  },
  {
   "cell_type": "code",
   "execution_count": 10,
   "metadata": {},
   "outputs": [],
   "source": [
    "def full_feedForward(X,architecture,total_target_class):\n",
    "    layer_input = dict()\n",
    "    layer_ouput = dict()\n",
    "    current_input = X \n",
    "    total_layers_architecture = architecture  + [total_target_class]\n",
    "    \n",
    "    for layer,totalNeuron in enumerate(total_layers_architecture):\n",
    "        layerNumber = layer+1 # hidden layer\n",
    "        current_parameter = parameter[layerNumber]\n",
    "        singleLayer_output,singleLayer_input = layer_feedforward(current_input, current_parameter)\n",
    "        print(singleLayer_output.shape)\n",
    "        layer_ouput[layerNumber] = singleLayer_output\n",
    "        layer_input[layerNumber] = singleLayer_input\n",
    "        current_input = singleLayer_output\n",
    "    \n",
    "    return layer_ouput, layer_input, singleLayer_output\n",
    "\n",
    "    \"\"\"         last single layer output is the output of entire neural network\n",
    "                 to be used for calculating new loss function value                   \"\"\"\n",
    "        \n",
    "        \n",
    "    "
   ]
  },
  {
   "cell_type": "code",
   "execution_count": 11,
   "metadata": {},
   "outputs": [
    {
     "name": "stdout",
     "output_type": "stream",
     "text": [
      "(50, 50)\n",
      "(50, 100)\n",
      "(50, 26)\n"
     ]
    }
   ],
   "source": [
    "parameter=initalize_parameters(784,[50,100],26)\n",
    "layer_ouput, layer_input, final_op = full_feedForward(train_x[:50,:],[52,52],26)"
   ]
  },
  {
   "cell_type": "code",
   "execution_count": 12,
   "metadata": {},
   "outputs": [
    {
     "data": {
      "text/plain": [
       "(50, 26)"
      ]
     },
     "execution_count": 12,
     "metadata": {},
     "output_type": "execute_result"
    }
   ],
   "source": [
    "final_op.shape"
   ]
  },
  {
   "cell_type": "code",
   "execution_count": 13,
   "metadata": {},
   "outputs": [],
   "source": [
    "def costFunction(y,layer_ouput):\n",
    "    Y = oneHotEncoding(y)\n",
    "    return (np.sum((Y-layer_ouput)**2))/(Y.shape[0])"
   ]
  },
  {
   "cell_type": "code",
   "execution_count": 14,
   "metadata": {},
   "outputs": [
    {
     "data": {
      "text/plain": [
       "6.981437458299956521"
      ]
     },
     "execution_count": 14,
     "metadata": {},
     "output_type": "execute_result"
    }
   ],
   "source": [
    "costFunction(train_y[:50],final_op)"
   ]
  },
  {
   "cell_type": "code",
   "execution_count": 15,
   "metadata": {},
   "outputs": [],
   "source": [
    "def full_backpropagation(train_y,final_op,architecture):\n",
    "    DeltaJ_output = dict()\n",
    "    \"\"\"  start with last (ouyput)layer whose deltaJ is calculated \n",
    "          differently then rest of hidden layer                    \"\"\"\n",
    "    Y  = oneHotEncoding(train_y)\n",
    "    deltaJ_prev = (Y-final_op)*final_op*(1-final_op)\n",
    "    DeltaJ_output[len(architecture)+1] = deltaJ_prev\n",
    "    \n",
    "    for layer,value in reversed(list(enumerate(architecture))):\n",
    "        theta_downNBR  = parameter[layer+2][:,1:] # removing bias term of theta 1.e col 0 of parameter\n",
    "        deltaJ_curr = np.dot(deltaJ_prev, theta_downNBR)*layer_ouput[layer+1]\n",
    "        DeltaJ_output[layer+1] =deltaJ_curr\n",
    "        deltaJ_prev = deltaJ_curr\n",
    "    \n",
    "    return DeltaJ_output\n",
    "        \n",
    "        \n",
    "        \n",
    "        \n",
    "        \n",
    "    \n",
    "    \n",
    "    \n",
    "    "
   ]
  },
  {
   "cell_type": "code",
   "execution_count": 18,
   "metadata": {},
   "outputs": [
    {
     "data": {
      "text/plain": [
       "(50, 50)"
      ]
     },
     "execution_count": 18,
     "metadata": {},
     "output_type": "execute_result"
    }
   ],
   "source": [
    "DeltaJ_output = full_backpropagation(train_y[:50],final_op,[50,100])\n",
    "DeltaJ_output[1].shape"
   ]
  },
  {
   "cell_type": "code",
   "execution_count": null,
   "metadata": {},
   "outputs": [],
   "source": []
  }
 ],
 "metadata": {
  "kernelspec": {
   "display_name": "Python 3",
   "language": "python",
   "name": "python3"
  },
  "language_info": {
   "codemirror_mode": {
    "name": "ipython",
    "version": 3
   },
   "file_extension": ".py",
   "mimetype": "text/x-python",
   "name": "python",
   "nbconvert_exporter": "python",
   "pygments_lexer": "ipython3",
   "version": "3.6.5"
  }
 },
 "nbformat": 4,
 "nbformat_minor": 2
}
