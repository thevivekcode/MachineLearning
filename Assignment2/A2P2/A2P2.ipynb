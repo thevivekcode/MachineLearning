{
 "cells": [
  {
   "cell_type": "markdown",
   "metadata": {},
   "source": [
    "# SVM"
   ]
  },
  {
   "cell_type": "code",
   "execution_count": 29,
   "metadata": {},
   "outputs": [],
   "source": [
    "import pandas as pd\n",
    "import numpy as np\n",
    "import matplotlib.pyplot as plt\n",
    "import cvxopt\n",
    "from cvxopt import matrix\n",
    "from cvxopt import solvers"
   ]
  },
  {
   "cell_type": "code",
   "execution_count": 69,
   "metadata": {},
   "outputs": [],
   "source": [
    "def ReadInput():\n",
    "    df = pd.read_csv('./fashion_mnist/train.csv',header=None)\n",
    "    data = df.to_numpy()\n",
    "    index = np.logical_or(data[:,784]==4 ,data[:,784]==5)\n",
    "    X_train = data[index][:,:-1]\n",
    "    Y_train = np.array([1 if i==4 else -1 for i in data[index][:,-1]]).reshape((-1,1))\n",
    "\n",
    "\n",
    "    df = pd.read_csv('./fashion_mnist/test.csv',header=None)\n",
    "    data = df.to_numpy()\n",
    "    index = np.logical_or(data[:,784]==4 ,data[:,784]==5)\n",
    "    X_test = data[index][:,:-1]\n",
    "    Y_test = np.array([1 if i==4 else -1 for i in data[index][:,-1]]).reshape((-1,1))\n",
    "\n",
    "\n",
    "    df = pd.read_csv('./fashion_mnist/val.csv',header=None)\n",
    "    data = df.to_numpy()\n",
    "    index = np.logical_or(data[:,784]==4 ,data[:,784]==5)\n",
    "    X_val = data[index][:,:-1]\n",
    "    Y_val = np.array([1 if i==4 else -1 for i in data[index][:,-1]]).reshape((-1,1))\n",
    "    \n",
    "    return X_train, Y_train, X_test, Y_test, X_val, Y_val\n"
   ]
  },
  {
   "cell_type": "markdown",
   "metadata": {},
   "source": [
    "# PART A "
   ]
  },
  {
   "cell_type": "code",
   "execution_count": 45,
   "metadata": {},
   "outputs": [],
   "source": [
    "def LinearSVM_fit(X,Y):\n",
    "#     X = X_train/255\n",
    "#     Y = Y_train\n",
    "    G1 = np.diag(np.array([1]*Y.shape[0]))\n",
    "    G2 = np.diag(np.array([-1]*Y.shape[0]))\n",
    "    G = matrix(np.append(G1,G2,axis=0),tc='d')\n",
    "    c = 1\n",
    "    H = matrix(np.append(np.array([c]*Y.shape[0]),np.array([0]*Y.shape[0]),axis = 0),tc='d')\n",
    "    P = matrix(np.dot(X,X.T)*np.dot(Y,Y.T),tc='d')\n",
    "    Q = matrix(np.array([-1]*Y.shape[0]).T,tc='d')\n",
    "    A = matrix(Y.T,tc='d')\n",
    "    B = matrix(np.array(0).reshape((1,1)),tc='d')\n",
    "\n",
    "    sol = solvers.qp(P,Q,G,H,A,B)\n",
    "\n",
    "    alpha=np.array(sol['x'])\n",
    "    \n",
    "    #calculating the support vectors given a threshold\n",
    "    threshold = 1e-15\n",
    "    data = np.append(X,Y,axis = 1)\n",
    "    data_with_alpha = np.append(data,alpha,axis = 1)\n",
    "    \n",
    "    supportVectors = data_with_alpha[np.where(data_with_alpha[:,-1] >= threshold)]\n",
    "    print(\"Total supports vectors\")\n",
    "    print(supportVectors.shape)\n",
    "    print('\\n')\n",
    "    # w = SUM( x*y*alpha )\n",
    "    w = np.sum(supportVectors[:,:-2]*supportVectors[:,-2].reshape((-1,1))*supportVectors[:,-1].reshape((-1,1)),axis=0).reshape((-1,1))\n",
    "\n",
    "    pos_X = supportVectors[np.where(supportVectors[:,-2]==1)][:,:-2]\n",
    "    neg_X = supportVectors[np.where(supportVectors[:,-2]==-1)][:,:-2]\n",
    "    \n",
    "    b = -(np.dot(pos_X,w).min() + np.dot(neg_X,w).max())/2\n",
    "    return w,b,supportVectors"
   ]
  },
  {
   "cell_type": "code",
   "execution_count": 67,
   "metadata": {},
   "outputs": [],
   "source": [
    "def LinearSVM_predict(X,Y,w,b):\n",
    "    pred = []\n",
    "    for x in X:\n",
    "        if (np.dot(w.T,x)+b) > 0:\n",
    "            pred.append(1)\n",
    "        else:\n",
    "            pred.append(-1)\n",
    "\n",
    "    count =0\n",
    "\n",
    "    for i in range(len(pred)):\n",
    "        if pred[i] == Y[i]:\n",
    "            count+=1\n",
    "    print(\"Accurarcy is \",count*100/Y.shape[0],\" %\") "
   ]
  },
  {
   "cell_type": "markdown",
   "metadata": {},
   "source": [
    "<font color=red>DATA INPUT</font>"
   ]
  },
  {
   "cell_type": "code",
   "execution_count": 47,
   "metadata": {},
   "outputs": [],
   "source": [
    "X_train, Y_train, X_test, Y_test, X_val, Y_val = ReadInput()"
   ]
  },
  {
   "cell_type": "markdown",
   "metadata": {},
   "source": [
    "<font color=red>LEARNING</font>"
   ]
  },
  {
   "cell_type": "code",
   "execution_count": 62,
   "metadata": {},
   "outputs": [
    {
     "name": "stdout",
     "output_type": "stream",
     "text": [
      "     pcost       dcost       gap    pres   dres\n",
      " 0: -1.8144e+02 -7.2340e+03  4e+04  2e+00  1e-12\n",
      " 1: -1.0203e+02 -3.4492e+03  6e+03  3e-01  1e-12\n",
      " 2: -3.3534e+01 -9.1974e+02  2e+03  7e-02  6e-13\n",
      " 3: -1.1925e+01 -4.1859e+02  7e+02  2e-02  3e-13\n",
      " 4: -3.6847e+00 -1.7770e+02  3e+02  8e-03  1e-13\n",
      " 5: -1.2594e+00 -5.9907e+01  9e+01  2e-03  5e-14\n",
      " 6: -6.7211e-01 -2.5705e+01  4e+01  9e-04  3e-14\n",
      " 7: -4.1327e-01 -1.1925e+01  2e+01  3e-04  2e-14\n",
      " 8: -5.1263e-01 -5.5495e+00  6e+00  1e-04  1e-14\n",
      " 9: -5.7700e-01 -3.1645e+00  3e+00  4e-05  1e-14\n",
      "10: -7.0634e-01 -2.0084e+00  1e+00  3e-06  2e-14\n",
      "11: -9.3593e-01 -1.4177e+00  5e-01  7e-07  2e-14\n",
      "12: -1.0291e+00 -1.2146e+00  2e-01  4e-16  2e-14\n",
      "13: -1.0863e+00 -1.1319e+00  5e-02  4e-16  2e-14\n",
      "14: -1.1048e+00 -1.1100e+00  5e-03  5e-16  2e-14\n",
      "15: -1.1073e+00 -1.1074e+00  1e-04  5e-16  2e-14\n",
      "16: -1.1073e+00 -1.1073e+00  1e-06  6e-16  2e-14\n",
      "17: -1.1073e+00 -1.1073e+00  1e-08  5e-16  2e-14\n",
      "Optimal solution found.\n",
      "Total supports vectors\n",
      "(4500, 786)\n",
      "\n",
      "\n"
     ]
    }
   ],
   "source": [
    "\n",
    "w,b,supportVectors = LinearSVM_fit(X_train/255,Y_train)"
   ]
  },
  {
   "cell_type": "markdown",
   "metadata": {},
   "source": [
    "<font color=red>PREDICTING</font>"
   ]
  },
  {
   "cell_type": "code",
   "execution_count": 68,
   "metadata": {},
   "outputs": [
    {
     "name": "stdout",
     "output_type": "stream",
     "text": [
      "Accurarcy is  99.8  %\n",
      "Accurarcy is  99.6  %\n",
      "Accurarcy is  100.0  %\n"
     ]
    }
   ],
   "source": [
    "LinearSVM_predict(X_test/255,Y_test,w,b)\n",
    "LinearSVM_predict(X_val/255,Y_val,w,b)\n",
    "LinearSVM_predict(X_train/255,Y_train,w,b)"
   ]
  },
  {
   "cell_type": "code",
   "execution_count": null,
   "metadata": {},
   "outputs": [],
   "source": []
  },
  {
   "cell_type": "code",
   "execution_count": null,
   "metadata": {},
   "outputs": [],
   "source": []
  }
 ],
 "metadata": {
  "kernelspec": {
   "display_name": "Python 3",
   "language": "python",
   "name": "python3"
  },
  "language_info": {
   "codemirror_mode": {
    "name": "ipython",
    "version": 3
   },
   "file_extension": ".py",
   "mimetype": "text/x-python",
   "name": "python",
   "nbconvert_exporter": "python",
   "pygments_lexer": "ipython3",
   "version": "3.6.5"
  }
 },
 "nbformat": 4,
 "nbformat_minor": 2
}
