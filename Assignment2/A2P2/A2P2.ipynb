{
 "cells": [
  {
   "cell_type": "markdown",
   "metadata": {},
   "source": [
    "# SVM"
   ]
  },
  {
   "cell_type": "code",
   "execution_count": 32,
   "metadata": {},
   "outputs": [],
   "source": [
    "import pandas as pd\n",
    "import numpy as np\n",
    "import matplotlib.pyplot as plt\n",
    "import cvxopt\n",
    "from cvxopt import matrix\n",
    "from cvxopt import solvers\n",
    "import math\n",
    "from scipy.spatial.distance import cdist\n",
    "import time"
   ]
  },
  {
   "cell_type": "code",
   "execution_count": 2,
   "metadata": {},
   "outputs": [],
   "source": [
    "def ReadInput():\n",
    "    df = pd.read_csv('./fashion_mnist/train.csv',header=None)\n",
    "    data = df.to_numpy()\n",
    "    index = np.logical_or(data[:,784]==4 ,data[:,784]==5)\n",
    "    X_train = data[index][:,:-1]\n",
    "    Y_train = np.array([1 if i==4 else -1 for i in data[index][:,-1]]).reshape((-1,1))\n",
    "\n",
    "\n",
    "    df = pd.read_csv('./fashion_mnist/test.csv',header=None)\n",
    "    data = df.to_numpy()\n",
    "    index = np.logical_or(data[:,784]==4 ,data[:,784]==5)\n",
    "    X_test = data[index][:,:-1]\n",
    "    Y_test = np.array([1 if i==4 else -1 for i in data[index][:,-1]]).reshape((-1,1))\n",
    "\n",
    "\n",
    "    df = pd.read_csv('./fashion_mnist/val.csv',header=None)\n",
    "    data = df.to_numpy()\n",
    "    index = np.logical_or(data[:,784]==4 ,data[:,784]==5)\n",
    "    X_val = data[index][:,:-1]\n",
    "    Y_val = np.array([1 if i==4 else -1 for i in data[index][:,-1]]).reshape((-1,1))\n",
    "    \n",
    "    return X_train, Y_train, X_test, Y_test, X_val, Y_val\n"
   ]
  },
  {
   "cell_type": "markdown",
   "metadata": {},
   "source": [
    "# PART 1-A "
   ]
  },
  {
   "cell_type": "code",
   "execution_count": 9,
   "metadata": {},
   "outputs": [],
   "source": [
    "def LinearSVM_fit(X,Y):\n",
    "#     X = X_train/255\n",
    "#     Y = Y_train\n",
    "    G1 = np.diag(np.array([1]*Y.shape[0]))\n",
    "    G2 = np.diag(np.array([-1]*Y.shape[0]))\n",
    "    G = matrix(np.append(G1,G2,axis=0),tc='d')\n",
    "    c = 1\n",
    "    H = matrix(np.append(np.array([c]*Y.shape[0]),np.array([0]*Y.shape[0]),axis = 0),tc='d')\n",
    "    P = matrix(np.dot(X,X.T)*np.dot(Y,Y.T),tc='d')\n",
    "    Q = matrix(np.array([-1]*Y.shape[0]).T,tc='d')\n",
    "    A = matrix(Y.T,tc='d')\n",
    "    B = matrix(np.array(0).reshape((1,1)),tc='d')\n",
    "\n",
    "    sol = solvers.qp(P,Q,G,H,A,B)\n",
    "\n",
    "    alpha=np.array(sol['x'])\n",
    "    \n",
    "    #calculating the support vectors given a threshold\n",
    "    threshold = 1e-10\n",
    "    data = np.append(X,Y,axis = 1)\n",
    "    data_with_alpha = np.append(data,alpha,axis = 1)\n",
    "    \n",
    "    supportVectors = data_with_alpha[np.where(data_with_alpha[:,-1] >= threshold)]\n",
    "    print(\"Total supports vectors\")\n",
    "    print(supportVectors.shape)\n",
    "    print('\\n')\n",
    "    # w = SUM( x*y*alpha )\n",
    "    w = np.sum(supportVectors[:,:-2]*supportVectors[:,-2].reshape((-1,1))*supportVectors[:,-1].reshape((-1,1)),axis=0).reshape((-1,1))\n",
    "\n",
    "#     pos_X = supportVectors[np.where(supportVectors[:,-2]==1)][:,:-2]\n",
    "#     neg_X = supportVectors[np.where(supportVectors[:,-2]==-1)][:,:-2]\n",
    "    XY = np.append(X,Y,axis=1)\n",
    "    pos_X = XY[np.where(XY[:,-1]==1)][:,:-1]\n",
    "    neg_X = XY[np.where(XY[:,-1]==-1)][:,:-1]\n",
    "                \n",
    "    print(\"aplha\",alpha.max())\n",
    "    print(\"aplha\",alpha.min())\n",
    "    b = -(np.dot(pos_X,w).min() + np.dot(neg_X,w).max())/2\n",
    "    return w,b,supportVectors"
   ]
  },
  {
   "cell_type": "code",
   "execution_count": 10,
   "metadata": {},
   "outputs": [],
   "source": [
    "def LinearSVM_predict(X,Y,w,b):\n",
    "    pred = []\n",
    "    for x in X:\n",
    "        if (np.dot(w.T,x)+b) > 0:\n",
    "            pred.append(1)\n",
    "        else:\n",
    "            pred.append(-1)\n",
    "\n",
    "    count =0\n",
    "\n",
    "    for i in range(len(pred)):\n",
    "        if pred[i] == Y[i]:\n",
    "            count+=1\n",
    "    \n",
    "    print(\"Accurarcy is \",count*100/Y.shape[0],\" %\") "
   ]
  },
  {
   "cell_type": "markdown",
   "metadata": {},
   "source": [
    "<font color=red>DATA INPUT</font>"
   ]
  },
  {
   "cell_type": "code",
   "execution_count": 11,
   "metadata": {},
   "outputs": [],
   "source": [
    "X_train, Y_train, X_test, Y_test, X_val, Y_val = ReadInput()"
   ]
  },
  {
   "cell_type": "markdown",
   "metadata": {},
   "source": [
    "<font color=red>LEARNING</font>"
   ]
  },
  {
   "cell_type": "code",
   "execution_count": 33,
   "metadata": {},
   "outputs": [
    {
     "name": "stdout",
     "output_type": "stream",
     "text": [
      "     pcost       dcost       gap    pres   dres\n",
      " 0: -1.8144e+02 -7.2340e+03  4e+04  2e+00  1e-12\n",
      " 1: -1.0203e+02 -3.4492e+03  6e+03  3e-01  1e-12\n",
      " 2: -3.3534e+01 -9.1974e+02  2e+03  7e-02  6e-13\n",
      " 3: -1.1925e+01 -4.1859e+02  7e+02  2e-02  3e-13\n",
      " 4: -3.6847e+00 -1.7770e+02  3e+02  8e-03  1e-13\n",
      " 5: -1.2594e+00 -5.9907e+01  9e+01  2e-03  5e-14\n",
      " 6: -6.7211e-01 -2.5705e+01  4e+01  9e-04  3e-14\n",
      " 7: -4.1327e-01 -1.1925e+01  2e+01  3e-04  2e-14\n",
      " 8: -5.1263e-01 -5.5495e+00  6e+00  1e-04  1e-14\n",
      " 9: -5.7700e-01 -3.1645e+00  3e+00  4e-05  1e-14\n",
      "10: -7.0634e-01 -2.0084e+00  1e+00  3e-06  2e-14\n",
      "11: -9.3593e-01 -1.4177e+00  5e-01  7e-07  2e-14\n",
      "12: -1.0291e+00 -1.2146e+00  2e-01  4e-16  2e-14\n",
      "13: -1.0863e+00 -1.1319e+00  5e-02  4e-16  2e-14\n",
      "14: -1.1048e+00 -1.1100e+00  5e-03  5e-16  2e-14\n",
      "15: -1.1073e+00 -1.1074e+00  1e-04  5e-16  2e-14\n",
      "16: -1.1073e+00 -1.1073e+00  1e-06  6e-16  2e-14\n",
      "17: -1.1073e+00 -1.1073e+00  1e-08  5e-16  2e-14\n",
      "Optimal solution found.\n",
      "Total supports vectors\n",
      "(80, 786)\n",
      "\n",
      "\n",
      "aplha 0.25238892773911575\n",
      "aplha 2.1183016408705166e-13\n",
      "94.10953044891357\n"
     ]
    }
   ],
   "source": [
    "\n",
    "w,b,supportVectors = LinearSVM_fit(X_train/255,Y_train)\n"
   ]
  },
  {
   "cell_type": "markdown",
   "metadata": {},
   "source": [
    "<font color=red>PREDICTING</font>"
   ]
  },
  {
   "cell_type": "code",
   "execution_count": 13,
   "metadata": {},
   "outputs": [
    {
     "name": "stdout",
     "output_type": "stream",
     "text": [
      "Accurarcy is  99.8  %\n",
      "Accurarcy is  99.6  %\n",
      "Accurarcy is  100.0  %\n"
     ]
    }
   ],
   "source": [
    "LinearSVM_predict(X_test/255,Y_test,w,b)\n",
    "LinearSVM_predict(X_val/255,Y_val,w,b)\n",
    "LinearSVM_predict(X_train/255,Y_train,w,b)"
   ]
  },
  {
   "cell_type": "markdown",
   "metadata": {},
   "source": [
    "# PART 1-B"
   ]
  },
  {
   "cell_type": "code",
   "execution_count": 16,
   "metadata": {},
   "outputs": [],
   "source": [
    "def GaussianKernel(x,z,gamma):\n",
    "    return np.exp(-gamma*np.sum((x-z)**2))"
   ]
  },
  {
   "cell_type": "code",
   "execution_count": 17,
   "metadata": {},
   "outputs": [],
   "source": [
    "from tqdm import tqdm\n",
    "def GausianSVM_fit(X,Y):\n",
    "    G1 = np.diag(np.array([1]*Y.shape[0]))\n",
    "    G2 = np.diag(np.array([-1]*Y.shape[0]))\n",
    "    G = matrix(np.append(G1,G2,axis=0),tc='d')\n",
    "    c = 1\n",
    "    H = matrix(np.append(np.array([c]*Y.shape[0]),np.array([0]*Y.shape[0]),axis = 0),tc='d')\n",
    "    Q = matrix(np.array([-1]*Y.shape[0]).T,tc='d')\n",
    "    A = matrix(Y.T,tc='d')\n",
    "    B = matrix(np.array(0).reshape((1,1)),tc='d')\n",
    "    IP = []\n",
    "    gamma = 0.05\n",
    "    L2norm= cdist(X,X,'euclidean')\n",
    "    IP = np.exp(-(L2norm**2)*gamma)\n",
    "#     for i in tqdm(range(X.shape[0])):\n",
    "#         L =[]\n",
    "#         for j in range(X.shape[0]):\n",
    "#             L.append(GaussianKernel(X[i,:],X[j,:],gamma))\n",
    "#         IP.append(L)\n",
    "#     IP = np.array(IP).reshape((X.shape[0],X.shape[0]))\n",
    "#     print(IP.shape)\n",
    "    P = matrix(IP*np.dot(Y,Y.T),tc='d')\n",
    "    \n",
    "    #-----------------------------------\n",
    "    sol = solvers.qp(P,Q,G,H,A,B)\n",
    "    alpha=np.array(sol['x'])\n",
    "    #-----------------------------------\n",
    "    \n",
    "    #calculating the support vectors given a threshold\n",
    "    threshold = 1e-6\n",
    "    data = np.append(X,Y,axis = 1)\n",
    "    data_with_alpha = np.append(data,alpha,axis = 1)\n",
    "\n",
    "    supportVectors = data_with_alpha[np.where(data_with_alpha[:,-1] >= threshold)]\n",
    "    print(\"Total supports vectors\")\n",
    "    print(supportVectors.shape)\n",
    "    print('\\n')\n",
    "\n",
    "    XY = np.append(X,Y,axis=1)\n",
    "    pos_X = XY[np.where(XY[:,-1]==1)][:,:-1]\n",
    "    neg_X = XY[np.where(XY[:,-1]==-1)][:,:-1]\n",
    "\n",
    "    #b\n",
    "    b1 = math.inf\n",
    "    for i in tqdm(range(pos_X.shape[0])):\n",
    "        x = 0\n",
    "        for j in range(supportVectors.shape[0]):\n",
    "            alpha_i = supportVectors[j,-1]\n",
    "            y_i = supportVectors[j,-2]\n",
    "            x+= alpha_i*y_i*GaussianKernel(supportVectors[j,:-2],pos_X[i],gamma)\n",
    "        b1 = min(b1,x)\n",
    "\n",
    "    b2 = -math.inf\n",
    "    for i in tqdm(range(neg_X.shape[0])):\n",
    "        x = 0\n",
    "        for j in range(supportVectors.shape[0]):\n",
    "            alpha_i = supportVectors[j,-1]\n",
    "            y_i = supportVectors[j,-2]\n",
    "            x+= alpha_i*y_i*GaussianKernel(supportVectors[j,:-2],neg_X[i],gamma)\n",
    "        b2 = max(b2,x)\n",
    "\n",
    "    b = -(b1+b2)/2\n",
    "    return b,supportVectors"
   ]
  },
  {
   "cell_type": "code",
   "execution_count": 18,
   "metadata": {},
   "outputs": [],
   "source": [
    "#predict \n",
    "def GausianSVM_predict(X,Y,b,supportVectors):\n",
    "    gamma = 0.05\n",
    "\n",
    "    predict = []\n",
    "\n",
    "    for i in range(X.shape[0]):\n",
    "        w=0\n",
    "        for j in range(supportVectors.shape[0]):\n",
    "            alpha_i = supportVectors[j,-1]\n",
    "            y_i = supportVectors[j,-2]\n",
    "            w += alpha_i*y_i*GaussianKernel(supportVectors[j,:-2],X[i,:],gamma)\n",
    "#             print((alpha_i*y_i))\n",
    "        if w+b >0:\n",
    "            predict.append(1)\n",
    "        else:\n",
    "            predict.append(-1)\n",
    "    count = 0  \n",
    "    for i in range(X.shape[0]):\n",
    "        if predict[i] == Y[i]:\n",
    "            count+=1\n",
    "    print((count*100)/X.shape[0])\n",
    "\n"
   ]
  },
  {
   "cell_type": "code",
   "execution_count": 19,
   "metadata": {},
   "outputs": [
    {
     "name": "stdout",
     "output_type": "stream",
     "text": [
      "     pcost       dcost       gap    pres   dres\n",
      " 0: -1.5598e+02 -6.9927e+03  3e+04  2e+00  1e-15\n",
      " 1: -8.8657e+01 -3.4857e+03  6e+03  2e-01  1e-15\n",
      " 2: -5.9446e+01 -7.3609e+02  8e+02  2e-02  2e-15\n",
      " 3: -1.0523e+02 -2.6151e+02  2e+02  4e-03  2e-15\n",
      " 4: -1.2171e+02 -1.8069e+02  6e+01  1e-03  1e-15\n",
      " 5: -1.2850e+02 -1.5673e+02  3e+01  8e-15  1e-15\n",
      " 6: -1.3314e+02 -1.4204e+02  9e+00  1e-14  1e-15\n",
      " 7: -1.3446e+02 -1.3849e+02  4e+00  6e-15  1e-15\n",
      " 8: -1.3538e+02 -1.3651e+02  1e+00  3e-15  1e-15\n",
      " 9: -1.3573e+02 -1.3581e+02  8e-02  1e-14  1e-15\n",
      "10: -1.3576e+02 -1.3576e+02  2e-03  2e-14  1e-15\n"
     ]
    },
    {
     "name": "stderr",
     "output_type": "stream",
     "text": [
      "  0%|          | 6/2250 [00:00<00:42, 53.20it/s]"
     ]
    },
    {
     "name": "stdout",
     "output_type": "stream",
     "text": [
      "11: -1.3576e+02 -1.3576e+02  6e-05  3e-16  1e-15\n",
      "Optimal solution found.\n",
      "Total supports vectors\n",
      "(1028, 786)\n",
      "\n",
      "\n"
     ]
    },
    {
     "name": "stderr",
     "output_type": "stream",
     "text": [
      "100%|██████████| 2250/2250 [00:33<00:00, 67.06it/s]\n",
      "100%|██████████| 2250/2250 [00:33<00:00, 67.26it/s]\n"
     ]
    }
   ],
   "source": [
    "b,supportVectors = GausianSVM_fit(X_train/255,Y_train)"
   ]
  },
  {
   "cell_type": "code",
   "execution_count": 20,
   "metadata": {},
   "outputs": [
    {
     "name": "stdout",
     "output_type": "stream",
     "text": [
      "98.8\n"
     ]
    }
   ],
   "source": [
    "GausianSVM_predict(X_test/255,Y_test,b,supportVectors)"
   ]
  },
  {
   "cell_type": "code",
   "execution_count": 21,
   "metadata": {},
   "outputs": [
    {
     "name": "stdout",
     "output_type": "stream",
     "text": [
      "99.6\n"
     ]
    }
   ],
   "source": [
    "GausianSVM_predict(X_val/255,Y_val,b,supportVectors)"
   ]
  },
  {
   "cell_type": "code",
   "execution_count": 22,
   "metadata": {},
   "outputs": [
    {
     "name": "stdout",
     "output_type": "stream",
     "text": [
      "100.0\n"
     ]
    }
   ],
   "source": [
    "GausianSVM_predict(X_train/255,Y_train,b,supportVectors)"
   ]
  },
  {
   "cell_type": "markdown",
   "metadata": {},
   "source": [
    "# PART 1-C"
   ]
  },
  {
   "cell_type": "code",
   "execution_count": 29,
   "metadata": {},
   "outputs": [],
   "source": [
    "from sklearn.svm import LinearSVC\n",
    "from sklearn.metrics import accuracy_score\n",
    "def SKlearn_SVM(X_train, Y_train, X_test, Y_test, X_val, Y_val):\n",
    "    clf = LinearSVC(random_state=0, tol=1e-5)\n",
    "    clf.fit(X_train/255,Y_train)\n",
    "\n",
    "    Y_pred_test=clf.predict(X_test/255)\n",
    "    Acc_test = accuracy_score(Y_test, Y_pred_test)*100\n",
    "    print(\"Accuracy over TEST data : \",Acc_test)\n",
    "\n",
    "    Y_pred_val=clf.predict(X_val/255)\n",
    "    Acc_val = accuracy_score(Y_val, Y_pred_val)*100\n",
    "    print(\"Accuracy over VALIDATION data : \",Acc_val)\n",
    "\n",
    "    \n",
    "        \n",
    "    Y_pred_train=clf.predict(X_train/255)\n",
    "    Acc_train = accuracy_score(Y_train, Y_pred_train)*100\n",
    "    print(\"Accuracy over TEST data : \",Acc_train)\n"
   ]
  },
  {
   "cell_type": "code",
   "execution_count": 30,
   "metadata": {},
   "outputs": [
    {
     "name": "stdout",
     "output_type": "stream",
     "text": [
      "Accuracy over TEST data :  99.8\n",
      "Accuracy over VALIDATION data :  99.6\n",
      "Accuracy over TEST data :  100.0\n"
     ]
    },
    {
     "name": "stderr",
     "output_type": "stream",
     "text": [
      "/home/vivek/anaconda/lib/python3.6/site-packages/sklearn/utils/validation.py:760: DataConversionWarning: A column-vector y was passed when a 1d array was expected. Please change the shape of y to (n_samples, ), for example using ravel().\n",
      "  y = column_or_1d(y, warn=True)\n"
     ]
    }
   ],
   "source": [
    "SKlearn_SVM(X_train, Y_train, X_test, Y_test, X_val, Y_val)"
   ]
  },
  {
   "cell_type": "code",
   "execution_count": null,
   "metadata": {},
   "outputs": [],
   "source": []
  },
  {
   "cell_type": "code",
   "execution_count": null,
   "metadata": {},
   "outputs": [],
   "source": []
  }
 ],
 "metadata": {
  "kernelspec": {
   "display_name": "Python 3",
   "language": "python",
   "name": "python3"
  },
  "language_info": {
   "codemirror_mode": {
    "name": "ipython",
    "version": 3
   },
   "file_extension": ".py",
   "mimetype": "text/x-python",
   "name": "python",
   "nbconvert_exporter": "python",
   "pygments_lexer": "ipython3",
   "version": "3.6.5"
  }
 },
 "nbformat": 4,
 "nbformat_minor": 2
}
