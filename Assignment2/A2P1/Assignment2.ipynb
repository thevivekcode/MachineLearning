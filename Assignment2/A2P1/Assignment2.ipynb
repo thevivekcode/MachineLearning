{
 "cells": [
  {
   "cell_type": "code",
   "execution_count": 1,
   "metadata": {},
   "outputs": [],
   "source": [
    "import math\n",
    "import numpy as np\n",
    "import pandas as pd\n",
    "import matplotlib.pyplot as plt\n",
    "import time\n",
    "import nltk\n",
    "from nltk.corpus import stopwords\n",
    "from nltk.stem.snowball import SnowballStemmer\n",
    "import re"
   ]
  },
  {
   "cell_type": "markdown",
   "metadata": {},
   "source": [
    "# Tokenization, Stopping and Stemming"
   ]
  },
  {
   "cell_type": "code",
   "execution_count": 2,
   "metadata": {},
   "outputs": [],
   "source": [
    "def stopword_stemming(df):\n",
    "    stops = set(stopwords.words(\"english\"))\n",
    "    stemmer = SnowballStemmer(\"english\")\n",
    "    from nltk.tokenize import TweetTokenizer\n",
    "    tweet_tokenizer = TweetTokenizer(preserve_case=False, strip_handles=True, reduce_len=True)\n",
    "    # Split the sentences to lists of words.\n",
    "#     df['split'] = df['B'].str.strip().str.lower().str.replace(\",\",\" \").str.replace(\".\",\" \").str.replace(\"!\",\"\").str.split()\n",
    "#     df = df.drop(columns=['B']) # Get rid of the old column.\n",
    "\n",
    "    df[\"split\"] = df[\"B\"].apply(lambda x: tweet_tokenizer.tokenize(x))\n",
    "    df = df.drop(columns=['B']) # Get rid of the old column.\n",
    "    \n",
    "    df['stopped_stemmed'] = df['split'].apply(lambda x: [stemmer.stem(item) for item in x if item not in stops and not item.startswith('@')])\n",
    "    df = df.drop(columns=['split']) # Get rid of the old column.\n",
    "    \n",
    "    df['B'] =  df['stopped_stemmed'].apply(lambda x: \" \".join(x))\n",
    "    df = df.drop(columns=['stopped_stemmed']) # Get rid of the old column.\n",
    "#     return  df.to_numpy()\n",
    "    return df \n",
    "        \n",
    "    "
   ]
  },
  {
   "cell_type": "markdown",
   "metadata": {},
   "source": [
    "# Input: training and testing data"
   ]
  },
  {
   "cell_type": "code",
   "execution_count": 3,
   "metadata": {},
   "outputs": [],
   "source": [
    "def inputTraining(case):\n",
    "    df = pd.read_csv(\"./trainingandtestdata/training.1600000.processed.noemoticon.csv\",encoding = \"latin-1\", header=None, usecols=[0,5],names=['A','B'],index_col=False)\n",
    "    if case == 1:\n",
    "        return df\n",
    "    elif case == 2:\n",
    "        return stopword_stemming(df)\n",
    "    \n",
    "\n",
    "def inputTesting():\n",
    "    df = pd.read_csv(\"./trainingandtestdata/testdata.manual.2009.06.14.csv\",encoding = \"latin-1\", header=None, usecols=[0,5],names=['A','B'],index_col=False)\n",
    "    data = df.to_numpy()\n",
    "    data = data[np.where(data[:,0]!=2)]\n",
    "    return data"
   ]
  },
  {
   "cell_type": "markdown",
   "metadata": {},
   "source": [
    "# Description of Data"
   ]
  },
  {
   "cell_type": "code",
   "execution_count": 4,
   "metadata": {},
   "outputs": [],
   "source": [
    "# A = Polarity\n",
    "# B = TweetID\n",
    "# C = date of the tweet \n",
    "# D = query (lyx)\n",
    "# E = user\n",
    "# F = tweet\n",
    "\n",
    "#-----------CLASS------------\n",
    "\n",
    "#class 0 Negative \n",
    "#calss 4 Positive"
   ]
  },
  {
   "cell_type": "markdown",
   "metadata": {},
   "source": [
    "# Creating Vocabulary"
   ]
  },
  {
   "cell_type": "code",
   "execution_count": 5,
   "metadata": {},
   "outputs": [],
   "source": [
    "# creating vocabulary of all words in training data\n",
    "\n",
    "def vocabulary(data):\n",
    "    data_class0 = data[np.where(data[:,0]==0)]\n",
    "#     data_class2 = data[np.where(data[:,0]==2)]\n",
    "    data_class4 = data[np.where(data[:,0]==4)]\n",
    "    dataClassList  = [data_class0,data_class4]\n",
    "    vocab_class0 = dict()\n",
    "    vocab_class2 = dict()\n",
    "    vocab_class4 = dict()\n",
    "    TotalVocab = dict()\n",
    "    wc = []\n",
    "    vocabClassList = [vocab_class0,vocab_class4]\n",
    "    for i,j in zip(dataClassList,vocabClassList):\n",
    "        totalWordCountInClass = 0\n",
    "        tweetList = i[:,1]\n",
    "        for tweet in tweetList:\n",
    "#             tweetlist = tweet.replace(\",\",\" \").replace(\".\",\" \").split()\n",
    "            tweetlist = tweet.split()\n",
    "            for words in tweetlist:\n",
    "                totalWordCountInClass+=1\n",
    "                if words in j:\n",
    "                    j[words]+=1\n",
    "                    TotalVocab[words]+=1\n",
    "                else:\n",
    "                    j[words]=1\n",
    "                    TotalVocab[words]=1\n",
    "        wc.append(totalWordCountInClass)\n",
    "    print(\"Vocalbulary done\")\n",
    "    return vocab_class0,vocab_class4, TotalVocab,wc\n",
    "    "
   ]
  },
  {
   "cell_type": "markdown",
   "metadata": {},
   "source": [
    "# Finding the paarameters"
   ]
  },
  {
   "cell_type": "code",
   "execution_count": 6,
   "metadata": {},
   "outputs": [],
   "source": [
    "# finding parameters\n",
    "\n",
    "def FindPhi(data):\n",
    "    phi = np.zeros((2,1))\n",
    "    phi[0,0] = (np.count_nonzero(data[:,0] == 0)+1)/(data.shape[0]+2)\n",
    "#     phi[1,0] = (np.count_nonzero(data[:,0] == 2)+1)/(data.shape[0]+3)\n",
    "    phi[1,0] = (np.count_nonzero(data[:,0] == 4)+1)/(data.shape[0]+2)\n",
    "    return phi\n",
    "\n",
    "def Findtheta(vocab_class0,  vocab_class4, TotalVocab,wc):\n",
    "    #----------------------------------------------------------------------------------------\n",
    "    theta = dict()\n",
    "    #--------------------------------------------------------------------------------------------\n",
    "   \n",
    "    for words in TotalVocab:\n",
    "        theta[words] = []\n",
    "        if(True):\n",
    "            theta_ofThe_Word = 0\n",
    "            if words in vocab_class0:\n",
    "                theta_ofThe_Word = (vocab_class0[words] + 1)/(wc[0] + len(TotalVocab))\n",
    "            else:\n",
    "                theta_ofThe_Word = 1/(wc[0] + len(TotalVocab))\n",
    "            theta[words].append(theta_ofThe_Word)\n",
    "            \n",
    "    #---------------------------------------------------------------------------------------------\n",
    "   \n",
    "#     for words in TotalVocab:\n",
    "        if(True):\n",
    "            theta_ofThe_Word = 0\n",
    "            if words in vocab_class4:\n",
    "                theta_ofThe_Word = (vocab_class4[words] + 1)/(wc[1]+ len(TotalVocab))\n",
    "            else:\n",
    "                theta_ofThe_Word = 1/(wc[1]+ len(TotalVocab))\n",
    "            theta[words].append(theta_ofThe_Word)\n",
    "    #----------------------------------------------------------------------------------------------\n",
    "    print(\"parameters calculated\")\n",
    "    return theta"
   ]
  },
  {
   "cell_type": "markdown",
   "metadata": {},
   "source": [
    "# Testing: Accuracy and Confusion Matrix"
   ]
  },
  {
   "cell_type": "code",
   "execution_count": 7,
   "metadata": {},
   "outputs": [],
   "source": [
    "def testing(TestingData,theta,phi,case,test):\n",
    "    from nltk.tokenize import TweetTokenizer\n",
    "    tweet_tokenizer = TweetTokenizer(preserve_case=False, strip_handles=True, reduce_len=True)\n",
    "    prediction = []\n",
    "    postiveProbality = []\n",
    "    for tweet in TestingData[:,1]:\n",
    "        class0 = phi[0,0]\n",
    "        class4 = phi[1,0]\n",
    "        \n",
    "        #TESTING DATA\n",
    "        if test == 0:\n",
    "            if case ==1:\n",
    "                tweetlist = tweet.replace(',',\" \").replace('.',\" \").split()\n",
    "            \n",
    "            elif case ==2:\n",
    "                stops = set(stopwords.words(\"english\"))\n",
    "                stemmer = SnowballStemmer(\"english\")\n",
    "                tokenizedTweet = tweet_tokenizer.tokenize(tweet)\n",
    "                tweetlist =  [stemmer.stem(item) for item in tokenizedTweet if item not in stops and not item.startswith('@')]\n",
    "       \n",
    "        # TRAINING DATA\n",
    "        if test == 1:\n",
    "            tweetlist = tweet.split()\n",
    "         \n",
    "        #CALCULATE PROBABILTY\n",
    "        for words in tweetlist:\n",
    "            if words in theta:\n",
    "                class0 += math.log(theta[words][0]) \n",
    "            else:\n",
    "                class0 += math.log(1/(len(tweetlist) + len(theta)))\n",
    "            \n",
    "            if words in theta:\n",
    "                class4 += math.log(theta[words][1]) \n",
    "            else :\n",
    "                class4 += math.log(1/(len(tweetlist) + len(theta)))\n",
    "        \n",
    "        class0 += math.log(phi[0,0])\n",
    "        class4 += math.log(phi[1,0])\n",
    "        postiveProbality.append(class4)\n",
    "        if class0 > class4:\n",
    "            prediction.append(0)\n",
    "        else:\n",
    "            prediction.append(4)\n",
    "    count =0\n",
    "    correct_class0 = 0\n",
    "    correct_class4 = 0\n",
    "    incorrect_class0 = 0\n",
    "    incorrect_class4 = 0\n",
    "    for i in  range(TestingData.shape[0]):\n",
    "        if prediction[i] == TestingData[i,0]:\n",
    "            if prediction[i] == 0:\n",
    "                correct_class0+=1\n",
    "            else:\n",
    "                correct_class4+=1\n",
    "            count+=1\n",
    "        else:\n",
    "            if prediction[i]==0:\n",
    "                incorrect_class4+=1\n",
    "            else:\n",
    "                incorrect_class0+=1\n",
    "    \n",
    "    confusionMatrix = np.array([[correct_class0,incorrect_class4],[incorrect_class0,correct_class4]])\n",
    "    Accurarcy = (count/TestingData.shape[0])*100\n",
    "        \n",
    "    return Accurarcy,confusionMatrix,postiveProbality"
   ]
  },
  {
   "cell_type": "markdown",
   "metadata": {},
   "source": [
    "# Function for Random Prediction"
   ]
  },
  {
   "cell_type": "code",
   "execution_count": 8,
   "metadata": {},
   "outputs": [],
   "source": [
    "def randomPrediction(size):\n",
    "    import random\n",
    "    targets =[0,4]\n",
    "    randomPrediction =[]\n",
    "    for i in range(size):\n",
    "        randomPrediction.append(random.choice(targets))\n",
    "    return randomPrediction\n"
   ]
  },
  {
   "cell_type": "markdown",
   "metadata": {},
   "source": [
    "# RECEIVER OPERATING CHARACTERSTIC  -  ROC"
   ]
  },
  {
   "cell_type": "code",
   "execution_count": 9,
   "metadata": {},
   "outputs": [],
   "source": [
    "# function to plot ROC curve\n",
    "from sklearn import metrics\n",
    "import matplotlib.pyplot as plt\n",
    "def ROC(y,prob_scores,label):\n",
    "#     print(len(y))\n",
    "#     print(len(prob_scores))\n",
    "    (fpr, tpr, thresholds) = metrics.roc_curve(y, prob_scores, pos_label=label)\n",
    "    auc = metrics.roc_auc_score(y, prob_scores)\n",
    "    p, = plt.plot(fpr,tpr,label=\"area under curve is \"+str(auc))\n",
    "    plt.legend()\n",
    "    plt.show()\n",
    "    return p\n",
    "    \n",
    "    "
   ]
  },
  {
   "cell_type": "markdown",
   "metadata": {},
   "source": [
    "# Part F: TF-IDF"
   ]
  },
  {
   "cell_type": "code",
   "execution_count": 10,
   "metadata": {},
   "outputs": [],
   "source": [
    "def tfidf():\n",
    "    print(\"-------------Question F --> PART A---------------------\\n\")\n",
    "    import pandas as pd\n",
    "    from sklearn.feature_extraction.text import TfidfVectorizer\n",
    "    import pickle\n",
    "    from sklearn.naive_bayes import GaussianNB\n",
    "    import numpy as np\n",
    "    from tqdm import tqdm\n",
    "    \n",
    "    with open('cleanData','rb') as f:\n",
    "        data=pickle.load(f)\n",
    "\n",
    "    vectorizer = TfidfVectorizer()\n",
    "    tfidf = vectorizer.fit_transform(data['B'])\n",
    "    print(\"--------------Shape of Train vectorized data------------\")\n",
    "    print(tfidf.shape)\n",
    "    print(\"--------------------------------------------------------\\n\")\n",
    "    \n",
    "        #----------TRAINING MODEL TAKES > 1 HOUR-------------------\n",
    "#     clf_pf = GaussianNB()\n",
    "\n",
    "#     for i in tqdm(range(0,1600000,1000)):\n",
    "#         clf_pf.partial_fit(tfidf[i:i+1000].toarray(), data['A'][i:i+1000].to_numpy(), np.array([0,4]))\n",
    "    #-----------------------------------------------------------\n",
    "\n",
    "    #---------STORING MODEL TO SAVE TIME------------------------\n",
    "#     with open(\"vivekModel\",'wb') as f:\n",
    "#         pickle.dump(clf_pf,f)\n",
    "    #-----------------------------------------------------------\n",
    "    \n",
    "    \n",
    "    # loading the model pickle\n",
    "    with open(\"model\",'rb') as f:\n",
    "         model = pickle.load(f)\n",
    "        \n",
    "        \n",
    "    TestingData = inputTesting()\n",
    "    Testdataset = pd.DataFrame({'A': TestingData[:, 0], 'B': TestingData[:, 1]})\n",
    "    CleanTestData=stopword_stemming(Testdataset)\n",
    "    tfidfTest = vectorizer.transform(CleanTestData['B'])\n",
    "    print(\"--------------Shape of Test vectorized data------------\")\n",
    "    print(tfidfTest.shape)\n",
    "    print(\"--------------------------------------------------------\\n\")\n",
    "    prediction = model.predict(tfidfTest.toarray())\n",
    "    tfidfProb = model.predict_proba(tfidfTest.toarray())[:,1]\n",
    "    # print(prediction)\n",
    "    \n",
    "    match = 0\n",
    "    for i in range(len(prediction)):\n",
    "        if prediction[i] == CleanTestData[\"A\"][i]:\n",
    "            match += 1\n",
    "    accurarcy = (match*100)/len(prediction)\n",
    "    print(\"Accrarcy is \",accurarcy)\n",
    "    print(\"--------------------------------------------------------\\n\")\n",
    "    return tfidfProb"
   ]
  },
  {
   "cell_type": "markdown",
   "metadata": {},
   "source": [
    "# SKLearn SelectPercentile "
   ]
  },
  {
   "cell_type": "code",
   "execution_count": 11,
   "metadata": {},
   "outputs": [],
   "source": [
    "def selectPercenttile():\n",
    "    print(\"-------------Question F --> PART B---------------------\\n\")\n",
    "    from sklearn.feature_selection import SelectPercentile, chi2, f_classif\n",
    "    from sklearn.feature_extraction.text import TfidfVectorizer\n",
    "    import pickle\n",
    "    from sklearn.naive_bayes import GaussianNB\n",
    "    import numpy as np\n",
    "    from tqdm import tqdm\n",
    "    \n",
    "    with open('cleanData','rb') as f:\n",
    "        data=pickle.load(f)\n",
    "        \n",
    "    vectorizer = TfidfVectorizer()\n",
    "    X_new = vectorizer.fit_transform(data['B'],data[\"A\"])\n",
    "    print(\"--------------Shape of Train vectorized data------------\")\n",
    "    print(X_new.shape)\n",
    "    perSel = SelectPercentile(f_classif,percentile=10)\n",
    "    newFeature = perSel.fit_transform(X_new,data['A'].tolist())\n",
    "    print(newFeature.shape)\n",
    "    print(\"--------------------------------------------------------\\n\")\n",
    "    \n",
    "#     clf_pf = GaussianNB()\n",
    "\n",
    "#     for i in tqdm(range(0,1600000,1000)):\n",
    "#         clf_pf.partial_fit(newFeature[i:i+1000].toarray(), data['A'][i:i+1000].to_numpy(), np.array([0,4]))\n",
    "\n",
    "    #---------STORING MODEL TO SAVE TIME------------------------\n",
    "#     with open(\"vivekModel2\",'wb') as f:\n",
    "#         pickle.dump(clf_pf,f)\n",
    "    #-----------------------------------------------------------\n",
    "    \n",
    "    \n",
    "    with open(\"vivekModel2\",'rb') as f:\n",
    "        newmodel = pickle.load(f)\n",
    "    \n",
    "    TestingData = inputTesting()\n",
    "    Testdataset = pd.DataFrame({'A': TestingData[:, 0], 'B': TestingData[:, 1]})\n",
    "    CleanTestData=stopword_stemming(Testdataset)\n",
    "\n",
    "    tfidfTest = vectorizer.transform(CleanTestData['B'])\n",
    "    print(\"--------------Shape of Test vectorized data------------\")\n",
    "    print(tfidfTest.shape)\n",
    "    newFeatureTest = perSel.transform(tfidfTest)\n",
    "    print(newFeatureTest.shape)\n",
    "    prediction = newmodel.predict(newFeatureTest.toarray())\n",
    "    percentcileProb = newmodel.predict_proba(newFeatureTest.toarray())[:,1]\n",
    "    print(\"--------------------------------------------------------\\n\")\n",
    "    \n",
    "    match = 0\n",
    "    for i in range(len(prediction)):\n",
    "        if prediction[i] == CleanTestData[\"A\"][i]:\n",
    "            match += 1\n",
    "    accurarcy = (match*100)/len(prediction)\n",
    "    print(\"Accrarcy is \",accurarcy)\n",
    "    print(\"--------------------------------------------------------\\n\")\n",
    "    return percentcileProb"
   ]
  },
  {
   "cell_type": "markdown",
   "metadata": {},
   "source": [
    "# Function for structurally call the functions:  Part A B C D"
   ]
  },
  {
   "cell_type": "code",
   "execution_count": 12,
   "metadata": {},
   "outputs": [],
   "source": [
    "def main():\n",
    "    '''test 0 represents testing data\n",
    "    test 1 represents training data'''\n",
    "    case = 2\n",
    "    part = \"\"\n",
    "    if case ==1:\n",
    "        part ='A'\n",
    "    else:\n",
    "        part ='D'\n",
    "        \n",
    "    startTime = time.time()\n",
    "    TrainingDataFrame = inputTraining(case)\n",
    "    TrainingData = TrainingDataFrame.to_numpy()\n",
    "    \n",
    "    #--------------------------------------------------------------------------\n",
    "    #creating pickle of the clean data for further use\n",
    "    if case ==2:\n",
    "        import pickle\n",
    "        with open(\"cleanData\",'wb') as f:\n",
    "            pickle.dump(TrainingDataFrame, f, protocol=pickle.HIGHEST_PROTOCOL)\n",
    "    #--------------------------------------------------------------------------\n",
    "    \n",
    "    (vocab_class0,vocab_class4, TotalVocab,wc) = vocabulary(TrainingData)\n",
    "    phi = FindPhi(TrainingData)\n",
    "    theta  = Findtheta(vocab_class0,  vocab_class4, TotalVocab,wc)\n",
    "    TestingData = inputTesting()\n",
    "    \n",
    "    print(\"------------------------------PART 1-{}-------------------\".format(part))\n",
    "    #TESTING DATA\n",
    "    (AccurarcyTest,confusionMatrixTest,postiveProbalityTest) = testing(TestingData,theta,phi,case,0)\n",
    "    print(\"Accuracy over Testing data is : \",AccurarcyTest,\"%\")\n",
    "    \n",
    "    #TRAINING DATA\n",
    "    (AccurarcyTrain ,confusionMatrixTrain,postiveProbalityTrain)= testing(TrainingData,theta,phi,case,1)\n",
    "    print(\"Accuracy over Training data is : \",AccurarcyTrain,\"%\")\n",
    "    \n",
    "    print(\"---------------------------------------------------------\\n\")\n",
    "    endTime = time.time()-startTime\n",
    "    print(\"-----------------------TIME TAKEN------------------------\")\n",
    "    print(\"Total time taken is :\",endTime)\n",
    "    print(\"---------------------------------------------------------\\n\")\n",
    "    \n",
    "    \n",
    "    print(\"-----------------------------PART 1-B---------------------\")\n",
    "    print(\"-------------------RANDOM PREDICTION FOR TEST-------------\\n\")\n",
    "    randomPredict =randomPrediction(TestingData.shape[0])\n",
    "\n",
    "    match = 0\n",
    "    for i in range(TestingData.shape[0]):\n",
    "        if randomPredict[i] == TestingData[i,0]:\n",
    "            match +=1\n",
    "    randomAcc = (match*100)/TestingData.shape[0]\n",
    "    print(\"Random guessing accuracy is \",randomAcc)\n",
    "    print(\"\\n\")\n",
    "    print(\"-------------------MAJORITY PREDICTION--------------------\\n\")\n",
    "    print(\"Since both targets are equally distributed in training data \\n\")\n",
    "    count4 = np.count_nonzero(TestingData[:,0]==4)\n",
    "    count0 = TestingData.shape[0] - count4\n",
    "    A4 = (count4*100)/TestingData.shape[0]\n",
    "    A0 = (count0*100)/TestingData.shape[0]\n",
    "    print(\"Accurarcy after taking postive class as majority \",A0)\n",
    "    print(\"Accurarcy after taking negative class as majority \",A4)\n",
    "\n",
    "    print(\"----------------------------------------------------------\\n\")\n",
    "    \n",
    "    \n",
    "    \n",
    "    print(\"------------------------------PART 1-C-------------------\")\n",
    "    print(\"CONFUSION MATRIX FOR TEST DATA: \")\n",
    "    print(\" Actual \\t\\t Class 0 \\t Class 1\")\n",
    "    print(\"predicted Class 0 \\t\",confusionMatrixTest[0,0],\"\\t\\t\",confusionMatrixTest[0,1])\n",
    "    print(\"predicted Class 1 \\t\",confusionMatrixTest[1,0],\"\\t\\t\",confusionMatrixTest[1,1])\n",
    "    print(\"\\n\")\n",
    "    print(\"CONFUSION MATRIX FOR TRAIN DATA: \")\n",
    "    print(\" Actual \\t\\t Class 0 \\t\\t Class 4\")\n",
    "    print(\"predicted Class 0 \\t\",confusionMatrixTrain[0,0],\"\\t\\t\",confusionMatrixTrain[0,1])\n",
    "    print(\"predicted Class 4 \\t\",confusionMatrixTrain[1,0],\"\\t\\t\\t\",confusionMatrixTrain[1,1])\n",
    "    print(\"---------------------------------------------------------\\n\")\n",
    "    \n",
    "    \n",
    "    \n",
    "    print(\"-----------------------------PART F-----------------------\")\n",
    "    tfidfProb = tfidf()\n",
    "    percentcileProb = selectPercenttile()\n",
    "   \n",
    "    \n",
    "    print(\"-----------------------------PART G-----------------------\")\n",
    "    print(\"---------------RECEIVER OPERATING CHARACTERSTIC-----------\\n\")\n",
    "    print(\"ROC for Test\")\n",
    "    ROC(TestingData[:,0].tolist(),postiveProbalityTest,4)\n",
    "#     print(\"ROC for Train\")\n",
    "#     ROC(TrainingData[:,0].tolist(),postiveProbalityTrain,4)\n",
    "    print(\"ROC for TFIDF\")\n",
    "    ROC(TestingData[:,0].tolist(),tfidfProb,4)\n",
    "    print(\"ROC for SelectPercentile\")\n",
    "    ROC(TestingData[:,0].tolist(),percentcileProb,4)\n",
    "    print(\"----------------------------------------------------------\\n\")"
   ]
  },
  {
   "cell_type": "code",
   "execution_count": 13,
   "metadata": {},
   "outputs": [
    {
     "name": "stdout",
     "output_type": "stream",
     "text": [
      "Vocalbulary done\n",
      "parameters calculated\n",
      "------------------------------PART 1-D-------------------\n",
      "Accuracy over Testing data is :  81.61559888579387 %\n",
      "Accuracy over Training data is :  79.209 %\n",
      "---------------------------------------------------------\n",
      "\n",
      "-----------------------TIME TAKEN------------------------\n",
      "Total time taken is : 336.37701869010925\n",
      "---------------------------------------------------------\n",
      "\n",
      "-----------------------------PART 1-B---------------------\n",
      "-------------------RANDOM PREDICTION FOR TEST-------------\n",
      "\n",
      "Random guessing accuracy is  47.910863509749305\n",
      "\n",
      "\n",
      "-------------------MAJORITY PREDICTION--------------------\n",
      "\n",
      "Since both targets are equally distributed in training data \n",
      "\n",
      "Accurarcy after taking postive class as majority  49.30362116991643\n",
      "Accurarcy after taking negative class as majority  50.69637883008357\n",
      "----------------------------------------------------------\n",
      "\n",
      "------------------------------PART 1-C-------------------\n",
      "CONFUSION MATRIX FOR TEST DATA: \n",
      " Actual \t\t Class 0 \t Class 1\n",
      "predicted Class 0 \t 141 \t\t 30\n",
      "predicted Class 1 \t 36 \t\t 152\n",
      "\n",
      "\n",
      "CONFUSION MATRIX FOR TRAIN DATA: \n",
      " Actual \t\t Class 0 \t\t Class 4\n",
      "predicted Class 0 \t 648305 \t\t 180961\n",
      "predicted Class 4 \t 151695 \t\t\t 619039\n",
      "---------------------------------------------------------\n",
      "\n",
      "-----------------------------PART F-----------------------\n",
      "-------------Question F --> PART A---------------------\n",
      "\n",
      "--------------Shape of Train vectorized data------------\n",
      "(1600000, 293612)\n",
      "--------------------------------------------------------\n",
      "\n",
      "--------------Shape of Test vectorized data------------\n",
      "(359, 293612)\n",
      "--------------------------------------------------------\n",
      "\n",
      "Accrarcy is  48.467966573816156\n",
      "--------------------------------------------------------\n",
      "\n",
      "-------------Question F --> PART B---------------------\n",
      "\n",
      "--------------Shape of Train vectorized data------------\n",
      "(1600000, 293612)\n"
     ]
    },
    {
     "name": "stderr",
     "output_type": "stream",
     "text": [
      "\r",
      "  0%|          | 0/1600 [00:00<?, ?it/s]"
     ]
    },
    {
     "name": "stdout",
     "output_type": "stream",
     "text": [
      "(1600000, 29362)\n",
      "--------------------------------------------------------\n",
      "\n"
     ]
    },
    {
     "name": "stderr",
     "output_type": "stream",
     "text": [
      "100%|██████████| 1600/1600 [08:48<00:00,  3.03it/s]\n"
     ]
    },
    {
     "name": "stdout",
     "output_type": "stream",
     "text": [
      "--------------Shape of Test vectorized data------------\n",
      "(359, 293612)\n",
      "(359, 29362)\n",
      "--------------------------------------------------------\n",
      "\n",
      "Accrarcy is  55.43175487465181\n",
      "--------------------------------------------------------\n",
      "\n",
      "-----------------------------PART G-----------------------\n",
      "---------------RECEIVER OPERATING CHARACTERSTIC-----------\n",
      "\n",
      "ROC for Test\n"
     ]
    },
    {
     "data": {
      "image/png": "[encoded data removed]",
      "text/plain": [
       "<Figure size 432x288 with 1 Axes>"
      ]
     },
     "metadata": {},
     "output_type": "display_data"
    },
    {
     "name": "stdout",
     "output_type": "stream",
     "text": [
      "ROC for TFIDF\n"
     ]
    },
    {
     "data": {
      "image/png": "[encoded data removed]",
      "text/plain": [
       "<Figure size 432x288 with 1 Axes>"
      ]
     },
     "metadata": {},
     "output_type": "display_data"
    },
    {
     "name": "stdout",
     "output_type": "stream",
     "text": [
      "ROC for SelectPercentile\n"
     ]
    },
    {
     "data": {
      "image/png": "[encoded data removed]",
      "text/plain": [
       "<Figure size 432x288 with 1 Axes>"
      ]
     },
     "metadata": {},
     "output_type": "display_data"
    },
    {
     "name": "stdout",
     "output_type": "stream",
     "text": [
      "----------------------------------------------------------\n",
      "\n"
     ]
    }
   ],
   "source": [
    "main()\n"
   ]
  },
  {
   "cell_type": "markdown",
   "metadata": {},
   "source": [
    "# Feature Engineering Bi-gram"
   ]
  },
  {
   "cell_type": "code",
   "execution_count": 36,
   "metadata": {},
   "outputs": [],
   "source": [
    "\n",
    "def bigramification(data):\n",
    "    for index in range(data.shape[0]):\n",
    "        newData = []\n",
    "        rowList = data[index,1].split()\n",
    "        for i in range(len(rowList)-1):\n",
    "            newData.append(rowList[i])\n",
    "            newData.append(rowList[i]+rowList[i+1])\n",
    "        data[index,1] = \" \".join(newData.copy())\n",
    "    return data\n"
   ]
  },
  {
   "cell_type": "code",
   "execution_count": 37,
   "metadata": {},
   "outputs": [
    {
     "name": "stdout",
     "output_type": "stream",
     "text": [
      "Vocalbulary done\n",
      "parameters calculated\n",
      "Accuracy over Testing data is :  81.33704735376045 %\n"
     ]
    }
   ],
   "source": [
    "import pickle\n",
    "with open('cleanData','rb') as f:\n",
    "        trainData=pickle.load(f)\n",
    "trainData = trainData.to_numpy()\n",
    "train = bigramification(trainData)\n",
    "(vocab_class0,vocab_class4, TotalVocab,wc) = vocabulary(train)\n",
    "phi = FindPhi(train)\n",
    "theta  = Findtheta(vocab_class0,  vocab_class4, TotalVocab,wc)\n",
    "\n",
    "testData = inputTesting()\n",
    "testDataFrame = pd.DataFrame({'A': testData[:, 0], 'B': testData[:, 1]})\n",
    "CleanTestData = stopword_stemming(testDataFrame)\n",
    "test = bigramification(CleanTestData.to_numpy())\n",
    "#TESTING DATA\n",
    "(Accurarcy ,confusionMatrixTrain,postiveProbalityTrain)= testing(test,theta,phi,2,0)\n",
    "print(\"Accuracy over Testing data is : \",Accurarcy,\"%\")"
   ]
  },
  {
   "cell_type": "code",
   "execution_count": null,
   "metadata": {},
   "outputs": [],
   "source": []
  }
 ],
 "metadata": {
  "kernelspec": {
   "display_name": "Python 3",
   "language": "python",
   "name": "python3"
  },
  "language_info": {
   "codemirror_mode": {
    "name": "ipython",
    "version": 3
   },
   "file_extension": ".py",
   "mimetype": "text/x-python",
   "name": "python",
   "nbconvert_exporter": "python",
   "pygments_lexer": "ipython3",
   "version": "3.6.5"
  }
 },
 "nbformat": 4,
 "nbformat_minor": 2
}
