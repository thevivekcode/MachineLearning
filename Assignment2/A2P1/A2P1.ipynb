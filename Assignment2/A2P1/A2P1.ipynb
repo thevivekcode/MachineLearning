{
 "cells": [
  {
   "cell_type": "code",
   "execution_count": null,
   "metadata": {},
   "outputs": [],
   "source": [
    "import math\n",
    "import numpy as np\n",
    "import pandas as pd\n",
    "import matplotlib.pyplot as plt\n",
    "import time\n",
    "import nltk\n",
    "from nltk.corpus import stopwords\n",
    "from nltk.stem.snowball import SnowballStemmer\n",
    "import re\n",
    "import pickle\n",
    "from sklearn.feature_extraction.text import TfidfVectorizer\n",
    "from sklearn.naive_bayes import GaussianNB\n",
    "from tqdm import tqdm\n",
    "from sklearn.feature_selection import SelectPercentile, chi2, f_classif\n",
    "from sklearn import metrics\n",
    "import seaborn as sn"
   ]
  },
  {
   "cell_type": "markdown",
   "metadata": {},
   "source": [
    "<font color=red size=5cm>INPUT DATA</font>"
   ]
  },
  {
   "cell_type": "code",
   "execution_count": null,
   "metadata": {},
   "outputs": [],
   "source": [
    "def inputTraining():\n",
    "    trainingDataFrame = pd.read_csv(\"./trainingandtestdata/training.1600000.processed.noemoticon.csv\",encoding = \"latin-1\", header=None, usecols=[0,5],names=['A','B'],index_col=False)\n",
    "    return trainingDataFrame\n",
    "    \n",
    "\n",
    "def inputTesting():\n",
    "    df = pd.read_csv(\"./trainingandtestdata/testdata.manual.2009.06.14.csv\",encoding = \"latin-1\", header=None, usecols=[0,5],names=['A','B'],index_col=False)\n",
    "    data = df.to_numpy()\n",
    "    data = data[np.where(data[:,0]!=2)]\n",
    "    testingDataFrame = pd.DataFrame({'A': data[:, 0], 'B': data[:, 1]})\n",
    "    return testingDataFrame"
   ]
  },
  {
   "cell_type": "code",
   "execution_count": null,
   "metadata": {},
   "outputs": [],
   "source": [
    "trainingDataFrame = inputTraining()\n",
    "testingDataFrame = inputTesting()"
   ]
  },
  {
   "cell_type": "markdown",
   "metadata": {},
   "source": [
    "<font color =red size=5cm>DATA DESCRIPTION</font>"
   ]
  },
  {
   "cell_type": "code",
   "execution_count": null,
   "metadata": {},
   "outputs": [],
   "source": [
    "# A = Polarity\n",
    "# B = TweetID\n",
    "# C = date of the tweet \n",
    "# D = query (lyx)\n",
    "# E = user\n",
    "# F = tweet\n",
    "\n",
    "#-----------CLASS------------\n",
    "\n",
    "#class 0 Negative \n",
    "#calss 4 Positive"
   ]
  },
  {
   "cell_type": "markdown",
   "metadata": {},
   "source": [
    "<font color = red size=5cm>CREATING VOCABULARY</font>"
   ]
  },
  {
   "cell_type": "code",
   "execution_count": null,
   "metadata": {},
   "outputs": [],
   "source": [
    "# creating vocabulary of all words in training data\n",
    "\n",
    "def vocabulary(data):\n",
    "    \"\"\"\n",
    "    Inputs data in numpy format\n",
    "    Col 0: Label\n",
    "    Col 1: Text\n",
    "    \"\"\"\n",
    "    data_class0 = data[np.where(data[:,0]==0)]\n",
    "#     data_class2 = data[np.where(data[:,0]==2)]\n",
    "    data_class4 = data[np.where(data[:,0]==4)]\n",
    "    dataClassList  = [data_class0,data_class4]\n",
    "    \n",
    "    vocab_class0 = dict()\n",
    "    vocab_class4 = dict()\n",
    "    \n",
    "    TotalVocab = dict()\n",
    "    wc = []\n",
    "    vocabClassList = [vocab_class0,vocab_class4]\n",
    "    for i,j in zip(dataClassList,vocabClassList):\n",
    "        totalWordCountInClass = 0\n",
    "        tweetList = i[:,1]\n",
    "        for tweet in tweetList:\n",
    "            tweetlist = tweet.replace(\",\",\" \").replace(\".\",\" \").split()\n",
    "#             tweetlist = tweet.split()\n",
    "            for words in tweetlist:\n",
    "                totalWordCountInClass+=1\n",
    "                if words in j:\n",
    "                    j[words]+=1\n",
    "                    TotalVocab[words]+=1\n",
    "                elif words in TotalVocab:\n",
    "                    TotalVocab[words]+=1\n",
    "                    j[words]=1\n",
    "                else:\n",
    "                    TotalVocab[words] = 1\n",
    "                    j[words] = 1\n",
    "                    \n",
    "               \n",
    "                    \n",
    "        wc.append(totalWordCountInClass)\n",
    "    print(\"Vocalbulary done\")\n",
    "    return vocab_class0,vocab_class4, TotalVocab,wc"
   ]
  },
  {
   "cell_type": "markdown",
   "metadata": {},
   "source": [
    "<font color = red size=5cm>CALCULATING PARAMETERS</font>"
   ]
  },
  {
   "cell_type": "code",
   "execution_count": 6,
   "metadata": {},
   "outputs": [],
   "source": [
    "# finding parameters\n",
    "\n",
    "def FindPhi(data):\n",
    "    \"\"\"\n",
    "    Inputs data in numpy format\n",
    "    Col 0: Label\n",
    "    Col 1: Text\n",
    "    \"\"\"\n",
    "    phi = np.zeros((2,1))\n",
    "    phi[0,0] = (np.count_nonzero(data[:,0] == 0)+1)/(data.shape[0]+2)\n",
    "    phi[1,0] = (np.count_nonzero(data[:,0] == 4)+1)/(data.shape[0]+2)\n",
    "    return phi\n",
    "\n",
    "def Findtheta(vocab_class0,  vocab_class4, TotalVocab,wc):\n",
    "    #----------------------------------------------------------------------------------------\n",
    "    theta = dict()\n",
    "    #--------------------------------------------------------------------------------------------\n",
    "   \n",
    "    for words in TotalVocab:\n",
    "        theta[words] = []\n",
    "\n",
    "        theta_ofThe_Word = 0\n",
    "        if words in vocab_class0:\n",
    "            theta_ofThe_Word = (vocab_class0[words] + 1)/(wc[0] + len(TotalVocab))\n",
    "        else:\n",
    "            theta_ofThe_Word = 1/(wc[0] + len(TotalVocab))\n",
    "        theta[words].append(theta_ofThe_Word)\n",
    "            \n",
    "    #---------------------------------------------------------------------------------------------\n",
    "\n",
    "        theta_ofThe_Word = 0\n",
    "        if words in vocab_class4:\n",
    "            theta_ofThe_Word = (vocab_class4[words] + 1)/(wc[1]+ len(TotalVocab))\n",
    "        else:\n",
    "            theta_ofThe_Word = 1/(wc[1]+ len(TotalVocab))\n",
    "        theta[words].append(theta_ofThe_Word)\n",
    "        \n",
    "    #----------------------------------------------------------------------------------------------\n",
    "    print(\"parameters calculated\")\n",
    "    return theta"
   ]
  },
  {
   "cell_type": "markdown",
   "metadata": {},
   "source": [
    "<font color =red size=5cm>PREDICTING :</font>\n",
    "<font color = blue size=4cm>Accuracy, Confusion Matrix and Probablity </font>"
   ]
  },
  {
   "cell_type": "code",
   "execution_count": 7,
   "metadata": {},
   "outputs": [],
   "source": [
    "def Predicting(TestingData,theta,phi):\n",
    "\n",
    "    prediction = []\n",
    "    postiveProbality = []\n",
    "    for tweet in TestingData[:,1]:\n",
    "        class0 = phi[0,0]\n",
    "        class4 = phi[1,0]\n",
    "        \n",
    "        tweetlist = tweet.replace(\",\",\" \").replace(\".\",\" \").split()\n",
    "        \n",
    "        #CALCULATE PROBABILTY\n",
    "        for words in tweetlist:\n",
    "            if words in theta:\n",
    "                class0 += math.log(theta[words][0]) \n",
    "            else:\n",
    "                class0 += math.log(1/(len(tweetlist) + len(theta)))\n",
    "            \n",
    "            if words in theta:\n",
    "                class4 += math.log(theta[words][1]) \n",
    "            else :\n",
    "                class4 += math.log(1/(len(tweetlist) + len(theta)))\n",
    "        \n",
    "        class0 += math.log(phi[0,0])\n",
    "        class4 += math.log(phi[1,0])\n",
    "        postiveProbality.append(class4)\n",
    "        if class0 > class4:\n",
    "            prediction.append(0)\n",
    "        else:\n",
    "            prediction.append(4)\n",
    "            \n",
    "    count =0\n",
    "    correct_class0 = 0\n",
    "    correct_class4 = 0\n",
    "    incorrect_class0 = 0\n",
    "    incorrect_class4 = 0\n",
    "    for i in  range(TestingData.shape[0]):\n",
    "        if prediction[i] == TestingData[i,0]:\n",
    "            if prediction[i] == 0:\n",
    "                correct_class0+=1\n",
    "            else:\n",
    "                correct_class4+=1\n",
    "            count+=1\n",
    "        else:\n",
    "            if prediction[i]==0:\n",
    "                incorrect_class4+=1\n",
    "            else:\n",
    "                incorrect_class0+=1\n",
    "    \n",
    "    confusionMatrix = np.array([[correct_class0,incorrect_class4],[incorrect_class0,correct_class4]])\n",
    "    Accurarcy = (count/TestingData.shape[0])*100\n",
    "        \n",
    "    return Accurarcy,confusionMatrix,postiveProbality"
   ]
  },
  {
   "cell_type": "markdown",
   "metadata": {},
   "source": [
    "# PART 1-A"
   ]
  },
  {
   "cell_type": "code",
   "execution_count": 8,
   "metadata": {},
   "outputs": [],
   "source": [
    "def part1A(trainingDataFrame,testingDataFrame):\n",
    "    \n",
    "    #-------------------LEARNING-------------------------------------------------------\n",
    "    trainDataframe = trainingDataFrame.copy()\n",
    "    trainDataframe[\"B\"] =  trainDataframe[\"B\"].str.replace(\",\",\" \").str.replace(\".\",\" \")\n",
    "    TrainingData = trainDataframe.to_numpy()\n",
    "    (vocab_class0,vocab_class4, TotalVocab,wc) = vocabulary(TrainingData)\n",
    "    phi = FindPhi(TrainingData)\n",
    "    theta  = Findtheta(vocab_class0,  vocab_class4, TotalVocab,wc)\n",
    "    #----------------------------------------------------------------------------------\n",
    "    \n",
    "    #------------------TESTING---------------------------------------------------------\n",
    "    testDataFrame = testingDataFrame.copy()\n",
    "    testDataFrame[\"B\"] =  testDataFrame[\"B\"].str.replace(\",\",\" \").str.replace(\".\",\" \")\n",
    "    TestingData = testDataFrame.to_numpy()\n",
    "    Accurarcy, confusionMatrixTEST_1A, postiveProbalityTEST_1A = Predicting(TestingData,theta,phi)\n",
    "    print(\"Accurarcy over TESTING data is :\",Accurarcy,\" %\")\n",
    "    #----------------------------------------------------------------------------------\n",
    "    \n",
    "    #------------------TRAINING--------------------------------------------------------\n",
    "    Accurarcy, confusionMatrixTRAIN_1A, postiveProbalityTRAIN_1A = Predicting(TrainingData,theta,phi)\n",
    "    print(\"Accurarcy over TRAINING data is :\",Accurarcy,\" %\")\n",
    "    #-----------------------------------------------------------------------------------\n",
    "    return confusionMatrixTEST_1A, postiveProbalityTEST_1A, postiveProbalityTRAIN_1A"
   ]
  },
  {
   "cell_type": "code",
   "execution_count": 9,
   "metadata": {},
   "outputs": [
    {
     "name": "stdout",
     "output_type": "stream",
     "text": [
      "Vocalbulary done\n",
      "parameters calculated\n",
      "Accurarcy over TESTING data is : 80.77994428969359  %\n",
      "Accurarcy over TRAINING data is : 84.932875  %\n"
     ]
    }
   ],
   "source": [
    "confusionMatrixTEST_1A, postiveProbalityTEST_1A, postiveProbalityTRAIN_1A = part1A(trainingDataFrame,testingDataFrame)"
   ]
  },
  {
   "cell_type": "markdown",
   "metadata": {},
   "source": [
    "# PART 1-B"
   ]
  },
  {
   "cell_type": "markdown",
   "metadata": {},
   "source": [
    "<font color=red size=5cm>RANDOM PREDICTION</font>"
   ]
  },
  {
   "cell_type": "code",
   "execution_count": 10,
   "metadata": {},
   "outputs": [],
   "source": [
    "def randomPrediction(size):\n",
    "    \"\"\"\n",
    "    Give a size,\n",
    "    returns random choices \n",
    "    given a target to choose from.\n",
    "    \"\"\"\n",
    "    import random\n",
    "    targets =[0,4]\n",
    "    randomPrediction =[]\n",
    "    for i in range(size):\n",
    "        randomPrediction.append(random.choice(targets))\n",
    "    return randomPrediction"
   ]
  },
  {
   "cell_type": "code",
   "execution_count": 11,
   "metadata": {},
   "outputs": [],
   "source": [
    "def part1B(testingDataFrame):\n",
    "    TestingData  = testingDataFrame.to_numpy()\n",
    "    randomPredict =randomPrediction(TestingData.shape[0])\n",
    "    match = 0\n",
    "    for i in range(TestingData.shape[0]):\n",
    "        if randomPredict[i] == TestingData[i,0]:\n",
    "            match +=1\n",
    "    randomAcc = (match*100)/TestingData.shape[0]\n",
    "    print(\"Random guessing accuracy on test data is \",randomAcc,\" %\")"
   ]
  },
  {
   "cell_type": "code",
   "execution_count": 13,
   "metadata": {},
   "outputs": [
    {
     "name": "stdout",
     "output_type": "stream",
     "text": [
      "Random guessing accuracy on test data is  51.532033426183844  %\n"
     ]
    }
   ],
   "source": [
    "part1B(testingDataFrame)"
   ]
  },
  {
   "cell_type": "markdown",
   "metadata": {},
   "source": [
    "# PART 1-C"
   ]
  },
  {
   "cell_type": "code",
   "execution_count": 14,
   "metadata": {},
   "outputs": [],
   "source": [
    "def ConfusionMatrix(confusionMatrixTEST_1A):\n",
    "    df_cm = pd.DataFrame(confusionMatrixTEST_1A ,index = [i for i in [0,4]],\n",
    "                      columns = [i for i in [0,4]], dtype=int)\n",
    "    plt.figure(figsize = (6,4))\n",
    "    sn.heatmap(df_cm, annot=True,fmt='d')\n",
    "    plt.xlabel(\"ACTUAL VALUE\",fontsize = 15)\n",
    "    plt.ylabel(\"PREDICTED VALUE\",fontsize = 15)\n",
    "    plt.title(\"Confusion Matrix: TEST\",color =\"red\",size=20)\n",
    "    plt.show()"
   ]
  },
  {
   "cell_type": "code",
   "execution_count": 15,
   "metadata": {},
   "outputs": [
    {
     "data": {
      "image/png": "[encoded data removed]",
      "text/plain": [
       "<Figure size 432x288 with 2 Axes>"
      ]
     },
     "metadata": {},
     "output_type": "display_data"
    }
   ],
   "source": [
    "ConfusionMatrix(confusionMatrixTEST_1A)"
   ]
  },
  {
   "cell_type": "markdown",
   "metadata": {},
   "source": [
    "# PART 1-D"
   ]
  },
  {
   "cell_type": "markdown",
   "metadata": {},
   "source": [
    "<font color=red size=5cm>TOKENIZATION, STOPPING ADND STEMMING</font>"
   ]
  },
  {
   "cell_type": "code",
   "execution_count": 16,
   "metadata": {},
   "outputs": [],
   "source": [
    "def cleaningData(df):\n",
    "    \"\"\"\n",
    "    Takes dataframes as input \n",
    "    and returns a cleaned dataframe.\n",
    "    \"\"\"\n",
    "    #----------Cleaning URLs ------------------------------------\n",
    "    def removeURL(text):\n",
    "        return re.sub(r'\\w+:\\/{2}[\\d\\w-]+(\\.[\\d\\w-]+)*(?:(?:\\/[^\\s/]*))*', '', text)\n",
    "    \n",
    "    df[\"B\"] = df[\"B\"].apply(lambda text: removeURL(text) )\n",
    "    #------------------------------------------------------------\n",
    "    \n",
    "    \n",
    "    #-------------Cleaning punctuation---------------------------\n",
    "    def removePunctuation(text):    \n",
    "#         punctuation =  '!\"#$\\()*+/<=>?[\\\\]^_`{|}~'\n",
    "        punctuation =  '!\"#{}'\n",
    "        for c in punctuation:\n",
    "            text= text.replace(c,\"\")\n",
    "        return text\n",
    "    \n",
    "    df[\"B\"] = df[\"B\"].apply(lambda text: removePunctuation(text) )\n",
    "    #-------------------------------------------------------------\n",
    "    \n",
    "    \n",
    "    #-------------Tokenization------------------------------------\n",
    "    def tokenization(text):\n",
    "#         pointOfSplit = ',.:;'\n",
    "        pointOfSplit = ',.'\n",
    "        for c in pointOfSplit:\n",
    "            text= text.replace(c,\" \")\n",
    "        return text.lower().split()\n",
    "    \n",
    "    df[\"B\"] = df[\"B\"].apply(lambda text: tokenization(text) )\n",
    "    #--------------------------------------------------------------\n",
    "    \n",
    "    \n",
    "    #-----------english stoppers and stemmer---------------------\n",
    "    stops = set(stopwords.words(\"english\"))\n",
    "    stemmer = SnowballStemmer(\"english\")\n",
    "    \n",
    "    df['B'] = df['B'].apply(lambda x: [stemmer.stem(item) for item in x if item not in stops and not item.startswith('@')])\n",
    "    \n",
    "    df['B'] =  df['B'].apply(lambda x: \" \".join(x))\n",
    "    #------------------------------------------------------------\n",
    "\n",
    "    return df "
   ]
  },
  {
   "cell_type": "code",
   "execution_count": 17,
   "metadata": {},
   "outputs": [],
   "source": [
    "def part1D(trainingDataFrame,testingDataFrame):\n",
    "    s =time.time()\n",
    "    \n",
    "    trainDataframe = trainingDataFrame.copy()\n",
    "#     \n",
    "#     trainDataframe =  cleaningData(trainDataframe)  # CLEANING THE TRAINING DATA\n",
    "#     with open('cleanTrainData','wb') as f:\n",
    "#         pickle.dump(trainDataframe, f, protocol=pickle.HIGHEST_PROTOCOL)\n",
    "        \n",
    "    with open('cleanTrainData','rb') as f:\n",
    "        trainDataframe = pickle.load(f)\n",
    "    TrainingData = trainDataframe.to_numpy()\n",
    "    \n",
    "    \n",
    "    #-------------------LEARNING-------------------------------------------------------\n",
    "    (vocab_class0, vocab_class4, TotalVocab,wc) = vocabulary(TrainingData)\n",
    "    phi = FindPhi(TrainingData)\n",
    "    theta  = Findtheta(vocab_class0,  vocab_class4, TotalVocab,wc)\n",
    "    #----------------------------------------------------------------------------------\n",
    "    \n",
    "    \n",
    "    #------------------TESTING---------------------------------------------------------\n",
    "    testDataFrame = testingDataFrame.copy()\n",
    "    testDataFrame =  cleaningData(testDataFrame) # CLEANING THE TESTING DATA\n",
    "    TestingData = testDataFrame.to_numpy()\n",
    "    Accurarcy, confusionMatrixTEST_1D, postiveProbalityTEST_1D = Predicting(TestingData,theta,phi)\n",
    "    print(\"Accurarcy over TESTING data is :\",Accurarcy,\" %\\n\")\n",
    "    #----------------------------------------------------------------------------------\n",
    "    \n",
    "\n",
    "    print(\"TOTAL TIME :\",time.time()-s)\n",
    "    return postiveProbalityTEST_1D"
   ]
  },
  {
   "cell_type": "code",
   "execution_count": 18,
   "metadata": {},
   "outputs": [
    {
     "name": "stdout",
     "output_type": "stream",
     "text": [
      "Vocalbulary done\n",
      "parameters calculated\n",
      "Accurarcy over TESTING data is : 82.17270194986072  %\n",
      "\n",
      "TOTAL TIME : 8.547100067138672\n"
     ]
    }
   ],
   "source": [
    "postiveProbalityTEST_1D = part1D(trainingDataFrame,testingDataFrame)"
   ]
  },
  {
   "cell_type": "markdown",
   "metadata": {},
   "source": [
    "# PART 1-E"
   ]
  },
  {
   "cell_type": "markdown",
   "metadata": {},
   "source": [
    "<font color =red size = 5cm> FEATURE ENGINEERING </font>"
   ]
  },
  {
   "cell_type": "code",
   "execution_count": 19,
   "metadata": {},
   "outputs": [],
   "source": [
    "def bigramification(Data):\n",
    "    \"\"\"\n",
    "    Takes data as numpy ndarray\n",
    "    \"\"\"\n",
    "    data = Data.copy()\n",
    "    for index in range(data.shape[0]):\n",
    "        newData = []\n",
    "        rowList = data[index,1].split()\n",
    "        for i in range(len(rowList)-1):\n",
    "            newData.append(rowList[i])\n",
    "            newData.append(rowList[i]+rowList[i+1])\n",
    "        data[index,1] = \" \".join(newData.copy())\n",
    "    return data\n"
   ]
  },
  {
   "cell_type": "code",
   "execution_count": 20,
   "metadata": {},
   "outputs": [],
   "source": [
    "def POS_tagging():\n",
    "    from nltk.tokenize import word_tokenize, sent_tokenize \n",
    "\n",
    "    with open('cleanTrainData','rb') as f:\n",
    "        trainDataframe = pickle.load(f)\n",
    "\n",
    "    trainDataframe[\"B\"] = trainDataframe[\"B\"].str.split()\n",
    "    trainDataframe[\"B\"]=trainDataframe[\"B\"].apply(lambda wordsList:nltk.pos_tag(wordsList))\n",
    "    with open('POS_TaggedTrain','wb') as f:\n",
    "        pickle.dump(trainDataframe,f)"
   ]
  },
  {
   "cell_type": "code",
   "execution_count": 21,
   "metadata": {},
   "outputs": [],
   "source": [
    "def POS_Data():\n",
    "    with open('cleanTrainData','rb') as f:\n",
    "        trainDataframe = pickle.load(f)\n",
    "        \n",
    "    with open('POS_TaggedTrain','rb') as f:\n",
    "        tagged_trainDataframe = pickle.load(f)\n",
    "        \n",
    "    trainData = trainDataframe.to_numpy()\n",
    "#     POS_tagges = [\"JJ\",\"JJR\",\"JJS\",\"RB\",\"RBR\",\"RBS\",\"VB\",\"VBD\",\"VBG\",\"VBN\",\"VBP\"]\n",
    "#     POS_tagges = [\"RB\",\"RBR\",\"RBS\",\"VB\",\"VBD\",\"VBG\",\"VBN\",\"VBP\"]\n",
    "    POS_tagges = [\"RB\",\"RBR\",\"RBS\"]\n",
    "    text = []\n",
    "    for i in tqdm(range(tagged_trainDataframe.shape[0])):\n",
    "        tweetWordList = []\n",
    "        for j in tagged_trainDataframe[\"B\"][i]:\n",
    "            if j[1] in POS_tagges:\n",
    "                tweetWordList.append(j[0])\n",
    "                tweetWordList.append(j[0])\n",
    "                tweetWordList.append(j[0])\n",
    "            else:\n",
    "                tweetWordList.append(j[0])\n",
    "        trainData[i,1] = \" \".join(tweetWordList)\n",
    "                \n",
    "    dataset = pd.DataFrame({'A': trainData[:, 0], 'B': trainData[:, 1]})\n",
    "    return dataset"
   ]
  },
  {
   "cell_type": "code",
   "execution_count": 22,
   "metadata": {},
   "outputs": [],
   "source": [
    "def featureEngineering():\n",
    "\n",
    "    \n",
    "    #-----POS-----------------------------------\n",
    "    trainDataframe = POS_Data()\n",
    "    #-------------------------------------------\n",
    "    \n",
    "    testingDataFrame = inputTesting()\n",
    "    \n",
    "    TrainingData = trainDataframe.to_numpy()\n",
    "    \n",
    "    testDataFrame =  cleaningData(testingDataFrame)\n",
    "    TestingData = testDataFrame.to_numpy()\n",
    "    \n",
    "    #------ADDING FEATURES: BIGRAM-----------------\n",
    "    TrainingDataBG =  bigramification(TrainingData)\n",
    "    TestingDataBG =  bigramification(TestingData)\n",
    "    #----------------------------------------------\n",
    "    \n",
    "    \n",
    "    #------------------LEARNING-------------------------------\n",
    "    (vocab_class0, vocab_class4, TotalVocab,wc) = vocabulary(TrainingDataBG)\n",
    "    phi = FindPhi(TrainingData)\n",
    "    theta  = Findtheta(vocab_class0,  vocab_class4, TotalVocab,wc)\n",
    "    #---------------------------------------------------------\n",
    "    \n",
    "    \n",
    "    #---------------------TESTING---------------------------------------\n",
    "    Accurarcy, confusionMatrixTEST_1E, postiveProbalityTEST_1E = Predicting(TestingData,theta,phi)\n",
    "    print(\"Accurarcy over TESTING data is :\",Accurarcy,\" %\")\n",
    "    \n",
    "    #------------------------------------------------------------------------\n",
    "    \n",
    "    return postiveProbalityTEST_1E\n",
    "    "
   ]
  },
  {
   "cell_type": "code",
   "execution_count": 23,
   "metadata": {},
   "outputs": [
    {
     "name": "stderr",
     "output_type": "stream",
     "text": [
      "100%|██████████| 1600000/1600000 [00:58<00:00, 27156.60it/s]\n"
     ]
    },
    {
     "name": "stdout",
     "output_type": "stream",
     "text": [
      "Vocalbulary done\n",
      "parameters calculated\n",
      "Accurarcy over TESTING data is : 83.56545961002786  %\n"
     ]
    }
   ],
   "source": [
    "postiveProbalityTEST_1E = featureEngineering()"
   ]
  },
  {
   "cell_type": "code",
   "execution_count": null,
   "metadata": {},
   "outputs": [],
   "source": []
  },
  {
   "cell_type": "markdown",
   "metadata": {},
   "source": [
    "# PART 1-F"
   ]
  },
  {
   "cell_type": "markdown",
   "metadata": {},
   "source": [
    "<font color = red size=5cm>TF-IDF</font>"
   ]
  },
  {
   "cell_type": "code",
   "execution_count": 24,
   "metadata": {},
   "outputs": [],
   "source": [
    "from sklearn.feature_extraction.text import TfidfVectorizer\n",
    "from sklearn.naive_bayes import GaussianNB\n",
    "from tqdm import tqdm"
   ]
  },
  {
   "cell_type": "code",
   "execution_count": 25,
   "metadata": {},
   "outputs": [],
   "source": [
    "def tfidf(trainingDataFrame,testingDataFrame):\n",
    "    with open('cleanTrainData','rb') as f:\n",
    "        trainDataframe = pickle.load(f)\n",
    "        \n",
    "    vectorizer = TfidfVectorizer(min_df=0.0007)\n",
    "#     vectorizer = TfidfVectorizer()\n",
    "    \n",
    "    X_tfidf = vectorizer.fit_transform(trainDataframe['B'])\n",
    "    \n",
    "    print(\"--------------Shape of Train vectorized data------------\")\n",
    "    print(X_tfidf.shape)\n",
    "    print(\"--------------------------------------------------------\\n\")\n",
    "    \n",
    "    model = GaussianNB()\n",
    "    for i in tqdm(range(0,trainDataframe.shape[0],1000)):\n",
    "        model.partial_fit(X_tfidf[i:i+1000].toarray(), trainDataframe['A'][i:i+1000].to_numpy(), np.array([0,4]))\n",
    "        \n",
    "    \n",
    "    testDataFrame = testingDataFrame.copy()\n",
    "    testDataFrame =  cleaningData(testDataFrame) # CLEANING THE TESTING DATA\n",
    "    \n",
    "    X_test_tfidf = vectorizer.transform(testDataFrame['B'])\n",
    "    \n",
    "    print(\"--------------Shape of Test vectorized data------------\")\n",
    "    print(X_test_tfidf.shape)\n",
    "    print(\"--------------------------------------------------------\\n\")\n",
    "    \n",
    "    prediction = model.predict(X_test_tfidf.toarray())\n",
    "    tfidf_Prob = model.predict_log_proba(X_test_tfidf.toarray())[:,1]\n",
    "    \n",
    "    match = 0\n",
    "    for i in range(len(prediction)):\n",
    "        if prediction[i] == testDataFrame[\"A\"][i]:\n",
    "            match += 1\n",
    "    accurarcy = (match*100)/len(prediction)\n",
    "    print(\"Accrarcy is \",accurarcy)\n",
    "    print(\"--------------------------------------------------------\\n\")\n",
    "    return tfidf_Prob\n",
    "    \n",
    "    "
   ]
  },
  {
   "cell_type": "code",
   "execution_count": 26,
   "metadata": {},
   "outputs": [
    {
     "name": "stderr",
     "output_type": "stream",
     "text": [
      "  0%|          | 6/1600 [00:00<00:30, 52.56it/s]"
     ]
    },
    {
     "name": "stdout",
     "output_type": "stream",
     "text": [
      "--------------Shape of Train vectorized data------------\n",
      "(1600000, 1341)\n",
      "--------------------------------------------------------\n",
      "\n"
     ]
    },
    {
     "name": "stderr",
     "output_type": "stream",
     "text": [
      "100%|██████████| 1600/1600 [00:25<00:00, 63.45it/s]\n"
     ]
    },
    {
     "name": "stdout",
     "output_type": "stream",
     "text": [
      "--------------Shape of Test vectorized data------------\n",
      "(359, 1341)\n",
      "--------------------------------------------------------\n",
      "\n",
      "Accrarcy is  81.05849582172702\n",
      "--------------------------------------------------------\n",
      "\n"
     ]
    }
   ],
   "source": [
    "tfidf_Prob = tfidf(trainingDataFrame,testingDataFrame)"
   ]
  },
  {
   "cell_type": "markdown",
   "metadata": {},
   "source": [
    "<font color = red size=5cm>SKLearn SelectPercentile </font>"
   ]
  },
  {
   "cell_type": "code",
   "execution_count": 27,
   "metadata": {},
   "outputs": [],
   "source": [
    "def selectPercentile(trainingDataFrame,testingDataFrame):\n",
    "    \n",
    "    with open('cleanTrainData','rb') as f:\n",
    "        trainDataframe = pickle.load(f)\n",
    "        \n",
    "    vectorizer = TfidfVectorizer(min_df=0.0007)\n",
    "    \n",
    "    X_tfidf = vectorizer.fit_transform(trainDataframe['B'])\n",
    "    \n",
    "    selPer = SelectPercentile(f_classif,percentile=20)\n",
    "    X_tfidf_new = selPer.fit_transform(X_tfidf,trainDataframe['A'].tolist())\n",
    "\n",
    "    \n",
    "    print(\"--------------Shape of Train vectorized data------------\")\n",
    "    print(X_tfidf.shape)\n",
    "    print(X_tfidf_new.shape)\n",
    "    print(\"--------------------------------------------------------\\n\")\n",
    "    \n",
    "    model = GaussianNB()\n",
    "    for i in tqdm(range(0,trainDataframe.shape[0],1000)):\n",
    "        model.partial_fit(X_tfidf_new[i:i+1000].toarray(), trainDataframe['A'][i:i+1000].to_numpy(), np.array([0,4]))\n",
    "        \n",
    "        \n",
    "    testDataFrame = testingDataFrame.copy()\n",
    "    testDataFrame =  cleaningData(testDataFrame) # CLEANING THE TESTING DATA\n",
    "    \n",
    "    X_test_tfidf = vectorizer.transform(testDataFrame['B'])\n",
    "    \n",
    "    X_test_tfidf_new = selPer.transform(X_test_tfidf)\n",
    "    \n",
    "    print(\"--------------Shape of Test vectorized data------------\")\n",
    "    print(X_test_tfidf.shape)\n",
    "    print(X_test_tfidf_new.shape)\n",
    "    print(\"--------------------------------------------------------\\n\")\n",
    "    \n",
    "    prediction = model.predict(X_test_tfidf_new.toarray())\n",
    "    selPer_Prob = model.predict_log_proba(X_test_tfidf_new.toarray())[:,1]\n",
    "    \n",
    "    match = 0\n",
    "    for i in range(len(prediction)):\n",
    "        if prediction[i] == testDataFrame[\"A\"][i]:\n",
    "            match += 1\n",
    "    accurarcy = (match*100)/len(prediction)\n",
    "    print(\"Accrarcy is \",accurarcy)\n",
    "    return selPer_Prob"
   ]
  },
  {
   "cell_type": "code",
   "execution_count": 28,
   "metadata": {},
   "outputs": [
    {
     "name": "stderr",
     "output_type": "stream",
     "text": [
      "  1%|▏         | 23/1600 [00:00<00:06, 229.91it/s]"
     ]
    },
    {
     "name": "stdout",
     "output_type": "stream",
     "text": [
      "--------------Shape of Train vectorized data------------\n",
      "(1600000, 1341)\n",
      "(1600000, 268)\n",
      "--------------------------------------------------------\n",
      "\n"
     ]
    },
    {
     "name": "stderr",
     "output_type": "stream",
     "text": [
      "100%|██████████| 1600/1600 [00:06<00:00, 257.90it/s]\n"
     ]
    },
    {
     "name": "stdout",
     "output_type": "stream",
     "text": [
      "--------------Shape of Test vectorized data------------\n",
      "(359, 1341)\n",
      "(359, 268)\n",
      "--------------------------------------------------------\n",
      "\n",
      "Accrarcy is  76.32311977715878\n"
     ]
    }
   ],
   "source": [
    "selPer_Prob = selectPercentile(trainingDataFrame,testingDataFrame)"
   ]
  },
  {
   "cell_type": "markdown",
   "metadata": {},
   "source": [
    "# PART 1-G"
   ]
  },
  {
   "cell_type": "markdown",
   "metadata": {},
   "source": [
    "<font color = red size = 5cm> ROC : RECEIVER OPERATING CHARACTERSTIC </font>"
   ]
  },
  {
   "cell_type": "code",
   "execution_count": 29,
   "metadata": {},
   "outputs": [],
   "source": [
    "def ROC(y,prob_scores,label,title):\n",
    "    (fpr, tpr, thresholds) = metrics.roc_curve(y, prob_scores, pos_label=label)\n",
    "    auc = metrics.roc_auc_score(y, prob_scores)\n",
    "    p, = plt.plot(fpr,tpr,label=\"area under curve is \"+str(auc),color ='green')\n",
    "    plt.xlabel(\"False Positive Rate\",color='red')\n",
    "    plt.ylabel(\"True Positive Rate\",color='red')\n",
    "    plt.title(title,color ='blue',fontsize = 15)\n",
    "    plt.legend()\n",
    "    plt.show()\n",
    "    return p"
   ]
  },
  {
   "cell_type": "code",
   "execution_count": null,
   "metadata": {},
   "outputs": [],
   "source": [
    "%matplotlib qt\n"
   ]
  },
  {
   "cell_type": "code",
   "execution_count": null,
   "metadata": {},
   "outputs": [],
   "source": [
    "p1 = ROC(testingDataFrame['A'].tolist(),postiveProbalityTEST_1A,4,\"PART A: UNCLEAND DATA\")"
   ]
  },
  {
   "cell_type": "code",
   "execution_count": null,
   "metadata": {},
   "outputs": [],
   "source": [
    "p2 = ROC(testingDataFrame['A'].tolist(),postiveProbalityTEST_1D,4,\"PART D: CLEANED DATA\")"
   ]
  },
  {
   "cell_type": "code",
   "execution_count": null,
   "metadata": {},
   "outputs": [],
   "source": [
    "p3 = ROC(testingDataFrame['A'].tolist(),postiveProbalityTEST_1E,4,\"PART E: Feature Engineering\")"
   ]
  },
  {
   "cell_type": "code",
   "execution_count": null,
   "metadata": {},
   "outputs": [],
   "source": [
    "p4 = ROC(testingDataFrame['A'].tolist(),tfidf_Prob,4,\"PART F: TF-IDF\")"
   ]
  },
  {
   "cell_type": "code",
   "execution_count": null,
   "metadata": {},
   "outputs": [],
   "source": [
    "p5 = ROC(testingDataFrame['A'].tolist(),selPer_Prob,4,\"PART F: SELECT-PERCENTILE\")"
   ]
  }
 ],
 "metadata": {
  "kernelspec": {
   "display_name": "Python 3",
   "language": "python",
   "name": "python3"
  },
  "language_info": {
   "codemirror_mode": {
    "name": "ipython",
    "version": 3
   },
   "file_extension": ".py",
   "mimetype": "text/x-python",
   "name": "python",
   "nbconvert_exporter": "python",
   "pygments_lexer": "ipython3",
   "version": "3.6.5"
  }
 },
 "nbformat": 4,
 "nbformat_minor": 2
}
