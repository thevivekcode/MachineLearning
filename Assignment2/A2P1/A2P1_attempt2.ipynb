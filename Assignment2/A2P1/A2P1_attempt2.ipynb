{
 "cells": [
  {
   "cell_type": "code",
   "execution_count": 80,
   "metadata": {},
   "outputs": [],
   "source": [
    "import math\n",
    "import numpy as np\n",
    "import pandas as pd\n",
    "import matplotlib.pyplot as plt\n",
    "import time\n",
    "import nltk\n",
    "from nltk.corpus import stopwords\n",
    "from nltk.stem.snowball import SnowballStemmer\n",
    "import re\n",
    "import pickle\n",
    "from sklearn.feature_extraction.text import TfidfVectorizer\n",
    "from sklearn.naive_bayes import GaussianNB\n",
    "from tqdm import tqdm\n",
    "from sklearn.feature_selection import SelectPercentile, chi2, f_classif\n",
    "from sklearn import metrics"
   ]
  },
  {
   "cell_type": "markdown",
   "metadata": {},
   "source": [
    "<font color=red size=5cm>INPUT DATA</font>"
   ]
  },
  {
   "cell_type": "code",
   "execution_count": 81,
   "metadata": {},
   "outputs": [],
   "source": [
    "def inputTraining():\n",
    "    trainingDataFrame = pd.read_csv(\"./trainingandtestdata/training.1600000.processed.noemoticon.csv\",encoding = \"latin-1\", header=None, usecols=[0,5],names=['A','B'],index_col=False)\n",
    "    return trainingDataFrame\n",
    "    \n",
    "\n",
    "def inputTesting():\n",
    "    df = pd.read_csv(\"./trainingandtestdata/testdata.manual.2009.06.14.csv\",encoding = \"latin-1\", header=None, usecols=[0,5],names=['A','B'],index_col=False)\n",
    "    data = df.to_numpy()\n",
    "    data = data[np.where(data[:,0]!=2)]\n",
    "    testingDataFrame = pd.DataFrame({'A': data[:, 0], 'B': data[:, 1]})\n",
    "    return testingDataFrame"
   ]
  },
  {
   "cell_type": "code",
   "execution_count": 168,
   "metadata": {},
   "outputs": [],
   "source": [
    "trainingDataFrame = inputTraining()\n",
    "testingDataFrame = inputTesting()"
   ]
  },
  {
   "cell_type": "markdown",
   "metadata": {},
   "source": [
    "<font color =red size=5cm>DATA DESCRIPTION</font>"
   ]
  },
  {
   "cell_type": "code",
   "execution_count": 83,
   "metadata": {},
   "outputs": [],
   "source": [
    "# A = Polarity\n",
    "# B = TweetID\n",
    "# C = date of the tweet \n",
    "# D = query (lyx)\n",
    "# E = user\n",
    "# F = tweet\n",
    "\n",
    "#-----------CLASS------------\n",
    "\n",
    "#class 0 Negative \n",
    "#calss 4 Positive"
   ]
  },
  {
   "cell_type": "markdown",
   "metadata": {},
   "source": [
    "<font color = red size=5cm>CREATING VOCABULARY</font>"
   ]
  },
  {
   "cell_type": "code",
   "execution_count": 84,
   "metadata": {},
   "outputs": [],
   "source": [
    "# creating vocabulary of all words in training data\n",
    "\n",
    "def vocabulary(data):\n",
    "    \"\"\"\n",
    "    Inputs data in numpy format\n",
    "    Col 0: Label\n",
    "    Col 1: Text\n",
    "    \"\"\"\n",
    "    data_class0 = data[np.where(data[:,0]==0)]\n",
    "#     data_class2 = data[np.where(data[:,0]==2)]\n",
    "    data_class4 = data[np.where(data[:,0]==4)]\n",
    "    dataClassList  = [data_class0,data_class4]\n",
    "    vocab_class0 = dict()\n",
    "    vocab_class2 = dict()\n",
    "    vocab_class4 = dict()\n",
    "    TotalVocab = dict()\n",
    "    wc = []\n",
    "    vocabClassList = [vocab_class0,vocab_class4]\n",
    "    for i,j in zip(dataClassList,vocabClassList):\n",
    "        totalWordCountInClass = 0\n",
    "        tweetList = i[:,1]\n",
    "        for tweet in tweetList:\n",
    "#             tweetlist = tweet.replace(\",\",\" \").replace(\".\",\" \").split()\n",
    "            tweetlist = tweet.split()\n",
    "            for words in tweetlist:\n",
    "                totalWordCountInClass+=1\n",
    "                if words in j:\n",
    "                    j[words]+=1\n",
    "                    TotalVocab[words]+=1\n",
    "                else:\n",
    "                    j[words]=1\n",
    "                    TotalVocab[words]=1\n",
    "        wc.append(totalWordCountInClass)\n",
    "    print(\"Vocalbulary done\")\n",
    "    return vocab_class0,vocab_class4, TotalVocab,wc"
   ]
  },
  {
   "cell_type": "markdown",
   "metadata": {},
   "source": [
    "<font color = red size=5cm>CALCULATING PARAMETERS</font>"
   ]
  },
  {
   "cell_type": "code",
   "execution_count": 85,
   "metadata": {},
   "outputs": [],
   "source": [
    "# finding parameters\n",
    "\n",
    "def FindPhi(data):\n",
    "    \"\"\"\n",
    "    Inputs data in numpy format\n",
    "    Col 0: Label\n",
    "    Col 1: Text\n",
    "    \"\"\"\n",
    "    phi = np.zeros((2,1))\n",
    "    phi[0,0] = (np.count_nonzero(data[:,0] == 0)+1)/(data.shape[0]+2)\n",
    "    phi[1,0] = (np.count_nonzero(data[:,0] == 4)+1)/(data.shape[0]+2)\n",
    "    return phi\n",
    "\n",
    "def Findtheta(vocab_class0,  vocab_class4, TotalVocab,wc):\n",
    "    #----------------------------------------------------------------------------------------\n",
    "    theta = dict()\n",
    "    #--------------------------------------------------------------------------------------------\n",
    "   \n",
    "    for words in TotalVocab:\n",
    "        theta[words] = []\n",
    "\n",
    "        theta_ofThe_Word = 0\n",
    "        if words in vocab_class0:\n",
    "            theta_ofThe_Word = (vocab_class0[words] + 1)/(wc[0] + len(TotalVocab))\n",
    "        else:\n",
    "            theta_ofThe_Word = 1/(wc[0] + len(TotalVocab))\n",
    "        theta[words].append(theta_ofThe_Word)\n",
    "            \n",
    "    #---------------------------------------------------------------------------------------------\n",
    "\n",
    "        theta_ofThe_Word = 0\n",
    "        if words in vocab_class4:\n",
    "            theta_ofThe_Word = (vocab_class4[words] + 1)/(wc[1]+ len(TotalVocab))\n",
    "        else:\n",
    "            theta_ofThe_Word = 1/(wc[1]+ len(TotalVocab))\n",
    "        theta[words].append(theta_ofThe_Word)\n",
    "        \n",
    "    #----------------------------------------------------------------------------------------------\n",
    "    print(\"parameters calculated\")\n",
    "    return theta"
   ]
  },
  {
   "cell_type": "markdown",
   "metadata": {},
   "source": [
    "<font color =red size=5cm>PREDICTING :</font>\n",
    "<font color = blue size=4cm>Accuracy, Confusion Matrix and Probablity </font>"
   ]
  },
  {
   "cell_type": "code",
   "execution_count": 86,
   "metadata": {},
   "outputs": [],
   "source": [
    "def Predicting(TestingData,theta,phi):\n",
    "\n",
    "    prediction = []\n",
    "    postiveProbality = []\n",
    "    for tweet in TestingData[:,1]:\n",
    "        class0 = phi[0,0]\n",
    "        class4 = phi[1,0]\n",
    "        \n",
    "        tweetlist = tweet.split()\n",
    "        \n",
    "        #CALCULATE PROBABILTY\n",
    "        for words in tweetlist:\n",
    "            if words in theta:\n",
    "                class0 += math.log(theta[words][0]) \n",
    "            else:\n",
    "                class0 += math.log(1/(len(tweetlist) + len(theta)))\n",
    "            \n",
    "            if words in theta:\n",
    "                class4 += math.log(theta[words][1]) \n",
    "            else :\n",
    "                class4 += math.log(1/(len(tweetlist) + len(theta)))\n",
    "        \n",
    "        class0 += math.log(phi[0,0])\n",
    "        class4 += math.log(phi[1,0])\n",
    "        postiveProbality.append(class4)\n",
    "        if class0 > class4:\n",
    "            prediction.append(0)\n",
    "        else:\n",
    "            prediction.append(4)\n",
    "            \n",
    "    count =0\n",
    "    correct_class0 = 0\n",
    "    correct_class4 = 0\n",
    "    incorrect_class0 = 0\n",
    "    incorrect_class4 = 0\n",
    "    for i in  range(TestingData.shape[0]):\n",
    "        if prediction[i] == TestingData[i,0]:\n",
    "            if prediction[i] == 0:\n",
    "                correct_class0+=1\n",
    "            else:\n",
    "                correct_class4+=1\n",
    "            count+=1\n",
    "        else:\n",
    "            if prediction[i]==0:\n",
    "                incorrect_class4+=1\n",
    "            else:\n",
    "                incorrect_class0+=1\n",
    "    \n",
    "    confusionMatrix = np.array([[correct_class0,incorrect_class4],[incorrect_class0,correct_class4]])\n",
    "    Accurarcy = (count/TestingData.shape[0])*100\n",
    "        \n",
    "    return Accurarcy,confusionMatrix,postiveProbality"
   ]
  },
  {
   "cell_type": "markdown",
   "metadata": {},
   "source": [
    "# PART 1-A"
   ]
  },
  {
   "cell_type": "code",
   "execution_count": 87,
   "metadata": {},
   "outputs": [],
   "source": [
    "def part1A(trainingDataFrame,testingDataFrame):\n",
    "    \n",
    "    #-------------------LEARNING-------------------------------------------------------\n",
    "    trainDataframe = trainingDataFrame.copy()\n",
    "    trainDataframe[\"B\"] =  trainDataframe[\"B\"].str.replace(\",\",\" \").str.replace(\".\",\" \")\n",
    "    TrainingData = trainDataframe.to_numpy()\n",
    "    (vocab_class0,vocab_class4, TotalVocab,wc) = vocabulary(TrainingData)\n",
    "    phi = FindPhi(TrainingData)\n",
    "    theta  = Findtheta(vocab_class0,  vocab_class4, TotalVocab,wc)\n",
    "    #----------------------------------------------------------------------------------\n",
    "    \n",
    "    #------------------TESTING---------------------------------------------------------\n",
    "    testDataFrame = testingDataFrame.copy()\n",
    "    testDataFrame[\"B\"] =  testDataFrame[\"B\"].str.replace(\",\",\" \").str.replace(\".\",\" \")\n",
    "    TestingData = testDataFrame.to_numpy()\n",
    "    Accurarcy, confusionMatrixTEST_1A, postiveProbalityTEST_1A = Predicting(TestingData,theta,phi)\n",
    "    print(\"Accurarcy over TESTING data is :\",Accurarcy,\" %\")\n",
    "    #----------------------------------------------------------------------------------\n",
    "    \n",
    "    #------------------TRAINING--------------------------------------------------------\n",
    "    Accurarcy, confusionMatrixTRAIN_1A, postiveProbalityTRAIN_1A = Predicting(TrainingData,theta,phi)\n",
    "    print(\"Accurarcy over TRAINING data is :\",Accurarcy,\" %\")\n",
    "    #-----------------------------------------------------------------------------------\n",
    "    return confusionMatrixTEST_1A, postiveProbalityTEST_1A, postiveProbalityTRAIN_1A"
   ]
  },
  {
   "cell_type": "code",
   "execution_count": 88,
   "metadata": {},
   "outputs": [
    {
     "name": "stdout",
     "output_type": "stream",
     "text": [
      "Vocalbulary done\n",
      "parameters calculated\n",
      "Accurarcy over TESTING data is : 80.77994428969359  %\n",
      "Accurarcy over TRAINING data is : 84.932875  %\n"
     ]
    }
   ],
   "source": [
    "confusionMatrixTEST_1A, postiveProbalityTEST_1A, postiveProbalityTRAIN_1A = part1A(trainingDataFrame,testingDataFrame)"
   ]
  },
  {
   "cell_type": "markdown",
   "metadata": {},
   "source": [
    "# PART 1-B"
   ]
  },
  {
   "cell_type": "markdown",
   "metadata": {},
   "source": [
    "<font color=red size=5cm>RANDOM PREDICTION</font>"
   ]
  },
  {
   "cell_type": "code",
   "execution_count": 92,
   "metadata": {},
   "outputs": [],
   "source": [
    "def randomPrediction(size):\n",
    "    \"\"\"\n",
    "    Give a size,\n",
    "    returns random choices \n",
    "    given a target to choose from.\n",
    "    \"\"\"\n",
    "    import random\n",
    "    targets =[0,4]\n",
    "    randomPrediction =[]\n",
    "    for i in range(size):\n",
    "        randomPrediction.append(random.choice(targets))\n",
    "    return randomPrediction"
   ]
  },
  {
   "cell_type": "code",
   "execution_count": 93,
   "metadata": {},
   "outputs": [],
   "source": [
    "def part1B(testingDataFrame):\n",
    "    TestingData  = testingDataFrame.to_numpy()\n",
    "    randomPredict =randomPrediction(TestingData.shape[0])\n",
    "    match = 0\n",
    "    for i in range(TestingData.shape[0]):\n",
    "        if randomPredict[i] == TestingData[i,0]:\n",
    "            match +=1\n",
    "    randomAcc = (match*100)/TestingData.shape[0]\n",
    "    print(\"Random guessing accuracy on test data is \",randomAcc,\" %\")"
   ]
  },
  {
   "cell_type": "code",
   "execution_count": 94,
   "metadata": {},
   "outputs": [
    {
     "name": "stdout",
     "output_type": "stream",
     "text": [
      "Random guessing accuracy on test data is  50.97493036211699  %\n"
     ]
    }
   ],
   "source": [
    "part1B(testingDataFrame)"
   ]
  },
  {
   "cell_type": "markdown",
   "metadata": {},
   "source": [
    "# PART 1-C"
   ]
  },
  {
   "cell_type": "code",
   "execution_count": 95,
   "metadata": {},
   "outputs": [],
   "source": [
    "def part1C(confusionMatrixTEST_1A):\n",
    "    \"\"\"\n",
    "    Prints confusion matrix\n",
    "    of the test data obtained\n",
    "    from part-A\n",
    "    \"\"\"\n",
    "    print(\"CONFUSION MATRIX FOR TEST DATA: \")\n",
    "    print(\"\\n\")\n",
    "    print(\" Actual \\t\\t Class 0 \\t Class 1\")\n",
    "    print(\"predicted Class 0 \\t\",confusionMatrixTEST_1A[0,0],\"\\t\\t\",confusionMatrixTEST_1A[0,1])\n",
    "    print(\"predicted Class 1 \\t\",confusionMatrixTEST_1A[1,0],\"\\t\\t\",confusionMatrixTEST_1A[1,1])\n"
   ]
  },
  {
   "cell_type": "code",
   "execution_count": 96,
   "metadata": {},
   "outputs": [
    {
     "name": "stdout",
     "output_type": "stream",
     "text": [
      "CONFUSION MATRIX FOR TEST DATA: \n",
      "\n",
      "\n",
      " Actual \t\t Class 0 \t Class 1\n",
      "predicted Class 0 \t 142 \t\t 34\n",
      "predicted Class 1 \t 35 \t\t 148\n"
     ]
    }
   ],
   "source": [
    "part1C(confusionMatrixTEST_1A)"
   ]
  },
  {
   "cell_type": "markdown",
   "metadata": {},
   "source": [
    "# PART 1-D"
   ]
  },
  {
   "cell_type": "markdown",
   "metadata": {},
   "source": [
    "<font color=red size=5cm>TOKENIZATION, STOPPING ADND STEMMING</font>"
   ]
  },
  {
   "cell_type": "code",
   "execution_count": 97,
   "metadata": {},
   "outputs": [],
   "source": [
    "def cleaningData(df):\n",
    "    \"\"\"\n",
    "    Takes dataframes as input \n",
    "    and returns a cleaned dataframe.\n",
    "    \"\"\"\n",
    "    #----------Cleaning URLs ------------------------------------\n",
    "    def removeURL(text):\n",
    "        return re.sub(r'\\w+:\\/{2}[\\d\\w-]+(\\.[\\d\\w-]+)*(?:(?:\\/[^\\s/]*))*', '', text)\n",
    "    \n",
    "    df[\"B\"] = df[\"B\"].apply(lambda text: removeURL(text) )\n",
    "    #------------------------------------------------------------\n",
    "    \n",
    "    \n",
    "    #-------------Cleaning punctuation---------------------------\n",
    "    def removePunctuation(text):    \n",
    "        punctuation =  '!\"#$\\()*+/<=>?[\\\\]^_`{|}~'\n",
    "        for c in punctuation:\n",
    "            text= text.replace(c,\"\")\n",
    "        return text\n",
    "    \n",
    "    df[\"B\"] = df[\"B\"].apply(lambda text: removePunctuation(text) )\n",
    "    #-------------------------------------------------------------\n",
    "    \n",
    "    \n",
    "    #-------------Tokenization------------------------------------\n",
    "    def tokenization(text):\n",
    "        pointOfSplit = '%&,-.:;'\n",
    "        for c in pointOfSplit:\n",
    "            text= text.replace(c,\" \")\n",
    "        return text.lower().split()\n",
    "    \n",
    "    df[\"B\"] = df[\"B\"].apply(lambda text: tokenization(text) )\n",
    "    #--------------------------------------------------------------\n",
    "    \n",
    "    \n",
    "    #-----------english stoppers and stemmer---------------------\n",
    "    stops = set(stopwords.words(\"english\"))\n",
    "    stemmer = SnowballStemmer(\"english\")\n",
    "    \n",
    "    df['B'] = df['B'].apply(lambda x: [stemmer.stem(item) for item in x if item not in stops and not item.startswith('@')])\n",
    "    \n",
    "    df['B'] =  df['B'].apply(lambda x: \" \".join(x))\n",
    "    #------------------------------------------------------------\n",
    "\n",
    "    return df "
   ]
  },
  {
   "cell_type": "code",
   "execution_count": 152,
   "metadata": {},
   "outputs": [],
   "source": [
    "def part1D(trainingDataFrame,testingDataFrame):\n",
    "    s =time.time()\n",
    "    \n",
    "    trainDataframe = trainingDataFrame.copy()\n",
    "    \n",
    "#     trainDataframe =  cleaningData(trainDataframe)  # CLEANING THE TRAINING DATA\n",
    "#     with open('cleanTrainData','wb') as f:\n",
    "#         pickle.dump(trainDataframe, f, protocol=pickle.HIGHEST_PROTOCOL)\n",
    "        \n",
    "    with open('cleanTrainData','rb') as f:\n",
    "        trainDataframe = pickle.load(f)\n",
    "    TrainingData = trainDataframe.to_numpy()\n",
    "    \n",
    "    \n",
    "    #-------------------LEARNING-------------------------------------------------------\n",
    "    (vocab_class0, vocab_class4, TotalVocab,wc) = vocabulary(TrainingData)\n",
    "    phi = FindPhi(TrainingData)\n",
    "    theta  = Findtheta(vocab_class0,  vocab_class4, TotalVocab,wc)\n",
    "    #----------------------------------------------------------------------------------\n",
    "    \n",
    "    \n",
    "    #------------------TESTING---------------------------------------------------------\n",
    "    testDataFrame = testingDataFrame.copy()\n",
    "    testDataFrame =  cleaningData(testDataFrame) # CLEANING THE TESTING DATA\n",
    "    TestingData = testDataFrame.to_numpy()\n",
    "    Accurarcy, confusionMatrixTEST_1D, postiveProbalityTEST_1D = Predicting(TestingData,theta,phi)\n",
    "    print(\"Accurarcy over TESTING data is :\",Accurarcy,\" %\\n\")\n",
    "    #----------------------------------------------------------------------------------\n",
    "    \n",
    "\n",
    "    print(\"TOTAL TIME :\",time.time()-s)\n",
    "    return postiveProbalityTEST_1D"
   ]
  },
  {
   "cell_type": "code",
   "execution_count": 153,
   "metadata": {},
   "outputs": [
    {
     "name": "stdout",
     "output_type": "stream",
     "text": [
      "Vocalbulary done\n",
      "parameters calculated\n",
      "Accurarcy over TESTING data is : 82.17270194986072  %\n",
      "\n",
      "TOTAL TIME : 6.931404113769531\n"
     ]
    }
   ],
   "source": [
    "postiveProbalityTEST_1D = part1D(trainingDataFrame,testingDataFrame)"
   ]
  },
  {
   "cell_type": "markdown",
   "metadata": {},
   "source": [
    "# PART 1-E"
   ]
  },
  {
   "cell_type": "markdown",
   "metadata": {},
   "source": [
    "<font color =red size = 5cm> FEATURE ENGINEERING </font>"
   ]
  },
  {
   "cell_type": "code",
   "execution_count": 169,
   "metadata": {},
   "outputs": [],
   "source": [
    "def bigramification(data):\n",
    "    \"\"\"\n",
    "    Takes data as numpy ndarray\n",
    "    \"\"\"\n",
    "    for index in range(data.shape[0]):\n",
    "        newData = []\n",
    "        rowList = data[index,1].split()\n",
    "        for i in range(len(rowList)-1):\n",
    "            newData.append(rowList[i])\n",
    "            newData.append(rowList[i]+rowList[i+1])\n",
    "        data[index,1] = \" \".join(newData.copy())\n",
    "    return data"
   ]
  },
  {
   "cell_type": "code",
   "execution_count": 182,
   "metadata": {},
   "outputs": [],
   "source": [
    "def featureEnfineering(testingDataFrame):\n",
    "    with open('cleanTrainData','rb') as f:\n",
    "        trainDataframe = pickle.load(f)\n",
    "        \n",
    "    TrainingData = trainingDataFrame.to_numpy()\n",
    "    testDataFrame = testingDataFrame.copy()\n",
    "    testDataFrame =  cleaningData(testDataFrame)\n",
    "    TestingData = testDataFrame.to_numpy()\n",
    "    \n",
    "    #------ADDING FEATURES------------------------\n",
    "    TrainingData =  bigramification(TrainingData)\n",
    "#     TestingData =  bigramification(TestingData)\n",
    "    #----------------------------------------------\n",
    "    \n",
    "    #------------------LEARNING-------------------------------\n",
    "    (vocab_class0, vocab_class4, TotalVocab,wc) = vocabulary(TrainingData)\n",
    "    phi = FindPhi(TrainingData)\n",
    "    theta  = Findtheta(vocab_class0,  vocab_class4, TotalVocab,wc)\n",
    "    #---------------------------------------------------------\n",
    "    \n",
    "    #---------------------TESTING---------------------------------------\n",
    "    Accurarcy, confusionMatrixTEST_1E, postiveProbalityTEST_1E = Predicting(TestingData,theta,phi)\n",
    "    print(\"Accurarcy over TESTING data is :\",Accurarcy,\" %\")\n",
    "    \n",
    "#     Accurarcy, confusionMatrixTEST_1E, postiveProbalityTRAIN_1E = Predicting(TrainingData,theta,phi)\n",
    "#     print(\"Accurarcy over TRAINING data is :\",Accurarcy,\" %\")\n",
    "    #------------------------------------------------------------------------\n",
    "    \n",
    "    return postiveProbalityTEST_1E\n",
    "    "
   ]
  },
  {
   "cell_type": "code",
   "execution_count": 178,
   "metadata": {},
   "outputs": [
    {
     "name": "stdout",
     "output_type": "stream",
     "text": [
      "Vocalbulary done\n",
      "parameters calculated\n",
      "Accurarcy over TESTING data is : 77.15877437325905  %\n"
     ]
    }
   ],
   "source": [
    "postiveProbalityTEST_1E = featureEnfineering(testingDataFrame)"
   ]
  },
  {
   "cell_type": "code",
   "execution_count": null,
   "metadata": {},
   "outputs": [],
   "source": []
  },
  {
   "cell_type": "markdown",
   "metadata": {},
   "source": [
    "# PART 1-F"
   ]
  },
  {
   "cell_type": "markdown",
   "metadata": {},
   "source": [
    "<font color = red size=5cm>TF-IDF</font>"
   ]
  },
  {
   "cell_type": "code",
   "execution_count": 100,
   "metadata": {},
   "outputs": [],
   "source": [
    "from sklearn.feature_extraction.text import TfidfVectorizer\n",
    "from sklearn.naive_bayes import GaussianNB\n",
    "from tqdm import tqdm"
   ]
  },
  {
   "cell_type": "code",
   "execution_count": 187,
   "metadata": {},
   "outputs": [],
   "source": [
    "def tfidf(trainingDataFrame,testingDataFrame):\n",
    "    with open('cleanTrainData','rb') as f:\n",
    "        trainDataframe = pickle.load(f)\n",
    "        \n",
    "    vectorizer = TfidfVectorizer(min_df=100)\n",
    "    \n",
    "    X_tfidf = vectorizer.fit_transform(trainDataframe['B'])\n",
    "    \n",
    "    print(\"--------------Shape of Train vectorized data------------\")\n",
    "    print(X_tfidf.shape)\n",
    "    print(\"--------------------------------------------------------\\n\")\n",
    "    \n",
    "    model = GaussianNB()\n",
    "    for i in tqdm(range(0,trainDataframe.shape[0],1000)):\n",
    "        model.partial_fit(X_tfidf[i:i+1000].toarray(), trainDataframe['A'][i:i+1000].to_numpy(), np.array([0,4]))\n",
    "        \n",
    "    \n",
    "    testDataFrame = testingDataFrame.copy()\n",
    "    testDataFrame =  cleaningData(testDataFrame) # CLEANING THE TESTING DATA\n",
    "    \n",
    "    X_test_tfidf = vectorizer.transform(testDataFrame['B'])\n",
    "    \n",
    "    print(\"--------------Shape of Test vectorized data------------\")\n",
    "    print(X_test_tfidf.shape)\n",
    "    print(\"--------------------------------------------------------\\n\")\n",
    "    \n",
    "    prediction = model.predict(X_test_tfidf.toarray())\n",
    "    tfidf_Prob = model.predict_log_proba(X_test_tfidf.toarray())[:,1]\n",
    "    \n",
    "    match = 0\n",
    "    for i in range(len(prediction)):\n",
    "        if prediction[i] == testDataFrame[\"A\"][i]:\n",
    "            match += 1\n",
    "    accurarcy = (match*100)/len(prediction)\n",
    "    print(\"Accrarcy is \",accurarcy)\n",
    "    print(\"--------------------------------------------------------\\n\")\n",
    "    return tfidf_Prob\n",
    "    \n",
    "    "
   ]
  },
  {
   "cell_type": "code",
   "execution_count": 188,
   "metadata": {},
   "outputs": [
    {
     "name": "stderr",
     "output_type": "stream",
     "text": [
      "  0%|          | 1/1600 [00:00<02:47,  9.54it/s]"
     ]
    },
    {
     "name": "stdout",
     "output_type": "stream",
     "text": [
      "--------------Shape of Train vectorized data------------\n",
      "(1600000, 6874)\n",
      "--------------------------------------------------------\n",
      "\n"
     ]
    },
    {
     "name": "stderr",
     "output_type": "stream",
     "text": [
      "100%|██████████| 1600/1600 [02:27<00:00, 10.82it/s]\n"
     ]
    },
    {
     "name": "stdout",
     "output_type": "stream",
     "text": [
      "--------------Shape of Test vectorized data------------\n",
      "(359, 6874)\n",
      "--------------------------------------------------------\n",
      "\n",
      "Accrarcy is  71.58774373259052\n",
      "--------------------------------------------------------\n",
      "\n"
     ]
    }
   ],
   "source": [
    "tfidf_Prob = tfidf(trainingDataFrame,testingDataFrame)"
   ]
  },
  {
   "cell_type": "markdown",
   "metadata": {},
   "source": [
    "<font color = red size=5cm>SKLearn SelectPercentile </font>"
   ]
  },
  {
   "cell_type": "code",
   "execution_count": 183,
   "metadata": {},
   "outputs": [],
   "source": [
    "def selectPercentile(trainingDataFrame,testingDataFrame):\n",
    "    \n",
    "    with open('cleanTrainData','rb') as f:\n",
    "        trainDataframe = pickle.load(f)\n",
    "        \n",
    "    vectorizer = TfidfVectorizer(min_df=100)\n",
    "    \n",
    "    X_tfidf = vectorizer.fit_transform(trainDataframe['B'])\n",
    "    \n",
    "    selPer = SelectPercentile(f_classif,percentile=10)\n",
    "    X_tfidf_new = selPer.fit_transform(X_tfidf,trainDataframe['A'].tolist())\n",
    "\n",
    "    \n",
    "    print(\"--------------Shape of Train vectorized data------------\")\n",
    "    print(X_tfidf.shape)\n",
    "    print(X_tfidf_new.shape)\n",
    "    print(\"--------------------------------------------------------\\n\")\n",
    "    \n",
    "    model = GaussianNB()\n",
    "    for i in tqdm(range(0,trainDataframe.shape[0],1000)):\n",
    "        model.partial_fit(X_tfidf_new[i:i+1000].toarray(), trainDataframe['A'][i:i+1000].to_numpy(), np.array([0,4]))\n",
    "        \n",
    "        \n",
    "    testDataFrame = testingDataFrame.copy()\n",
    "    testDataFrame =  cleaningData(testDataFrame) # CLEANING THE TESTING DATA\n",
    "    \n",
    "    X_test_tfidf = vectorizer.transform(testDataFrame['B'])\n",
    "    \n",
    "    X_test_tfidf_new = selPer.transform(X_test_tfidf)\n",
    "    \n",
    "    print(\"--------------Shape of Test vectorized data------------\")\n",
    "    print(X_test_tfidf.shape)\n",
    "    print(X_test_tfidf_new.shape)\n",
    "    print(\"--------------------------------------------------------\\n\")\n",
    "    \n",
    "    prediction = model.predict(X_test_tfidf_new.toarray())\n",
    "    selPer_Prob = model.predict_log_proba(X_test_tfidf_new.toarray())[:,1]\n",
    "    \n",
    "    match = 0\n",
    "    for i in range(len(prediction)):\n",
    "        if prediction[i] == testDataFrame[\"A\"][i]:\n",
    "            match += 1\n",
    "    accurarcy = (match*100)/len(prediction)\n",
    "    print(\"Accrarcy is \",accurarcy)\n",
    "    return selPer_Prob"
   ]
  },
  {
   "cell_type": "code",
   "execution_count": 184,
   "metadata": {},
   "outputs": [
    {
     "name": "stderr",
     "output_type": "stream",
     "text": [
      "  1%|          | 10/1600 [00:00<00:15, 99.97it/s]"
     ]
    },
    {
     "name": "stdout",
     "output_type": "stream",
     "text": [
      "--------------Shape of Train vectorized data------------\n",
      "(1600000, 6874)\n",
      "(1600000, 688)\n",
      "--------------------------------------------------------\n",
      "\n"
     ]
    },
    {
     "name": "stderr",
     "output_type": "stream",
     "text": [
      "100%|██████████| 1600/1600 [00:14<00:00, 108.59it/s]\n"
     ]
    },
    {
     "name": "stdout",
     "output_type": "stream",
     "text": [
      "--------------Shape of Test vectorized data------------\n",
      "(359, 6874)\n",
      "(359, 688)\n",
      "--------------------------------------------------------\n",
      "\n",
      "Accrarcy is  76.04456824512535\n"
     ]
    }
   ],
   "source": [
    "selPer_Prob = selectPercentile(trainingDataFrame,testingDataFrame)"
   ]
  },
  {
   "cell_type": "markdown",
   "metadata": {},
   "source": [
    "# PART 1-G"
   ]
  },
  {
   "cell_type": "markdown",
   "metadata": {},
   "source": [
    "<font color = red size = 5cm> ROC : RECEIVER OPERATING CHARACTERSTIC </font>"
   ]
  },
  {
   "cell_type": "code",
   "execution_count": 185,
   "metadata": {},
   "outputs": [],
   "source": [
    "def ROC(y,prob_scores,label,title):\n",
    "    (fpr, tpr, thresholds) = metrics.roc_curve(y, prob_scores, pos_label=label)\n",
    "    auc = metrics.roc_auc_score(y, prob_scores)\n",
    "    p, = plt.plot(fpr,tpr,label=\"area under curve is \"+str(auc),color ='green')\n",
    "    plt.xlabel(\"False Positive Rate\",color='red')\n",
    "    plt.ylabel(\"True Positive Rate\",color='red')\n",
    "    plt.title(title,color ='blue',fontsize = 15)\n",
    "    plt.legend()\n",
    "    plt.show()\n",
    "    return p"
   ]
  },
  {
   "cell_type": "code",
   "execution_count": 186,
   "metadata": {},
   "outputs": [
    {
     "data": {
      "image/png": "[encoded data removed]",
      "text/plain": [
       "<Figure size 432x288 with 1 Axes>"
      ]
     },
     "metadata": {},
     "output_type": "display_data"
    },
    {
     "data": {
      "image/png": "[encoded data removed]",
      "text/plain": [
       "<Figure size 432x288 with 1 Axes>"
      ]
     },
     "metadata": {},
     "output_type": "display_data"
    },
    {
     "data": {
      "image/png": "[encoded data removed]",
      "text/plain": [
       "<Figure size 432x288 with 1 Axes>"
      ]
     },
     "metadata": {},
     "output_type": "display_data"
    },
    {
     "data": {
      "image/png": "[encoded data removed]",
      "text/plain": [
       "<Figure size 432x288 with 1 Axes>"
      ]
     },
     "metadata": {},
     "output_type": "display_data"
    },
    {
     "data": {
      "image/png": "[encoded data removed]",
      "text/plain": [
       "<Figure size 432x288 with 1 Axes>"
      ]
     },
     "metadata": {},
     "output_type": "display_data"
    }
   ],
   "source": [
    "p1 = ROC(testingDataFrame['A'].tolist(),postiveProbalityTEST_1A,4,\"PART A: UNCLEAND DATA\")\n",
    "p2 = ROC(testingDataFrame['A'].tolist(),postiveProbalityTEST_1D,4,\"PART D: CLEANED DATA\")\n",
    "p3 = ROC(testingDataFrame['A'].tolist(),postiveProbalityTEST_1E,4,\"PART E: BI-GRAM\")\n",
    "p4 = ROC(testingDataFrame['A'].tolist(),tfidf_Prob,4,\"PART F: TF-IDF\")\n",
    "p5 = ROC(testingDataFrame['A'].tolist(),selPer_Prob,4,\"PART F: SELECT-PERCENTILE\")\n"
   ]
  },
  {
   "cell_type": "code",
   "execution_count": null,
   "metadata": {},
   "outputs": [],
   "source": []
  }
 ],
 "metadata": {
  "kernelspec": {
   "display_name": "Python 3",
   "language": "python",
   "name": "python3"
  },
  "language_info": {
   "codemirror_mode": {
    "name": "ipython",
    "version": 3
   },
   "file_extension": ".py",
   "mimetype": "text/x-python",
   "name": "python",
   "nbconvert_exporter": "python",
   "pygments_lexer": "ipython3",
   "version": "3.6.5"
  }
 },
 "nbformat": 4,
 "nbformat_minor": 2
}
