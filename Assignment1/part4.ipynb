{
 "cells": [
  {
   "cell_type": "code",
   "execution_count": 1,
   "metadata": {},
   "outputs": [],
   "source": [
    "import numpy as np\n",
    "import pandas as pd \n",
    "import matplotlib.pyplot as plt\n",
    "from time import time\n",
    "from mpl_toolkits.mplot3d import Axes3D\n",
    "from matplotlib import cm\n",
    "import matplotlib.animation as animation\n",
    "import math"
   ]
  },
  {
   "cell_type": "code",
   "execution_count": 2,
   "metadata": {},
   "outputs": [],
   "source": [
    "%matplotlib qt"
   ]
  },
  {
   "cell_type": "code",
   "execution_count": 3,
   "metadata": {},
   "outputs": [],
   "source": [
    "def normalize(data):\n",
    "    mean = np.mean(data)\n",
    "    std = np.std(data)\n",
    "    data = data -mean\n",
    "    data = data/std\n",
    "    return data"
   ]
  },
  {
   "cell_type": "code",
   "execution_count": 4,
   "metadata": {},
   "outputs": [],
   "source": [
    "def inputData():\n",
    "    dfX = pd.read_csv(\"./data/q4/q4x.dat\",sep=\"\\s+\",usecols=[0,1],names=['X1','X2'])\n",
    "    # normalizing the data\n",
    "    X1 = np.array(normalize(dfX[\"X1\"])).reshape(-1,1)\n",
    "    X2 = np.array(normalize(dfX[\"X2\"])).reshape(-1,1)   \n",
    "    dfY = pd.read_csv(\"./data/q4/q4y.dat\",sep=\"\\s+\",usecols=[0],names=['Y'])\n",
    "    \n",
    "    # Alaska is represented 0 canada as 1\n",
    "    \n",
    "    Y = np.array([0 if i==\"Alaska\" else 1 for i in dfY[\"Y\"]]).reshape(-1,1)\n",
    "    #joining the training example as one numpy Narray\n",
    "    X1X2Y = np.concatenate([X1,X2,Y],axis =1).reshape(-1,3)\n",
    "    return X1X2Y"
   ]
  },
  {
   "cell_type": "code",
   "execution_count": 5,
   "metadata": {},
   "outputs": [],
   "source": [
    "def plotData():\n",
    "    X1X2Y=inputData()\n",
    "    \n",
    "    #plotting the alaska data\n",
    "    A1 = (X1X2Y[np.where(X1X2Y[:,2]==0)])[:,0]\n",
    "    A2 = (X1X2Y[np.where(X1X2Y[:,2]==0)])[:,1]\n",
    "    a,=plt.plot(A1,A2,\"bX\",label=\"Alaska\")\n",
    "    \n",
    "    #plotting the canada data\n",
    "    C1 = (X1X2Y[np.where(X1X2Y[:,2]==1)])[:,0]\n",
    "    C2 = (X1X2Y[np.where(X1X2Y[:,2]==1)])[:,1]\n",
    "    b,=plt.plot(C1,C2,\"ro\",label=\"Canada\")\n",
    "    \n",
    "    #labelling the axis\n",
    "    plt.xlabel(\"X1 feature\",color=\"r\")\n",
    "    plt.ylabel(\"X2 feature\",color=\"r\")\n",
    "    plt.title(\"Data distribution\")\n",
    "    plt.legend()\n",
    "    plt.show(block = False)\n",
    "    return a,b"
   ]
  },
  {
   "cell_type": "code",
   "execution_count": 6,
   "metadata": {},
   "outputs": [],
   "source": [
    "def cal_MU():\n",
    "    X1X2Y=inputData()\n",
    "    count0 = np.count_nonzero(X1X2Y[:,2] == 0)\n",
    "    count1 = np.count_nonzero(X1X2Y[:,2] == 1)\n",
    "    MU0 = []\n",
    "    MU1 = []\n",
    "    MU0.append(np.sum(X1X2Y[:,0]*(1-X1X2Y[:,2]))/count0)\n",
    "    MU0.append(np.sum(X1X2Y[:,1]*(1-X1X2Y[:,2]))/count0)\n",
    "    MU1.append(np.sum(X1X2Y[:,0]*X1X2Y[:,2])/count1)\n",
    "    MU1.append(np.sum(X1X2Y[:,1]*X1X2Y[:,2])/count1)\n",
    "    return np.array(MU0).reshape(-1,1),np.array(MU1).reshape(-1,1)"
   ]
  },
  {
   "cell_type": "code",
   "execution_count": 7,
   "metadata": {},
   "outputs": [],
   "source": [
    "def phi():\n",
    "    X1X2Y=inputData()\n",
    "    count1 = np.count_nonzero(X1X2Y[:,2] == 1)\n",
    "    return count1/X1X2Y.shape[0]\n"
   ]
  },
  {
   "cell_type": "code",
   "execution_count": 8,
   "metadata": {},
   "outputs": [],
   "source": [
    "def covariance():\n",
    "    MU0,MU1 = cal_MU()\n",
    "    X1X2Y = inputData()\n",
    "    #calculating X -mu(i) for both feature vector\n",
    "    X1 = np.array([i[0]-MU0[0,:] if i[2]==0 else i[0]-MU1[0,:] for i in X1X2Y])\n",
    "    X2 = np.array([i[1]-MU0[1,:] if i[2]==0 else i[1]-MU1[1,:] for i in X1X2Y])\n",
    "    X=np.concatenate([X1,X2],axis=1)\n",
    "    return np.dot(X.T,X)/X.shape[0]\n",
    "    "
   ]
  },
  {
   "cell_type": "code",
   "execution_count": 9,
   "metadata": {},
   "outputs": [],
   "source": [
    "def find_X2_point_linear(x1):\n",
    "    phiValue = phi()\n",
    "    (MU0,MU1) = cal_MU()\n",
    "    COV = covariance()\n",
    "#     ax1+bx2+c =0\n",
    "    c = -(np.dot(np.dot(MU0.T,np.linalg.inv(COV)),MU0) - np.dot(np.dot(MU1.T,np.linalg.inv(COV)),MU1))+ math.log(phiValue/(1-phiValue))\n",
    "    ab =  np.dot(MU1.T,np.linalg.inv(COV)) - np.dot(MU0.T,np.linalg.inv(COV))\n",
    "    a = ab[:,0]\n",
    "    b = ab[:,1]\n",
    "    x2 = -(c +a*x1)/b\n",
    "    return x2"
   ]
  },
  {
   "cell_type": "code",
   "execution_count": 10,
   "metadata": {},
   "outputs": [],
   "source": [
    "def LinearBoundry():\n",
    "    fig = plt.figure()\n",
    "    ax = fig.add_subplot(111)\n",
    "    X1X2Y=inputData()\n",
    "    \n",
    "    #plotting the alaska data\n",
    "    A1 = (X1X2Y[np.where(X1X2Y[:,2]==0)])[:,0]\n",
    "    A2 = (X1X2Y[np.where(X1X2Y[:,2]==0)])[:,1]\n",
    "    a,=plt.plot(A1,A2,\"bX\",label=\"Alaska\")\n",
    "    \n",
    "    #plotting the canada data\n",
    "    C1 = (X1X2Y[np.where(X1X2Y[:,2]==1)])[:,0]\n",
    "    C2 = (X1X2Y[np.where(X1X2Y[:,2]==1)])[:,1]\n",
    "    b,=plt.plot(C1,C2,\"ro\",label=\"Canada\")\n",
    "    \n",
    "    #plotting hypothesis\n",
    "\n",
    "    c, = plt.plot(X1X2Y[:,0],np.array([find_X2_point_linear(i[0]) for i in X1X2Y]).reshape(-1,1),\"g\",label = \"Decision Boundary\")\n",
    "    \n",
    "    #labelling the axis\n",
    "    plt.xlabel(\"X1 feature\",color=\"r\")\n",
    "    plt.ylabel(\"X2 feature\",color=\"r\")\n",
    "    plt.title(\"GDA Classification\")\n",
    "    plt.legend()\n",
    "    plt.show(block = False)\n",
    "    return a,b,c"
   ]
  },
  {
   "cell_type": "code",
   "execution_count": 11,
   "metadata": {},
   "outputs": [],
   "source": [
    "(c,d)=plotData()\n",
    "(a,b,c)=LinearBoundry()"
   ]
  },
  {
   "cell_type": "code",
   "execution_count": 12,
   "metadata": {},
   "outputs": [],
   "source": [
    "def differCovariance():\n",
    "    MU0,MU1 = cal_MU()\n",
    "    X1X2Y = inputData()\n",
    "    count1 = np.count_nonzero(X1X2Y[:,2] == 1)\n",
    "    count0 = np.count_nonzero(X1X2Y[:,2] == 0)\n",
    "    \n",
    "    C00 = ((X1X2Y[np.where(X1X2Y[:,2]==0)])[:,0] - MU0[0,:]).reshape(-1,1)\n",
    "    C01 = ((X1X2Y[np.where(X1X2Y[:,2]==0)])[:,1] - MU0[1,:]).reshape(-1,1)\n",
    "    \n",
    "    C10 = ((X1X2Y[np.where(X1X2Y[:,2]==1)])[:,0] - MU1[0,:]).reshape(-1,1)\n",
    "    C11 = ((X1X2Y[np.where(X1X2Y[:,2]==1)])[:,1] - MU1[1,:]).reshape(-1,1)\n",
    "\n",
    "    \n",
    "    C0  = np.concatenate([C00,C01],axis=1)\n",
    "    C1  = np.concatenate([C10,C11],axis=1)\n",
    "    sigma0 = np.dot(C0.T,C0)/count0\n",
    "    sigma1 = np.dot(C1.T,C1)/count1\n",
    "    return sigma0,sigma1"
   ]
  },
  {
   "cell_type": "code",
   "execution_count": 13,
   "metadata": {},
   "outputs": [
    {
     "name": "stdout",
     "output_type": "stream",
     "text": [
      "[[ 0.38158978 -0.15486516]\n",
      " [-0.15486516  0.64773717]]\n",
      "[[0.47747117 0.1099206 ]\n",
      " [0.1099206  0.41355441]]\n"
     ]
    }
   ],
   "source": [
    "(sigma0,sigma1)=differCovariance()\n",
    "print(sigma0)\n",
    "print(sigma1)"
   ]
  },
  {
   "cell_type": "code",
   "execution_count": 14,
   "metadata": {},
   "outputs": [],
   "source": [
    "def find_X2_point_quadratic(x1):\n",
    "    phiValue = phi()\n",
    "    (MU0,MU1) = cal_MU()\n",
    "    (sigma0,sigma1)=differCovariance()\n",
    "    sigma0_inv = np.linalg.inv(sigma0)\n",
    "    sigma1_inv = np.linalg.inv(sigma1)\n",
    "    a0 = sigma0_inv[0,0]\n",
    "    b0 = sigma0_inv[1,1]\n",
    "    c0 = sigma0_inv[0,1]\n",
    "    a1 = sigma1_inv[0,0]\n",
    "    b1 = sigma1_inv[1,1]\n",
    "    c1 = sigma1_inv[0,1]\n",
    "    \n",
    "    p1q1 = np.dot(MU1.T, sigma1_inv)\n",
    "    p0q0 = np.dot(MU0.T, sigma0_inv)\n",
    "    \n",
    "    p1 =p1q1[0,0]\n",
    "    q1= p1q1[0,1]\n",
    "    p0 =p0q0[0,0]\n",
    "    q0= p0q0[0,1]\n",
    "    \n",
    "    '''\n",
    "    \n",
    "    representaation assumption to solve the quadratic equation\n",
    "    \n",
    "    sigma0_inv = a0  c0       sigma1_inv = a1  c1\n",
    "                 c0  b0                    c1  b1\n",
    "    \n",
    "    np.dot(MU1.T sigma1_inv) = p1  q1\n",
    "    np.dot(MU0.T sigma0_inv) = p0  q0\n",
    "    \n",
    "    \n",
    "    \n",
    "    A * x2^2 + B * X2 + C = 0 \n",
    "    \n",
    "    '''\n",
    "    \n",
    "    sigma0_det = np.linalg.det(sigma0)\n",
    "    sigma1_det = np.linalg.det(sigma1)\n",
    "    \n",
    "    \n",
    "    \n",
    "    \n",
    "    A = ((b0 - b1)/2)\n",
    "    \n",
    "    B = x1*(c0 - c1) + (q1 -q0)\n",
    "    \n",
    "    C = (x1**2)*((a0-a1)/2) + x1*(p1-p0) - ( np.dot(np.dot(MU1.T,sigma1_inv),MU1) - np.dot(np.dot(MU0.T,sigma0_inv),MU0) )/2  + math.log(phiValue/(1-phiValue)) + math.log(math.sqrt(abs(sigma0_det))/math.sqrt(abs(sigma1_det))) \n",
    "\n",
    "    D =(B**2 - 4*A*C[0,0])\n",
    "    x2_0 = (-B + np.sqrt(D))/(2*A)\n",
    "    x2_1 = (-B - np.sqrt(D))/(2*A)\n",
    "    \n",
    "    return x2_0, x2_1\n",
    "    \n",
    "    "
   ]
  },
  {
   "cell_type": "code",
   "execution_count": 15,
   "metadata": {},
   "outputs": [
    {
     "data": {
      "text/plain": [
       "(-4.7404059401401435, 4.079845074452436)"
      ]
     },
     "execution_count": 15,
     "metadata": {},
     "output_type": "execute_result"
    }
   ],
   "source": [
    "find_X2_point_quadratic(2)"
   ]
  },
  {
   "cell_type": "code",
   "execution_count": 16,
   "metadata": {},
   "outputs": [],
   "source": [
    "def quadratic_boundary():\n",
    "    fig = plt.figure()\n",
    "    ax1 = fig.add_subplot(111)\n",
    "    X1X2Y=inputData()\n",
    "    \n",
    "    #plotting the alaska data\n",
    "    A1 = (X1X2Y[np.where(X1X2Y[:,2]==0)])[:,0]\n",
    "    A2 = (X1X2Y[np.where(X1X2Y[:,2]==0)])[:,1]\n",
    "    a,=plt.plot(A1,A2,\"bX\",label=\"Alaska\")\n",
    "    \n",
    "    #plotting the canada data\n",
    "    C1 = (X1X2Y[np.where(X1X2Y[:,2]==1)])[:,0]\n",
    "    C2 = (X1X2Y[np.where(X1X2Y[:,2]==1)])[:,1]\n",
    "    b,=plt.plot(C1,C2,\"ro\",label=\"Canada\")\n",
    "    \n",
    "    #plotting hypothesis\n",
    "    x1  = np.linspace(-2,2,10)\n",
    "    Pair=[find_X2_point_quadratic(i) for i in x1]\n",
    "    c, = plt.plot(x1,[i[1] for i in Pair],\"g\",label = \"Decision Boundary\")\n",
    "    \n",
    "    #labelling the axis\n",
    "    plt.xlabel(\"X1 feature\",color=\"r\")\n",
    "    plt.ylabel(\"X2 feature\",color=\"r\")\n",
    "    plt.title(\"GDA Classification\")\n",
    "    plt.legend()\n",
    "    plt.show(block = False)\n",
    "    return a,b,c"
   ]
  },
  {
   "cell_type": "code",
   "execution_count": 17,
   "metadata": {},
   "outputs": [
    {
     "data": {
      "text/plain": [
       "(<matplotlib.lines.Line2D at 0x7f78c8672e80>,\n",
       " <matplotlib.lines.Line2D at 0x7f78c8672f98>,\n",
       " <matplotlib.lines.Line2D at 0x7f78c867b4e0>)"
      ]
     },
     "execution_count": 17,
     "metadata": {},
     "output_type": "execute_result"
    }
   ],
   "source": [
    "quadratic_boundary()"
   ]
  }
 ],
 "metadata": {
  "kernelspec": {
   "display_name": "Python 3",
   "language": "python",
   "name": "python3"
  },
  "language_info": {
   "codemirror_mode": {
    "name": "ipython",
    "version": 3
   },
   "file_extension": ".py",
   "mimetype": "text/x-python",
   "name": "python",
   "nbconvert_exporter": "python",
   "pygments_lexer": "ipython3",
   "version": "3.6.5"
  }
 },
 "nbformat": 4,
 "nbformat_minor": 2
}
