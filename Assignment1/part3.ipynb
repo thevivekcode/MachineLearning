{
 "cells": [
  {
   "cell_type": "code",
   "execution_count": 1,
   "metadata": {},
   "outputs": [],
   "source": [
    "import numpy as np\n",
    "import pandas as pd \n",
    "import matplotlib.pyplot as plt\n",
    "from time import time\n",
    "from mpl_toolkits.mplot3d import Axes3D\n",
    "from matplotlib import cm\n",
    "import matplotlib.animation as animation\n",
    "import math"
   ]
  },
  {
   "cell_type": "code",
   "execution_count": 2,
   "metadata": {},
   "outputs": [],
   "source": [
    "%matplotlib qt"
   ]
  },
  {
   "cell_type": "code",
   "execution_count": 3,
   "metadata": {},
   "outputs": [],
   "source": [
    "def normalize(data):\n",
    "    mean = np.mean(data)\n",
    "    std = np.std(data)\n",
    "    data = data -mean\n",
    "    data = data/std\n",
    "    return data"
   ]
  },
  {
   "cell_type": "code",
   "execution_count": 4,
   "metadata": {},
   "outputs": [],
   "source": [
    "def inputData():\n",
    "    dfX1 = pd.read_csv(\"./data/q3/logisticX.csv\",usecols=[0],names=[\"X1\"],header=None)\n",
    "    dfX2 = pd.read_csv(\"./data/q3/logisticX.csv\",usecols=[1],names=[\"X2\"],header=None)\n",
    "    dfY = pd.read_csv(\"./data/q3/logisticY.csv\",usecols=[0],names=[\"Y\"],header=None)\n",
    "    X_0 = np.ones((len(dfX1),1))\n",
    "    X_1 = normalize(dfX1[\"X1\"].to_numpy()).reshape(-1,1)\n",
    "    X_2 = normalize(dfX2[\"X2\"].to_numpy()).reshape(-1,1)\n",
    "#     print(X_1.shape)\n",
    "    Y = dfY.to_numpy().reshape(-1,1)\n",
    "    X0X1 = np.append(X_0,X_1, axis=1)\n",
    "    X0X1X2 = np.append(X0X1,X_2,axis = 1)\n",
    "    X0X1X2Y = np.append(X0X1X2,Y, axis=1)\n",
    "#     np.random.shuffle(X0X1X2Y)  #shuffling data to make it random for better distribution\n",
    "#     print(X0X1X2Y)\n",
    "    return X0X1X2Y"
   ]
  },
  {
   "cell_type": "code",
   "execution_count": 6,
   "metadata": {},
   "outputs": [],
   "source": [
    "def newtonUpdate():\n",
    "    X0X1X2Y = inputData()\n",
    "    #calculating the hessian matrix \n",
    "    hessian =  np.dot(X0X1X2Y[:,0:3].T,X0X1X2Y[:,0:3])\n",
    "    \n",
    "    #since we know netwon update converges in one step for quadrtic functions\n",
    "    #hence we use the derived equation to calculate the theta that covergres\n",
    "    \n",
    "    theta = np.zeros((3,3)) # initialize theta to zeros\n",
    "    \n",
    "    #calculating theta\n",
    "    theta = np.dot(np.linalg.inv(hessian),np.dot(X0X1X2Y[:,0:3].T,X0X1X2Y[:,3:4]))\n",
    "    \n",
    "    return theta\n",
    "    \n",
    "    \n",
    "    "
   ]
  },
  {
   "cell_type": "code",
   "execution_count": 7,
   "metadata": {},
   "outputs": [
    {
     "name": "stdout",
     "output_type": "stream",
     "text": [
      "[[ 0.5       ]\n",
      " [ 0.22433535]\n",
      " [-0.23002807]]\n"
     ]
    }
   ],
   "source": [
    "theta= newtonUpdate()\n",
    "print(theta)\n",
    "X0X1X2Y = inputData()\n",
    "\n",
    "x2 = -(np.dot(X0X1X2Y[:,0:2],theta[0:2,:])/theta[2:3,:])\n",
    "plt.plot(X0X1X2Y[:50,1:2],X0X1X2Y[:50,2:3],\"rx\",X0X1X2Y[50:,1:2],X0X1X2Y[50:,2:3],\"b^\")\n",
    "plt.plot(X0X1X2Y[:,1:2],x2 )\n",
    "plt.show()"
   ]
  },
  {
   "cell_type": "code",
   "execution_count": null,
   "metadata": {},
   "outputs": [],
   "source": []
  },
  {
   "cell_type": "code",
   "execution_count": null,
   "metadata": {},
   "outputs": [],
   "source": []
  }
 ],
 "metadata": {
  "kernelspec": {
   "display_name": "Python 3",
   "language": "python",
   "name": "python3"
  },
  "language_info": {
   "codemirror_mode": {
    "name": "ipython",
    "version": 3
   },
   "file_extension": ".py",
   "mimetype": "text/x-python",
   "name": "python",
   "nbconvert_exporter": "python",
   "pygments_lexer": "ipython3",
   "version": "3.6.5"
  }
 },
 "nbformat": 4,
 "nbformat_minor": 2
}
