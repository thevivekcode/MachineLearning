{
 "cells": [
  {
   "cell_type": "code",
   "execution_count": 1,
   "metadata": {},
   "outputs": [],
   "source": [
    "import numpy as np\n",
    "import pandas as pd \n",
    "import matplotlib.pyplot as plt\n",
    "from time import time"
   ]
  },
  {
   "cell_type": "code",
   "execution_count": 2,
   "metadata": {},
   "outputs": [],
   "source": [
    "def inputData():\n",
    "    dfX = pd.read_csv(\"./data/q1/linearX.csv\",usecols=[0],names=[\"X\"],header=None)\n",
    "    inputListX=dfX['X'].tolist()\n",
    "    dfY = pd.read_csv(\"./data/q1/linearY.csv\",usecols=[0],names=[\"Y\"],header=None)\n",
    "    inputListY=dfY['Y'].tolist()\n",
    "    return inputListX,inputListY\n",
    "\n",
    "    "
   ]
  },
  {
   "cell_type": "code",
   "execution_count": 1,
   "metadata": {},
   "outputs": [],
   "source": [
    "# plt.scatter(inputListX,inputListY)\n",
    "# plt.title(\"linear regression\" )\n",
    "# plt.show()"
   ]
  },
  {
   "cell_type": "code",
   "execution_count": null,
   "metadata": {},
   "outputs": [],
   "source": [
    "def normalize(data):\n",
    "    mean = np.mean(data)\n",
    "    std = np.std(data)\n",
    "    data = data -mean\n",
    "    data = data/std\n",
    "    return data\n",
    "    "
   ]
  },
  {
   "cell_type": "code",
   "execution_count": 4,
   "metadata": {},
   "outputs": [],
   "source": [
    "# batch Gradient descent "
   ]
  },
  {
   "cell_type": "code",
   "execution_count": 5,
   "metadata": {},
   "outputs": [],
   "source": [
    "# step 1: creating input DATA\n",
    "#         Making Design matrix \"X\" with X0=1\n",
    "\n",
    "def align(inputListX,inputListY):\n",
    "    numpyListX = normalize(np.reshape(np.array(inputListX),(-1,1)))\n",
    "    numpyListY = np.reshape(np.array(inputListY),(-1,1))\n",
    "    data = np.append( numpyListX,numpyListY, axis = 1)\n",
    "\n",
    "    np.random.shuffle(data)  #shuffling data to make it random for better distribution\n",
    "\n",
    "    x = data[:, 0 : 1]  #copy all rows and only copy zeroth col [0,1)\n",
    "    y = data[:, 1 : 2]  #copy all rows and only copy first col [1,2)\n",
    "    ones = np.ones((x.shape[0], 1))\n",
    "    X = np.append(ones, x, axis = 1)\n",
    "    return x,y,X\n",
    "# print(numpyListX.shape)\n",
    "# print(ones.shape)\n",
    "# print(X.shape)"
   ]
  },
  {
   "cell_type": "code",
   "execution_count": 6,
   "metadata": {},
   "outputs": [],
   "source": [
    "#step 2: create theta vector \n",
    "\n",
    "# theta = np.zeros((X.shape[1],1))\n",
    "# print(theta.shape)\n",
    "# print(theta)"
   ]
  },
  {
   "cell_type": "code",
   "execution_count": 7,
   "metadata": {},
   "outputs": [],
   "source": [
    "# step 3: define a cost function\n",
    "\n",
    "def costFuction(y,X,theta):\n",
    "    hypothesis = np.dot(X,theta)\n",
    "    error = y-hypothesis\n",
    "    errorSquared =error**2\n",
    "    examples = X.shape[0] #X.shape[0] represents number of training example\n",
    "    return np.sum(errorSquared)/(2*examples) \n",
    "\n",
    "\n",
    "    "
   ]
  },
  {
   "cell_type": "code",
   "execution_count": 8,
   "metadata": {},
   "outputs": [],
   "source": [
    "#step 4: define a gradient function\n",
    "\n",
    "# def gradientFunction(X,y,theta):\n",
    "#     error = np.dot(X,theta) - y\n",
    "#     grad_cost=np.zeros((2,1))\n",
    "#     for i in range(X.shape[0]):\n",
    "#         for j in range(grad_cost.shape[0]):\n",
    "#             grad_cost[j]+= error[i]*X[i,j]\n",
    "#     op =  grad_cost/(X.shape[0])\n",
    "#     return op\n",
    "\n",
    "# gc = np.reshape(np.array([2,3]),(2,1))\n",
    "# print(gc)\n",
    "# dummyx = np.array([1,2,1,4,1,5,1,6,1,7])\n",
    "# dummyx=np.reshape(np.array(dummyx),(-1,2))\n",
    "# print(dummyx[:,1:2])\n",
    "# print()\n",
    "\n",
    "def gradientFunction(X,y,theta):\n",
    "    error = np.dot(X,theta) - y  # h(X) -y\n",
    "    grad_cost = np.zeros((2,1))\n",
    "    grad_cost[0] = np.sum(error*X[:,0:1])/(X.shape[0])\n",
    "    grad_cost[1] = np.sum(error*X[:,1:2])/(X.shape[0])\n",
    "    return grad_cost\n",
    "        "
   ]
  },
  {
   "cell_type": "code",
   "execution_count": 9,
   "metadata": {},
   "outputs": [],
   "source": [
    "# implement gradient descent unitil it converges\n",
    "\n",
    "def gradientDescent():\n",
    "    (inputListX,inputListY) = inputData()\n",
    "    (x,y,X) = align(inputListX,inputListY)\n",
    "    \n",
    "    theta = np.zeros((X.shape[1],1))  # initializing theta vector\n",
    "\n",
    "    learningRate = 1e-3\n",
    "    \n",
    "    #first iteration to implement de while \n",
    "    oldTheta = theta.copy()  #theta(t)\n",
    "    theta -= learningRate*gradientFunction(X,y,theta) #theta(t+1)\n",
    "\n",
    "    costPlot = [] # list for plot of costfunction\n",
    "    costPlot.append(costFuction(y,X,theta))\n",
    "    while(abs(costFuction(y,X,theta) - costFuction(y,X,oldTheta)) > 1e-15 ):\n",
    "#     for k in range(200000):\n",
    "        oldTheta = theta.copy()\n",
    "        theta -= learningRate*gradientFunction(X,y,theta)\n",
    "        costPlot.append(costFuction(y,X,theta))\n",
    "    return x,y,X,theta,costPlot\n"
   ]
  },
  {
   "cell_type": "code",
   "execution_count": 10,
   "metadata": {},
   "outputs": [],
   "source": [
    "def plot():\n",
    "    start=time()\n",
    "    (x,y,X,theta,costPlot) = gradientDescent()\n",
    "    end =time() -start\n",
    "    print(\"total time {}\".format(end))\n",
    "    # plot data point and hypothesis\n",
    "    plt.scatter(x,y)\n",
    "    plt.plot(x,theta[0]+x*theta[1] , color='r')\n",
    "    plt.title(\"linear regression\" )\n",
    "    plt.show()\n",
    "\n",
    "    #plot cost function\n",
    "    plt.plot(costPlot)\n",
    "    plt.show()"
   ]
  },
  {
   "cell_type": "code",
   "execution_count": 11,
   "metadata": {},
   "outputs": [
    {
     "name": "stdout",
     "output_type": "stream",
     "text": [
      "total time 16.49538779258728\n"
     ]
    },
    {
     "data": {
      "image/png": "[encoded data removed]",
      "text/plain": [
       "<Figure size 432x288 with 1 Axes>"
      ]
     },
     "metadata": {},
     "output_type": "display_data"
    },
    {
     "data": {
      "image/png": "[encoded data removed]",
      "text/plain": [
       "<Figure size 432x288 with 1 Axes>"
      ]
     },
     "metadata": {},
     "output_type": "display_data"
    }
   ],
   "source": [
    "plot()"
   ]
  },
  {
   "cell_type": "code",
   "execution_count": 15,
   "metadata": {},
   "outputs": [],
   "source": [
    "# lst=np.array([1,2,3])"
   ]
  },
  {
   "cell_type": "code",
   "execution_count": 18,
   "metadata": {},
   "outputs": [],
   "source": [
    "# lst?"
   ]
  },
  {
   "cell_type": "code",
   "execution_count": null,
   "metadata": {},
   "outputs": [],
   "source": []
  }
 ],
 "metadata": {
  "kernelspec": {
   "display_name": "Python 3",
   "language": "python",
   "name": "python3"
  },
  "language_info": {
   "codemirror_mode": {
    "name": "ipython",
    "version": 3
   },
   "file_extension": ".py",
   "mimetype": "text/x-python",
   "name": "python",
   "nbconvert_exporter": "python",
   "pygments_lexer": "ipython3",
   "version": "3.6.5"
  }
 },
 "nbformat": 4,
 "nbformat_minor": 2
}
