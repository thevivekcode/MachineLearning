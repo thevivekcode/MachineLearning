{
 "cells": [
  {
   "cell_type": "code",
   "execution_count": 1,
   "metadata": {},
   "outputs": [],
   "source": [
    "import numpy as np\n",
    "import pandas as pd \n",
    "import matplotlib.pyplot as plt\n",
    "from time import time\n",
    "from mpl_toolkits.mplot3d import Axes3D\n",
    "from matplotlib import cm\n",
    "import matplotlib.animation as animation\n",
    "import math"
   ]
  },
  {
   "cell_type": "code",
   "execution_count": 2,
   "metadata": {},
   "outputs": [],
   "source": [
    "%matplotlib qt"
   ]
  },
  {
   "cell_type": "code",
   "execution_count": 3,
   "metadata": {},
   "outputs": [],
   "source": [
    "def normalize(data):\n",
    "    mean = np.mean(data)\n",
    "    std = np.std(data)\n",
    "    data = data -mean\n",
    "    data = data/std\n",
    "    return data"
   ]
  },
  {
   "cell_type": "code",
   "execution_count": 4,
   "metadata": {},
   "outputs": [],
   "source": [
    "def inputData():\n",
    "    dfX1 = pd.read_csv(\"./data/q3/logisticX.csv\",usecols=[0],names=[\"X1\"],header=None)\n",
    "    dfX2 = pd.read_csv(\"./data/q3/logisticX.csv\",usecols=[1],names=[\"X2\"],header=None)\n",
    "    dfY = pd.read_csv(\"./data/q3/logisticY.csv\",usecols=[0],names=[\"Y\"],header=None)\n",
    "    #creating the intercept term\n",
    "    X_0 = np.ones((len(dfX1),1))\n",
    "    #normalizing the data\n",
    "    X_1 = normalize(dfX1[\"X1\"].to_numpy()).reshape(-1,1)\n",
    "    X_2 = normalize(dfX2[\"X2\"].to_numpy()).reshape(-1,1)\n",
    "#     print(X_1.shape)\n",
    "    Y = dfY.to_numpy().reshape(-1,1)\n",
    "    #joining the training example as one numpy Narray\n",
    "    X0X1 = np.append(X_0,X_1, axis=1)\n",
    "    X0X1X2 = np.append(X0X1,X_2,axis = 1)\n",
    "    X0X1X2Y = np.append(X0X1X2,Y, axis=1)\n",
    "    np.random.shuffle(X0X1X2Y)  #shuffling data to make it random for better distribution\n",
    "#     print(X0X1X2Y)\n",
    "    return X0X1X2Y"
   ]
  },
  {
   "cell_type": "code",
   "execution_count": 5,
   "metadata": {},
   "outputs": [],
   "source": [
    "def sigmoid(X0X1X2Y,theta):\n",
    "    # calculating sigmoid function\n",
    "    ita = np.dot(X0X1X2Y[:,0:3],theta)\n",
    "    return 1/(1+np.exp(-ita))"
   ]
  },
  {
   "cell_type": "code",
   "execution_count": 6,
   "metadata": {},
   "outputs": [],
   "source": [
    "def newtonUpdate():\n",
    "    theta = np.zeros((3,1)) # initialize theta to zeros\n",
    "    X0X1X2Y = inputData()\n",
    "    \n",
    "    for i in range(20):\n",
    "        #calculating the hessian matrix \n",
    "        sigma = sigmoid(X0X1X2Y,theta)*(1-sigmoid(X0X1X2Y,theta))\n",
    "\n",
    "        hessian =  np.dot(np.dot(X0X1X2Y[:,0:3].T,np.diag(sigma[:,0:1].flat)),X0X1X2Y[:,0:3])\n",
    "        \n",
    "        # gradient of log likelyhood\n",
    "        Jcost =np.dot( X0X1X2Y[:,0:3].T,(sigmoid(X0X1X2Y,theta) - X0X1X2Y[:,3:4]))\n",
    "        \n",
    "         #calculating theta\n",
    "        theta -= np.dot(np.linalg.inv(hessian),Jcost)\n",
    "    \n",
    "    return theta\n",
    "    \n",
    "    \n",
    "    "
   ]
  },
  {
   "cell_type": "code",
   "execution_count": 7,
   "metadata": {},
   "outputs": [],
   "source": [
    "def plot():\n",
    "    theta= newtonUpdate()\n",
    "    print(theta)\n",
    "    X0X1X2Y = inputData()\n",
    "\n",
    "    x2 = -(np.dot(X0X1X2Y[:,0:2],theta[0:2,:])/theta[2:3,:])\n",
    "#     a,=plt.plot(X0X1X2Y[:50,1:2],X0X1X2Y[:50,2:3],\"rx\",label =\"negative\")\n",
    "    a,=plt.plot((X0X1X2Y[np.where(X0X1X2Y[:,3]==0)])[:,1],(X0X1X2Y[np.where(X0X1X2Y[:,3]==0)])[:,2],\"rx\",label =\"negative\")\n",
    "    \n",
    "    b,=plt.plot((X0X1X2Y[np.where(X0X1X2Y[:,3]==1)])[:,1],(X0X1X2Y[np.where(X0X1X2Y[:,3]==1)])[:,2],\"b^\",label =\"positive\")\n",
    "    c,=plt.plot(X0X1X2Y[:,1:2],x2 )\n",
    "    plt.legend()\n",
    "    plt.xlabel(\"Feature X1\",color=\"r\")\n",
    "    plt.ylabel(\"Feature X2\",color=\"r\")\n",
    "    plt.title(\"Logistic regression\",color=\"b\")\n",
    "    plt.show()\n",
    "    return a,b,c"
   ]
  },
  {
   "cell_type": "code",
   "execution_count": 8,
   "metadata": {},
   "outputs": [
    {
     "name": "stdout",
     "output_type": "stream",
     "text": [
      "[[ 0.40125316]\n",
      " [ 2.5885477 ]\n",
      " [-2.72558849]]\n"
     ]
    }
   ],
   "source": [
    "(a,b,c)=plot()"
   ]
  },
  {
   "cell_type": "code",
   "execution_count": null,
   "metadata": {},
   "outputs": [],
   "source": []
  }
 ],
 "metadata": {
  "kernelspec": {
   "display_name": "Python 3",
   "language": "python",
   "name": "python3"
  },
  "language_info": {
   "codemirror_mode": {
    "name": "ipython",
    "version": 3
   },
   "file_extension": ".py",
   "mimetype": "text/x-python",
   "name": "python",
   "nbconvert_exporter": "python",
   "pygments_lexer": "ipython3",
   "version": "3.6.5"
  }
 },
 "nbformat": 4,
 "nbformat_minor": 2
}
