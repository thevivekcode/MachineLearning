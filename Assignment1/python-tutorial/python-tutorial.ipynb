{
 "cells": [
  {
   "cell_type": "code",
   "execution_count": null,
   "metadata": {},
   "outputs": [],
   "source": [
    "x = 3\n",
    "type(x)\n",
    "a = x + 3\n",
    "b = x * 5\n",
    "print(a, b)\n",
    "print(x / 2, x // 2, type(x / 2), type(x // 2))"
   ]
  },
  {
   "cell_type": "code",
   "execution_count": null,
   "metadata": {},
   "outputs": [],
   "source": [
    "s = 'Hello'\n",
    "sdash = \"Hello\"\n",
    "print(s == sdash)"
   ]
  },
  {
   "cell_type": "code",
   "execution_count": null,
   "metadata": {},
   "outputs": [],
   "source": [
    "s + ' World'"
   ]
  },
  {
   "cell_type": "code",
   "execution_count": null,
   "metadata": {},
   "outputs": [],
   "source": [
    "s * 3"
   ]
  },
  {
   "cell_type": "code",
   "execution_count": null,
   "metadata": {},
   "outputs": [],
   "source": [
    "l = [1,2,3,4]\n",
    "l.append(5)\n",
    "print(l)"
   ]
  },
  {
   "cell_type": "code",
   "execution_count": null,
   "metadata": {},
   "outputs": [],
   "source": [
    "l + [6]"
   ]
  },
  {
   "cell_type": "code",
   "execution_count": null,
   "metadata": {},
   "outputs": [],
   "source": [
    "l = [1, 'two', False, True]\n",
    "print(len(l))"
   ]
  },
  {
   "cell_type": "code",
   "execution_count": null,
   "metadata": {},
   "outputs": [],
   "source": [
    "lst = [[1, 2, 3], [4, 5, 6]]\n",
    "print(lst)"
   ]
  },
  {
   "cell_type": "code",
   "execution_count": null,
   "metadata": {},
   "outputs": [],
   "source": [
    "print(lst[0][1])\n",
    "print(lst[1][2])"
   ]
  },
  {
   "cell_type": "code",
   "execution_count": null,
   "metadata": {},
   "outputs": [],
   "source": [
    "lst = [[1,2,3,4], [5,6,7,8],[9,10,11,12],[13,14,15,16]]"
   ]
  },
  {
   "cell_type": "code",
   "execution_count": null,
   "metadata": {},
   "outputs": [],
   "source": [
    "print(lst)"
   ]
  },
  {
   "cell_type": "code",
   "execution_count": null,
   "metadata": {},
   "outputs": [],
   "source": [
    "lst = [1,2,3,4,5,6]\n",
    "\n",
    "for i in range(len(lst)):\n",
    "    if i % 2 == 0:\n",
    "        print('Hello: {}, {}, {}'.format(lst[i], lst[i] * 2, lst[i] * 1.5))\n",
    "\n",
    "for i in range(len(lst)):\n",
    "    if i % 2 == 0:\n",
    "        print('Hello: ' + str(lst[i]) + ', ' + str(lst[i] * 2))"
   ]
  },
  {
   "cell_type": "code",
   "execution_count": null,
   "metadata": {},
   "outputs": [],
   "source": [
    "lst = list(range(1, 101))\n",
    "print(lst)"
   ]
  },
  {
   "cell_type": "code",
   "execution_count": null,
   "metadata": {},
   "outputs": [],
   "source": [
    "lst[ : 10]"
   ]
  },
  {
   "cell_type": "code",
   "execution_count": null,
   "metadata": {},
   "outputs": [],
   "source": [
    "print(lst[-10 : ], lst[-1], lst[-2], lst[-10])"
   ]
  },
  {
   "cell_type": "code",
   "execution_count": null,
   "metadata": {},
   "outputs": [],
   "source": [
    "print(lst[23 : 47])"
   ]
  },
  {
   "cell_type": "code",
   "execution_count": null,
   "metadata": {},
   "outputs": [],
   "source": [
    "def squares(l):\n",
    "    sq = []\n",
    "    for obj in l:\n",
    "        sq.append(obj ** 2)\n",
    "    return sq\n",
    "\n",
    "def squares2(l):\n",
    "    return [obj ** 2 for obj in l if obj % 2 != 0]"
   ]
  },
  {
   "cell_type": "code",
   "execution_count": null,
   "metadata": {},
   "outputs": [],
   "source": [
    "squares([1,2,3])"
   ]
  },
  {
   "cell_type": "code",
   "execution_count": null,
   "metadata": {},
   "outputs": [],
   "source": [
    "squares2([1,2,3])"
   ]
  },
  {
   "cell_type": "code",
   "execution_count": null,
   "metadata": {},
   "outputs": [],
   "source": [
    "def someFunc(l):\n",
    "    if len(l) < 2:\n",
    "        return l\n",
    "    pivot = l[len(l) // 2]\n",
    "    left = [x for x in l if x < pivot]\n",
    "    middle = [x for x in l if x == pivot]\n",
    "    right = [x for x in l if x > pivot]\n",
    "    return someFunc(left) + middle + someFunc(right)"
   ]
  },
  {
   "cell_type": "code",
   "execution_count": null,
   "metadata": {},
   "outputs": [],
   "source": [
    "lst = list(range(1, 101))"
   ]
  },
  {
   "cell_type": "code",
   "execution_count": null,
   "metadata": {},
   "outputs": [],
   "source": [
    "import random"
   ]
  },
  {
   "cell_type": "code",
   "execution_count": null,
   "metadata": {},
   "outputs": [],
   "source": [
    "random.shuffle(lst)\n",
    "print(lst)"
   ]
  },
  {
   "cell_type": "code",
   "execution_count": null,
   "metadata": {},
   "outputs": [],
   "source": [
    "sorted_list = someFunc(lst)\n",
    "print(sorted_list)"
   ]
  },
  {
   "cell_type": "code",
   "execution_count": null,
   "metadata": {},
   "outputs": [],
   "source": [
    "sorted(lst)"
   ]
  },
  {
   "cell_type": "code",
   "execution_count": null,
   "metadata": {},
   "outputs": [],
   "source": [
    "lst[23] = 123\n",
    "print(lst[ : 25])"
   ]
  },
  {
   "cell_type": "code",
   "execution_count": null,
   "metadata": {},
   "outputs": [],
   "source": [
    "def sq(lst):\n",
    "    return (lst, [x**2 for x in lst], 3, 'Hello')"
   ]
  },
  {
   "cell_type": "code",
   "execution_count": null,
   "metadata": {},
   "outputs": [],
   "source": [
    "tup = sq([1,2,3])\n",
    "tup"
   ]
  },
  {
   "cell_type": "code",
   "execution_count": null,
   "metadata": {},
   "outputs": [],
   "source": [
    "tup[1] = 'dog'"
   ]
  },
  {
   "cell_type": "code",
   "execution_count": null,
   "metadata": {},
   "outputs": [],
   "source": [
    "dictionary = {'cat': 'cute', 'dog': 'furry'}"
   ]
  },
  {
   "cell_type": "code",
   "execution_count": null,
   "metadata": {},
   "outputs": [],
   "source": [
    "print(dictionary)"
   ]
  },
  {
   "cell_type": "code",
   "execution_count": null,
   "metadata": {},
   "outputs": [],
   "source": [
    "dictionary['fish'] = 'wet'"
   ]
  },
  {
   "cell_type": "code",
   "execution_count": null,
   "metadata": {},
   "outputs": [],
   "source": [
    "dictionary"
   ]
  },
  {
   "cell_type": "code",
   "execution_count": null,
   "metadata": {},
   "outputs": [],
   "source": [
    "dictionary[1] = ['one', 1]"
   ]
  },
  {
   "cell_type": "code",
   "execution_count": null,
   "metadata": {},
   "outputs": [],
   "source": [
    "dictionary"
   ]
  },
  {
   "cell_type": "code",
   "execution_count": null,
   "metadata": {},
   "outputs": [],
   "source": [
    "del dictionary[1]\n",
    "dictionary"
   ]
  },
  {
   "cell_type": "code",
   "execution_count": null,
   "metadata": {},
   "outputs": [],
   "source": [
    "for key in dictionary:\n",
    "    print('Key {} has value {}'.format(key, dictionary[key]))"
   ]
  },
  {
   "cell_type": "code",
   "execution_count": null,
   "metadata": {},
   "outputs": [],
   "source": [
    "dictionary['cat'] = 'fierce'"
   ]
  },
  {
   "cell_type": "code",
   "execution_count": null,
   "metadata": {},
   "outputs": [],
   "source": [
    "for key, value in dictionary.items():\n",
    "    print('{}, {}'.format(key, value))"
   ]
  },
  {
   "cell_type": "code",
   "execution_count": null,
   "metadata": {},
   "outputs": [],
   "source": [
    "import numpy as np"
   ]
  },
  {
   "cell_type": "code",
   "execution_count": null,
   "metadata": {},
   "outputs": [],
   "source": [
    "l = [1,2,3]\n",
    "a = np.array(l)\n",
    "print([l])\n",
    "print(l)\n",
    "print(a)\n",
    "print(type(l))\n",
    "print(type(a))\n",
    "print(len(l))\n",
    "print(a.shape)"
   ]
  },
  {
   "cell_type": "code",
   "execution_count": null,
   "metadata": {},
   "outputs": [],
   "source": [
    "a[0, 1] = 6\n",
    "print(a)"
   ]
  },
  {
   "cell_type": "code",
   "execution_count": null,
   "metadata": {},
   "outputs": [],
   "source": [
    "a = np.array([[1,2,3,4], [5,6,7,8], [9,10,11,12]])\n",
    "print(a)"
   ]
  },
  {
   "cell_type": "code",
   "execution_count": null,
   "metadata": {},
   "outputs": [],
   "source": [
    "print(a[ : -1, 1].shape)"
   ]
  },
  {
   "cell_type": "code",
   "execution_count": null,
   "metadata": {},
   "outputs": [],
   "source": [
    "print(a[ : -1, 1 : 2].shape)"
   ]
  },
  {
   "cell_type": "code",
   "execution_count": null,
   "metadata": {},
   "outputs": [],
   "source": [
    "print(s)"
   ]
  },
  {
   "cell_type": "code",
   "execution_count": null,
   "metadata": {},
   "outputs": [],
   "source": [
    "a[0, 1]"
   ]
  },
  {
   "cell_type": "code",
   "execution_count": null,
   "metadata": {},
   "outputs": [],
   "source": [
    "a[0]"
   ]
  },
  {
   "cell_type": "code",
   "execution_count": null,
   "metadata": {},
   "outputs": [],
   "source": [
    "print(a)\n",
    "a[0 : 3, -2 : ]"
   ]
  },
  {
   "cell_type": "code",
   "execution_count": null,
   "metadata": {},
   "outputs": [],
   "source": [
    "print(a)\n",
    "rows = np.array([0, 2])\n",
    "b = np.array([2,0])\n",
    "a[rows, b]"
   ]
  },
  {
   "cell_type": "code",
   "execution_count": null,
   "metadata": {},
   "outputs": [],
   "source": [
    "print(np.zeros((5,6)))\n",
    "print(np.ones((5,5)))\n",
    "print(np.eye(5))\n",
    "print(np.random.random((5, 5)))"
   ]
  },
  {
   "cell_type": "code",
   "execution_count": null,
   "metadata": {},
   "outputs": [],
   "source": [
    "np.append(np.zeros((5, 6)), np.ones((4, 6)))"
   ]
  },
  {
   "cell_type": "code",
   "execution_count": null,
   "metadata": {},
   "outputs": [],
   "source": [
    "a = np.ones((3, 4), dtype=np.int64)\n",
    "b = np.ones((3, 4), dtype=np.int64) * 7\n",
    "print(a)\n",
    "print(b)"
   ]
  },
  {
   "cell_type": "code",
   "execution_count": null,
   "metadata": {},
   "outputs": [],
   "source": [
    "print(a + b)\n",
    "print(a - b)\n",
    "print(a / b)\n",
    "print(a * b)"
   ]
  },
  {
   "cell_type": "code",
   "execution_count": null,
   "metadata": {},
   "outputs": [],
   "source": [
    "btranspose = b.T\n",
    "\n",
    "matrixmult = np.dot(a, btranspose)\n",
    "print(matrixmult)"
   ]
  },
  {
   "cell_type": "code",
   "execution_count": null,
   "metadata": {},
   "outputs": [],
   "source": [
    "x = np.array([1,2,3,4])\n",
    "print(a)\n",
    "print(np.dot(a, x))"
   ]
  },
  {
   "cell_type": "code",
   "execution_count": null,
   "metadata": {},
   "outputs": [],
   "source": [
    "import time"
   ]
  },
  {
   "cell_type": "code",
   "execution_count": null,
   "metadata": {},
   "outputs": [],
   "source": [
    "a = np.array(list(range(1000)))\n",
    "b = np.array(list(range(1000)))\n",
    "\n",
    "stime = time.time()\n",
    "dotp = 0\n",
    "for i in range(1000):\n",
    "    dotp += a[i] * b[i]\n",
    "    \n",
    "etime = time.time() - stime\n",
    "\n",
    "print(dotp, etime)\n",
    "\n",
    "stime = time.time()\n",
    "dotp = np.dot(a, b)\n",
    "\n",
    "etime = time.time() - stime\n",
    "print(dotp, etime)"
   ]
  },
  {
   "cell_type": "code",
   "execution_count": null,
   "metadata": {},
   "outputs": [],
   "source": [
    "a = np.ones((3, 4))\n",
    "x = np.ones((4, 3)) * 5\n",
    "\n",
    "print(a)\n",
    "print(x)\n",
    "\n",
    "print(np.dot(a, x))\n",
    "print(a @ x)"
   ]
  },
  {
   "cell_type": "code",
   "execution_count": null,
   "metadata": {},
   "outputs": [],
   "source": [
    "x = np.random.random((5,5)) * 3\n",
    "x @ np.linalg.inv(x)"
   ]
  },
  {
   "cell_type": "code",
   "execution_count": null,
   "metadata": {},
   "outputs": [],
   "source": [
    "a = np.array([[1,2,3,4],[5,6,7,8],[9,10,11,12]])\n",
    "\n",
    "a[a > 4] = 0"
   ]
  },
  {
   "cell_type": "code",
   "execution_count": null,
   "metadata": {},
   "outputs": [],
   "source": [
    "a"
   ]
  },
  {
   "cell_type": "code",
   "execution_count": 1,
   "metadata": {},
   "outputs": [],
   "source": [
    "import matplotlib.pyplot as plt\n",
    "import numpy as np"
   ]
  },
  {
   "cell_type": "code",
   "execution_count": 2,
   "metadata": {},
   "outputs": [
    {
     "name": "stdout",
     "output_type": "stream",
     "text": [
      "[1.        1.1001001 1.2002002 1.3003003 1.4004004 1.5005005 1.6006006\n",
      " 1.7007007 1.8008008 1.9009009]\n"
     ]
    }
   ],
   "source": [
    "a = np.arange(1, 101, 0.3)\n",
    "b = np.linspace(1, 101, 1000)\n",
    "print(b[ : 10])"
   ]
  },
  {
   "cell_type": "code",
   "execution_count": 3,
   "metadata": {},
   "outputs": [
    {
     "name": "stdout",
     "output_type": "stream",
     "text": [
      "[0.  0.1 0.2 0.3 0.4 0.5 0.6 0.7 0.8 0.9]\n",
      "[0.   0.01 0.04 0.09 0.16 0.25 0.36 0.49 0.64 0.81]\n"
     ]
    },
    {
     "data": {
      "image/png": "[encoded data removed]",
      "text/plain": [
       "<Figure size 432x288 with 1 Axes>"
      ]
     },
     "metadata": {},
     "output_type": "display_data"
    }
   ],
   "source": [
    "x = np.arange(0, 1, 0.1)\n",
    "print(x[ : 10])\n",
    "y = x ** 2\n",
    "print(y[ : 10])\n",
    "plt.plot(x, y, label='Square function')\n",
    "plt.plot(x, x ** 3, label = 'Cube function')\n",
    "plt.xlabel('x axis - input')\n",
    "plt.ylabel('y axis - value')\n",
    "plt.legend()\n",
    "plt.savefig('plot.png', dpi=1000, bbox_inches='tight')"
   ]
  },
  {
   "cell_type": "code",
   "execution_count": null,
   "metadata": {},
   "outputs": [],
   "source": []
  },
  {
   "cell_type": "code",
   "execution_count": 4,
   "metadata": {},
   "outputs": [
    {
     "data": {
      "text/plain": [
       "Text(0.5,1,'Cosine')"
      ]
     },
     "execution_count": 4,
     "metadata": {},
     "output_type": "execute_result"
    },
    {
     "data": {
      "image/png": "[encoded data removed]",
      "text/plain": [
       "<Figure size 432x288 with 3 Axes>"
      ]
     },
     "metadata": {},
     "output_type": "display_data"
    }
   ],
   "source": [
    "x = np.linspace(0, 4 * np.pi, 1000)\n",
    "\n",
    "ysin = np.sin(x)\n",
    "ycos = np.cos(x)\n",
    "\n",
    "plt.subplot(2, 2, 1)\n",
    "plt.plot(x, ysin)\n",
    "plt.title('Sine')\n",
    "\n",
    "plt.subplot(2, 2, 2)\n",
    "plt.plot(x, ycos)\n",
    "plt.scatter(x[100], ycos[100])\n",
    "plt.title('Cosine')\n",
    "\n",
    "plt.subplot(2, 2, 3)\n",
    "plt.plot(x, ycos)\n",
    "plt.scatter(x[100], ycos[100])\n",
    "plt.title('Cosine')"
   ]
  },
  {
   "cell_type": "code",
   "execution_count": 10,
   "metadata": {},
   "outputs": [
    {
     "data": {
      "text/plain": [
       "[<matplotlib.lines.Line2D at 0x7f8ac81df358>]"
      ]
     },
     "execution_count": 10,
     "metadata": {},
     "output_type": "execute_result"
    },
    {
     "data": {
      "image/png": "[encoded data removed]",
      "text/plain": [
       "<Figure size 432x288 with 1 Axes>"
      ]
     },
     "metadata": {},
     "output_type": "display_data"
    }
   ],
   "source": [
    "x = np.linspace(0, 1000, 10000)\n",
    "y = x ** 2\n",
    "\n",
    "plt.plot(x, y)"
   ]
  },
  {
   "cell_type": "code",
   "execution_count": 11,
   "metadata": {},
   "outputs": [
    {
     "name": "stdout",
     "output_type": "stream",
     "text": [
      "(10000,)\n",
      "(10000,)\n",
      "[[0.         0.        ]\n",
      " [0.10001    0.010002  ]\n",
      " [0.20002    0.040008  ]\n",
      " [0.30003    0.090018  ]\n",
      " [0.40004    0.160032  ]\n",
      " [0.50005001 0.25005001]\n",
      " [0.60006001 0.36007201]\n",
      " [0.70007001 0.49009801]\n",
      " [0.80008001 0.64012802]\n",
      " [0.90009001 0.81016202]]\n"
     ]
    }
   ],
   "source": [
    "# h(x) = theta0 + theta1 * x\n",
    "print(x.shape)\n",
    "print(y.shape)\n",
    "\n",
    "x = x.reshape((x.shape[0], 1))\n",
    "y = y.reshape((y.shape[0], 1))\n",
    "\n",
    "# print(x.shape)\n",
    "# print(y.shape)\n",
    "\n",
    "theta = np.zeros((2, 1))\n",
    "\n",
    "data = np.append(x, y, axis = 1)\n",
    "print(data[ : 10])"
   ]
  },
  {
   "cell_type": "code",
   "execution_count": null,
   "metadata": {},
   "outputs": [],
   "source": [
    "np.random.shuffle(data)"
   ]
  },
  {
   "cell_type": "code",
   "execution_count": null,
   "metadata": {},
   "outputs": [],
   "source": [
    "data[ : 10]"
   ]
  },
  {
   "cell_type": "code",
   "execution_count": null,
   "metadata": {},
   "outputs": [],
   "source": [
    "x = data[:, 0 : 1]\n",
    "y = data[:, 1 : 2]\n",
    "\n",
    "X = np.append(np.ones((x.shape[0], 1)), x, axis = 1)\n",
    "\n",
    "print(X[ : 10])\n"
   ]
  },
  {
   "cell_type": "code",
   "execution_count": null,
   "metadata": {},
   "outputs": [],
   "source": [
    "def cost(X, theta, y):\n",
    "    return (1 / 2) * np.sum((np.dot(X, theta) - y) ** 2)"
   ]
  },
  {
   "cell_type": "code",
   "execution_count": null,
   "metadata": {},
   "outputs": [],
   "source": [
    "cost(X, theta, y)"
   ]
  },
  {
   "cell_type": "code",
   "execution_count": null,
   "metadata": {},
   "outputs": [],
   "source": [
    "# Inefficient code because of for loop - work out the efficient implementation yourself\n",
    "def grad_cost(X, theta, y):\n",
    "    tmp = np.dot(X, theta) - y\n",
    "    grad_theta = np.zeros((2, 1))\n",
    "    for i in range(tmp.shape[0]):\n",
    "        grad_theta[0] += tmp[i] * X[i, 0]\n",
    "        grad_theta[1] += tmp[i] * X[i, 1]\n",
    "    \n",
    "    return grad_theta"
   ]
  },
  {
   "cell_type": "code",
   "execution_count": null,
   "metadata": {},
   "outputs": [],
   "source": [
    "alpha = 1e-10\n",
    "for i in range(10000):\n",
    "    if i % 1000 == 0:\n",
    "        print('{} steps done'.format(i))\n",
    "    theta -= alpha * grad_cost(X, theta, y)"
   ]
  },
  {
   "cell_type": "code",
   "execution_count": null,
   "metadata": {},
   "outputs": [],
   "source": [
    "theta"
   ]
  },
  {
   "cell_type": "code",
   "execution_count": null,
   "metadata": {},
   "outputs": [],
   "source": [
    "yhyp = np.dot(X, theta)\n",
    "\n",
    "plt.scatter(x, yhyp, s = 2, label='Hypothesis')\n",
    "plt.scatter(x, y, s = 2, label='Function')\n",
    "plt.legend()\n",
    "plt.xlabel('x axis')\n",
    "plt.ylabel('y axis - value')"
   ]
  },
  {
   "cell_type": "code",
   "execution_count": null,
   "metadata": {},
   "outputs": [],
   "source": []
  },
  {
   "cell_type": "code",
   "execution_count": null,
   "metadata": {},
   "outputs": [],
   "source": []
  }
 ],
 "metadata": {
  "kernelspec": {
   "display_name": "Python 3",
   "language": "python",
   "name": "python3"
  },
  "language_info": {
   "codemirror_mode": {
    "name": "ipython",
    "version": 3
   },
   "file_extension": ".py",
   "mimetype": "text/x-python",
   "name": "python",
   "nbconvert_exporter": "python",
   "pygments_lexer": "ipython3",
   "version": "3.6.5"
  }
 },
 "nbformat": 4,
 "nbformat_minor": 2
}
